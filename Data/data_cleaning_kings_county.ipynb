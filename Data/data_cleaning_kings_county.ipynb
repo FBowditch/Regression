{
 "cells": [
  {
   "cell_type": "code",
   "execution_count": 769,
   "metadata": {},
   "outputs": [],
   "source": [
    "\n",
    "kc = pd.read_csv('kc_house_data.csv')"
   ]
  },
  {
   "cell_type": "code",
   "execution_count": 812,
   "metadata": {},
   "outputs": [],
   "source": [
    "import pandas as pd\n",
    "import numpy as np\n",
    "import seaborn as sns\n",
    "import matplotlib.pyplot as plt\n",
    "from sklearn.linear_model import LogisticRegression\n",
    "from statsmodels.formula.api import ols\n",
    "from sklearn.model_selection import train_test_split\n",
    "%matplotlib inline"
   ]
  },
  {
   "cell_type": "code",
   "execution_count": 770,
   "metadata": {},
   "outputs": [
    {
     "data": {
      "text/html": [
       "<div>\n",
       "<style scoped>\n",
       "    .dataframe tbody tr th:only-of-type {\n",
       "        vertical-align: middle;\n",
       "    }\n",
       "\n",
       "    .dataframe tbody tr th {\n",
       "        vertical-align: top;\n",
       "    }\n",
       "\n",
       "    .dataframe thead th {\n",
       "        text-align: right;\n",
       "    }\n",
       "</style>\n",
       "<table border=\"1\" class=\"dataframe\">\n",
       "  <thead>\n",
       "    <tr style=\"text-align: right;\">\n",
       "      <th></th>\n",
       "      <th>id</th>\n",
       "      <th>date</th>\n",
       "      <th>price</th>\n",
       "      <th>bedrooms</th>\n",
       "      <th>bathrooms</th>\n",
       "      <th>sqft_living</th>\n",
       "      <th>sqft_lot</th>\n",
       "      <th>floors</th>\n",
       "      <th>waterfront</th>\n",
       "      <th>view</th>\n",
       "      <th>...</th>\n",
       "      <th>grade</th>\n",
       "      <th>sqft_above</th>\n",
       "      <th>sqft_basement</th>\n",
       "      <th>yr_built</th>\n",
       "      <th>yr_renovated</th>\n",
       "      <th>zipcode</th>\n",
       "      <th>lat</th>\n",
       "      <th>long</th>\n",
       "      <th>sqft_living15</th>\n",
       "      <th>sqft_lot15</th>\n",
       "    </tr>\n",
       "  </thead>\n",
       "  <tbody>\n",
       "    <tr>\n",
       "      <td>0</td>\n",
       "      <td>7129300520</td>\n",
       "      <td>10/13/2014</td>\n",
       "      <td>221900.0</td>\n",
       "      <td>3</td>\n",
       "      <td>1.00</td>\n",
       "      <td>1180</td>\n",
       "      <td>5650</td>\n",
       "      <td>1.0</td>\n",
       "      <td>NaN</td>\n",
       "      <td>0.0</td>\n",
       "      <td>...</td>\n",
       "      <td>7</td>\n",
       "      <td>1180</td>\n",
       "      <td>0.0</td>\n",
       "      <td>1955</td>\n",
       "      <td>0.0</td>\n",
       "      <td>98178</td>\n",
       "      <td>47.5112</td>\n",
       "      <td>-122.257</td>\n",
       "      <td>1340</td>\n",
       "      <td>5650</td>\n",
       "    </tr>\n",
       "    <tr>\n",
       "      <td>1</td>\n",
       "      <td>6414100192</td>\n",
       "      <td>12/9/2014</td>\n",
       "      <td>538000.0</td>\n",
       "      <td>3</td>\n",
       "      <td>2.25</td>\n",
       "      <td>2570</td>\n",
       "      <td>7242</td>\n",
       "      <td>2.0</td>\n",
       "      <td>0.0</td>\n",
       "      <td>0.0</td>\n",
       "      <td>...</td>\n",
       "      <td>7</td>\n",
       "      <td>2170</td>\n",
       "      <td>400.0</td>\n",
       "      <td>1951</td>\n",
       "      <td>1991.0</td>\n",
       "      <td>98125</td>\n",
       "      <td>47.7210</td>\n",
       "      <td>-122.319</td>\n",
       "      <td>1690</td>\n",
       "      <td>7639</td>\n",
       "    </tr>\n",
       "    <tr>\n",
       "      <td>2</td>\n",
       "      <td>5631500400</td>\n",
       "      <td>2/25/2015</td>\n",
       "      <td>180000.0</td>\n",
       "      <td>2</td>\n",
       "      <td>1.00</td>\n",
       "      <td>770</td>\n",
       "      <td>10000</td>\n",
       "      <td>1.0</td>\n",
       "      <td>0.0</td>\n",
       "      <td>0.0</td>\n",
       "      <td>...</td>\n",
       "      <td>6</td>\n",
       "      <td>770</td>\n",
       "      <td>0.0</td>\n",
       "      <td>1933</td>\n",
       "      <td>NaN</td>\n",
       "      <td>98028</td>\n",
       "      <td>47.7379</td>\n",
       "      <td>-122.233</td>\n",
       "      <td>2720</td>\n",
       "      <td>8062</td>\n",
       "    </tr>\n",
       "    <tr>\n",
       "      <td>3</td>\n",
       "      <td>2487200875</td>\n",
       "      <td>12/9/2014</td>\n",
       "      <td>604000.0</td>\n",
       "      <td>4</td>\n",
       "      <td>3.00</td>\n",
       "      <td>1960</td>\n",
       "      <td>5000</td>\n",
       "      <td>1.0</td>\n",
       "      <td>0.0</td>\n",
       "      <td>0.0</td>\n",
       "      <td>...</td>\n",
       "      <td>7</td>\n",
       "      <td>1050</td>\n",
       "      <td>910.0</td>\n",
       "      <td>1965</td>\n",
       "      <td>0.0</td>\n",
       "      <td>98136</td>\n",
       "      <td>47.5208</td>\n",
       "      <td>-122.393</td>\n",
       "      <td>1360</td>\n",
       "      <td>5000</td>\n",
       "    </tr>\n",
       "    <tr>\n",
       "      <td>4</td>\n",
       "      <td>1954400510</td>\n",
       "      <td>2/18/2015</td>\n",
       "      <td>510000.0</td>\n",
       "      <td>3</td>\n",
       "      <td>2.00</td>\n",
       "      <td>1680</td>\n",
       "      <td>8080</td>\n",
       "      <td>1.0</td>\n",
       "      <td>0.0</td>\n",
       "      <td>0.0</td>\n",
       "      <td>...</td>\n",
       "      <td>8</td>\n",
       "      <td>1680</td>\n",
       "      <td>0.0</td>\n",
       "      <td>1987</td>\n",
       "      <td>0.0</td>\n",
       "      <td>98074</td>\n",
       "      <td>47.6168</td>\n",
       "      <td>-122.045</td>\n",
       "      <td>1800</td>\n",
       "      <td>7503</td>\n",
       "    </tr>\n",
       "  </tbody>\n",
       "</table>\n",
       "<p>5 rows × 21 columns</p>\n",
       "</div>"
      ],
      "text/plain": [
       "           id        date     price  bedrooms  bathrooms  sqft_living  \\\n",
       "0  7129300520  10/13/2014  221900.0         3       1.00         1180   \n",
       "1  6414100192   12/9/2014  538000.0         3       2.25         2570   \n",
       "2  5631500400   2/25/2015  180000.0         2       1.00          770   \n",
       "3  2487200875   12/9/2014  604000.0         4       3.00         1960   \n",
       "4  1954400510   2/18/2015  510000.0         3       2.00         1680   \n",
       "\n",
       "   sqft_lot  floors  waterfront  view  ...  grade  sqft_above  sqft_basement  \\\n",
       "0      5650     1.0         NaN   0.0  ...      7        1180            0.0   \n",
       "1      7242     2.0         0.0   0.0  ...      7        2170          400.0   \n",
       "2     10000     1.0         0.0   0.0  ...      6         770            0.0   \n",
       "3      5000     1.0         0.0   0.0  ...      7        1050          910.0   \n",
       "4      8080     1.0         0.0   0.0  ...      8        1680            0.0   \n",
       "\n",
       "  yr_built  yr_renovated  zipcode      lat     long  sqft_living15  sqft_lot15  \n",
       "0     1955           0.0    98178  47.5112 -122.257           1340        5650  \n",
       "1     1951        1991.0    98125  47.7210 -122.319           1690        7639  \n",
       "2     1933           NaN    98028  47.7379 -122.233           2720        8062  \n",
       "3     1965           0.0    98136  47.5208 -122.393           1360        5000  \n",
       "4     1987           0.0    98074  47.6168 -122.045           1800        7503  \n",
       "\n",
       "[5 rows x 21 columns]"
      ]
     },
     "execution_count": 770,
     "metadata": {},
     "output_type": "execute_result"
    }
   ],
   "source": [
    "kc.head()"
   ]
  },
  {
   "cell_type": "code",
   "execution_count": 771,
   "metadata": {},
   "outputs": [
    {
     "name": "stdout",
     "output_type": "stream",
     "text": [
      "<class 'pandas.core.frame.DataFrame'>\n",
      "RangeIndex: 21597 entries, 0 to 21596\n",
      "Data columns (total 21 columns):\n",
      "id               21597 non-null int64\n",
      "date             21597 non-null object\n",
      "price            21597 non-null float64\n",
      "bedrooms         21597 non-null int64\n",
      "bathrooms        21597 non-null float64\n",
      "sqft_living      21597 non-null int64\n",
      "sqft_lot         21597 non-null int64\n",
      "floors           21597 non-null float64\n",
      "waterfront       19221 non-null float64\n",
      "view             21534 non-null float64\n",
      "condition        21597 non-null int64\n",
      "grade            21597 non-null int64\n",
      "sqft_above       21597 non-null int64\n",
      "sqft_basement    21597 non-null object\n",
      "yr_built         21597 non-null int64\n",
      "yr_renovated     17755 non-null float64\n",
      "zipcode          21597 non-null int64\n",
      "lat              21597 non-null float64\n",
      "long             21597 non-null float64\n",
      "sqft_living15    21597 non-null int64\n",
      "sqft_lot15       21597 non-null int64\n",
      "dtypes: float64(8), int64(11), object(2)\n",
      "memory usage: 3.5+ MB\n"
     ]
    }
   ],
   "source": [
    "kc.info()"
   ]
  },
  {
   "cell_type": "code",
   "execution_count": 772,
   "metadata": {},
   "outputs": [
    {
     "data": {
      "text/html": [
       "<div>\n",
       "<style scoped>\n",
       "    .dataframe tbody tr th:only-of-type {\n",
       "        vertical-align: middle;\n",
       "    }\n",
       "\n",
       "    .dataframe tbody tr th {\n",
       "        vertical-align: top;\n",
       "    }\n",
       "\n",
       "    .dataframe thead th {\n",
       "        text-align: right;\n",
       "    }\n",
       "</style>\n",
       "<table border=\"1\" class=\"dataframe\">\n",
       "  <thead>\n",
       "    <tr style=\"text-align: right;\">\n",
       "      <th></th>\n",
       "      <th>id</th>\n",
       "      <th>price</th>\n",
       "      <th>bedrooms</th>\n",
       "      <th>bathrooms</th>\n",
       "      <th>sqft_living</th>\n",
       "      <th>sqft_lot</th>\n",
       "      <th>floors</th>\n",
       "      <th>waterfront</th>\n",
       "      <th>view</th>\n",
       "      <th>condition</th>\n",
       "      <th>grade</th>\n",
       "      <th>sqft_above</th>\n",
       "      <th>yr_built</th>\n",
       "      <th>yr_renovated</th>\n",
       "      <th>zipcode</th>\n",
       "      <th>lat</th>\n",
       "      <th>long</th>\n",
       "      <th>sqft_living15</th>\n",
       "      <th>sqft_lot15</th>\n",
       "    </tr>\n",
       "  </thead>\n",
       "  <tbody>\n",
       "    <tr>\n",
       "      <td>count</td>\n",
       "      <td>2.159700e+04</td>\n",
       "      <td>2.159700e+04</td>\n",
       "      <td>21597.000000</td>\n",
       "      <td>21597.000000</td>\n",
       "      <td>21597.000000</td>\n",
       "      <td>2.159700e+04</td>\n",
       "      <td>21597.000000</td>\n",
       "      <td>19221.000000</td>\n",
       "      <td>21534.000000</td>\n",
       "      <td>21597.000000</td>\n",
       "      <td>21597.000000</td>\n",
       "      <td>21597.000000</td>\n",
       "      <td>21597.000000</td>\n",
       "      <td>17755.000000</td>\n",
       "      <td>21597.000000</td>\n",
       "      <td>21597.000000</td>\n",
       "      <td>21597.000000</td>\n",
       "      <td>21597.000000</td>\n",
       "      <td>21597.000000</td>\n",
       "    </tr>\n",
       "    <tr>\n",
       "      <td>mean</td>\n",
       "      <td>4.580474e+09</td>\n",
       "      <td>5.402966e+05</td>\n",
       "      <td>3.373200</td>\n",
       "      <td>2.115826</td>\n",
       "      <td>2080.321850</td>\n",
       "      <td>1.509941e+04</td>\n",
       "      <td>1.494096</td>\n",
       "      <td>0.007596</td>\n",
       "      <td>0.233863</td>\n",
       "      <td>3.409825</td>\n",
       "      <td>7.657915</td>\n",
       "      <td>1788.596842</td>\n",
       "      <td>1970.999676</td>\n",
       "      <td>83.636778</td>\n",
       "      <td>98077.951845</td>\n",
       "      <td>47.560093</td>\n",
       "      <td>-122.213982</td>\n",
       "      <td>1986.620318</td>\n",
       "      <td>12758.283512</td>\n",
       "    </tr>\n",
       "    <tr>\n",
       "      <td>std</td>\n",
       "      <td>2.876736e+09</td>\n",
       "      <td>3.673681e+05</td>\n",
       "      <td>0.926299</td>\n",
       "      <td>0.768984</td>\n",
       "      <td>918.106125</td>\n",
       "      <td>4.141264e+04</td>\n",
       "      <td>0.539683</td>\n",
       "      <td>0.086825</td>\n",
       "      <td>0.765686</td>\n",
       "      <td>0.650546</td>\n",
       "      <td>1.173200</td>\n",
       "      <td>827.759761</td>\n",
       "      <td>29.375234</td>\n",
       "      <td>399.946414</td>\n",
       "      <td>53.513072</td>\n",
       "      <td>0.138552</td>\n",
       "      <td>0.140724</td>\n",
       "      <td>685.230472</td>\n",
       "      <td>27274.441950</td>\n",
       "    </tr>\n",
       "    <tr>\n",
       "      <td>min</td>\n",
       "      <td>1.000102e+06</td>\n",
       "      <td>7.800000e+04</td>\n",
       "      <td>1.000000</td>\n",
       "      <td>0.500000</td>\n",
       "      <td>370.000000</td>\n",
       "      <td>5.200000e+02</td>\n",
       "      <td>1.000000</td>\n",
       "      <td>0.000000</td>\n",
       "      <td>0.000000</td>\n",
       "      <td>1.000000</td>\n",
       "      <td>3.000000</td>\n",
       "      <td>370.000000</td>\n",
       "      <td>1900.000000</td>\n",
       "      <td>0.000000</td>\n",
       "      <td>98001.000000</td>\n",
       "      <td>47.155900</td>\n",
       "      <td>-122.519000</td>\n",
       "      <td>399.000000</td>\n",
       "      <td>651.000000</td>\n",
       "    </tr>\n",
       "    <tr>\n",
       "      <td>25%</td>\n",
       "      <td>2.123049e+09</td>\n",
       "      <td>3.220000e+05</td>\n",
       "      <td>3.000000</td>\n",
       "      <td>1.750000</td>\n",
       "      <td>1430.000000</td>\n",
       "      <td>5.040000e+03</td>\n",
       "      <td>1.000000</td>\n",
       "      <td>0.000000</td>\n",
       "      <td>0.000000</td>\n",
       "      <td>3.000000</td>\n",
       "      <td>7.000000</td>\n",
       "      <td>1190.000000</td>\n",
       "      <td>1951.000000</td>\n",
       "      <td>0.000000</td>\n",
       "      <td>98033.000000</td>\n",
       "      <td>47.471100</td>\n",
       "      <td>-122.328000</td>\n",
       "      <td>1490.000000</td>\n",
       "      <td>5100.000000</td>\n",
       "    </tr>\n",
       "    <tr>\n",
       "      <td>50%</td>\n",
       "      <td>3.904930e+09</td>\n",
       "      <td>4.500000e+05</td>\n",
       "      <td>3.000000</td>\n",
       "      <td>2.250000</td>\n",
       "      <td>1910.000000</td>\n",
       "      <td>7.618000e+03</td>\n",
       "      <td>1.500000</td>\n",
       "      <td>0.000000</td>\n",
       "      <td>0.000000</td>\n",
       "      <td>3.000000</td>\n",
       "      <td>7.000000</td>\n",
       "      <td>1560.000000</td>\n",
       "      <td>1975.000000</td>\n",
       "      <td>0.000000</td>\n",
       "      <td>98065.000000</td>\n",
       "      <td>47.571800</td>\n",
       "      <td>-122.231000</td>\n",
       "      <td>1840.000000</td>\n",
       "      <td>7620.000000</td>\n",
       "    </tr>\n",
       "    <tr>\n",
       "      <td>75%</td>\n",
       "      <td>7.308900e+09</td>\n",
       "      <td>6.450000e+05</td>\n",
       "      <td>4.000000</td>\n",
       "      <td>2.500000</td>\n",
       "      <td>2550.000000</td>\n",
       "      <td>1.068500e+04</td>\n",
       "      <td>2.000000</td>\n",
       "      <td>0.000000</td>\n",
       "      <td>0.000000</td>\n",
       "      <td>4.000000</td>\n",
       "      <td>8.000000</td>\n",
       "      <td>2210.000000</td>\n",
       "      <td>1997.000000</td>\n",
       "      <td>0.000000</td>\n",
       "      <td>98118.000000</td>\n",
       "      <td>47.678000</td>\n",
       "      <td>-122.125000</td>\n",
       "      <td>2360.000000</td>\n",
       "      <td>10083.000000</td>\n",
       "    </tr>\n",
       "    <tr>\n",
       "      <td>max</td>\n",
       "      <td>9.900000e+09</td>\n",
       "      <td>7.700000e+06</td>\n",
       "      <td>33.000000</td>\n",
       "      <td>8.000000</td>\n",
       "      <td>13540.000000</td>\n",
       "      <td>1.651359e+06</td>\n",
       "      <td>3.500000</td>\n",
       "      <td>1.000000</td>\n",
       "      <td>4.000000</td>\n",
       "      <td>5.000000</td>\n",
       "      <td>13.000000</td>\n",
       "      <td>9410.000000</td>\n",
       "      <td>2015.000000</td>\n",
       "      <td>2015.000000</td>\n",
       "      <td>98199.000000</td>\n",
       "      <td>47.777600</td>\n",
       "      <td>-121.315000</td>\n",
       "      <td>6210.000000</td>\n",
       "      <td>871200.000000</td>\n",
       "    </tr>\n",
       "  </tbody>\n",
       "</table>\n",
       "</div>"
      ],
      "text/plain": [
       "                 id         price      bedrooms     bathrooms   sqft_living  \\\n",
       "count  2.159700e+04  2.159700e+04  21597.000000  21597.000000  21597.000000   \n",
       "mean   4.580474e+09  5.402966e+05      3.373200      2.115826   2080.321850   \n",
       "std    2.876736e+09  3.673681e+05      0.926299      0.768984    918.106125   \n",
       "min    1.000102e+06  7.800000e+04      1.000000      0.500000    370.000000   \n",
       "25%    2.123049e+09  3.220000e+05      3.000000      1.750000   1430.000000   \n",
       "50%    3.904930e+09  4.500000e+05      3.000000      2.250000   1910.000000   \n",
       "75%    7.308900e+09  6.450000e+05      4.000000      2.500000   2550.000000   \n",
       "max    9.900000e+09  7.700000e+06     33.000000      8.000000  13540.000000   \n",
       "\n",
       "           sqft_lot        floors    waterfront          view     condition  \\\n",
       "count  2.159700e+04  21597.000000  19221.000000  21534.000000  21597.000000   \n",
       "mean   1.509941e+04      1.494096      0.007596      0.233863      3.409825   \n",
       "std    4.141264e+04      0.539683      0.086825      0.765686      0.650546   \n",
       "min    5.200000e+02      1.000000      0.000000      0.000000      1.000000   \n",
       "25%    5.040000e+03      1.000000      0.000000      0.000000      3.000000   \n",
       "50%    7.618000e+03      1.500000      0.000000      0.000000      3.000000   \n",
       "75%    1.068500e+04      2.000000      0.000000      0.000000      4.000000   \n",
       "max    1.651359e+06      3.500000      1.000000      4.000000      5.000000   \n",
       "\n",
       "              grade    sqft_above      yr_built  yr_renovated       zipcode  \\\n",
       "count  21597.000000  21597.000000  21597.000000  17755.000000  21597.000000   \n",
       "mean       7.657915   1788.596842   1970.999676     83.636778  98077.951845   \n",
       "std        1.173200    827.759761     29.375234    399.946414     53.513072   \n",
       "min        3.000000    370.000000   1900.000000      0.000000  98001.000000   \n",
       "25%        7.000000   1190.000000   1951.000000      0.000000  98033.000000   \n",
       "50%        7.000000   1560.000000   1975.000000      0.000000  98065.000000   \n",
       "75%        8.000000   2210.000000   1997.000000      0.000000  98118.000000   \n",
       "max       13.000000   9410.000000   2015.000000   2015.000000  98199.000000   \n",
       "\n",
       "                lat          long  sqft_living15     sqft_lot15  \n",
       "count  21597.000000  21597.000000   21597.000000   21597.000000  \n",
       "mean      47.560093   -122.213982    1986.620318   12758.283512  \n",
       "std        0.138552      0.140724     685.230472   27274.441950  \n",
       "min       47.155900   -122.519000     399.000000     651.000000  \n",
       "25%       47.471100   -122.328000    1490.000000    5100.000000  \n",
       "50%       47.571800   -122.231000    1840.000000    7620.000000  \n",
       "75%       47.678000   -122.125000    2360.000000   10083.000000  \n",
       "max       47.777600   -121.315000    6210.000000  871200.000000  "
      ]
     },
     "execution_count": 772,
     "metadata": {},
     "output_type": "execute_result"
    }
   ],
   "source": [
    "kc.describe()"
   ]
  },
  {
   "cell_type": "markdown",
   "metadata": {},
   "source": [
    "# Looking at each variable - initial changes made below"
   ]
  },
  {
   "cell_type": "markdown",
   "metadata": {},
   "source": [
    "### Date"
   ]
  },
  {
   "cell_type": "code",
   "execution_count": 773,
   "metadata": {},
   "outputs": [],
   "source": [
    "#change to datetime"
   ]
  },
  {
   "cell_type": "code",
   "execution_count": 774,
   "metadata": {},
   "outputs": [],
   "source": [
    "kc['date'] = pd.to_datetime(kc['date'])"
   ]
  },
  {
   "cell_type": "markdown",
   "metadata": {},
   "source": [
    "### Sqft_Basement"
   ]
  },
  {
   "cell_type": "code",
   "execution_count": 775,
   "metadata": {},
   "outputs": [],
   "source": [
    "##replaced ? (434) with 0"
   ]
  },
  {
   "cell_type": "code",
   "execution_count": 776,
   "metadata": {},
   "outputs": [
    {
     "data": {
      "text/plain": [
       "0.0       12826\n",
       "?           454\n",
       "600.0       217\n",
       "500.0       209\n",
       "700.0       208\n",
       "          ...  \n",
       "274.0         1\n",
       "1960.0        1\n",
       "2610.0        1\n",
       "1913.0        1\n",
       "2810.0        1\n",
       "Name: sqft_basement, Length: 304, dtype: int64"
      ]
     },
     "execution_count": 776,
     "metadata": {},
     "output_type": "execute_result"
    }
   ],
   "source": [
    "kc['sqft_basement'].value_counts()"
   ]
  },
  {
   "cell_type": "code",
   "execution_count": 777,
   "metadata": {},
   "outputs": [],
   "source": [
    "kc['sqft_basement'].replace({'?': 0}, inplace = True)"
   ]
  },
  {
   "cell_type": "code",
   "execution_count": 779,
   "metadata": {},
   "outputs": [],
   "source": [
    "##changed to float and all values over 0 to 1 - if basement yes if not no"
   ]
  },
  {
   "cell_type": "code",
   "execution_count": 780,
   "metadata": {},
   "outputs": [],
   "source": [
    "kc['sqft_basement'] = kc['sqft_basement'].astype(float)"
   ]
  },
  {
   "cell_type": "code",
   "execution_count": 781,
   "metadata": {},
   "outputs": [],
   "source": [
    "kc['sqft_basement'].values[kc['sqft_basement'].values > 0] = 1"
   ]
  },
  {
   "cell_type": "code",
   "execution_count": 782,
   "metadata": {},
   "outputs": [],
   "source": [
    "#change to category type"
   ]
  },
  {
   "cell_type": "code",
   "execution_count": 783,
   "metadata": {},
   "outputs": [],
   "source": [
    "kc['sqft_basement'] = kc['sqft_basement'].astype('category')"
   ]
  },
  {
   "cell_type": "code",
   "execution_count": 784,
   "metadata": {},
   "outputs": [
    {
     "data": {
      "text/plain": [
       "CategoricalDtype(categories=[0.0, 1.0], ordered=False)"
      ]
     },
     "execution_count": 784,
     "metadata": {},
     "output_type": "execute_result"
    }
   ],
   "source": [
    "kc['sqft_basement'].dtype"
   ]
  },
  {
   "cell_type": "markdown",
   "metadata": {},
   "source": [
    "### Waterfront View"
   ]
  },
  {
   "cell_type": "code",
   "execution_count": 785,
   "metadata": {},
   "outputs": [],
   "source": [
    "# replaced NaN with 0 --> Binary (1,0) For view of waterfront"
   ]
  },
  {
   "cell_type": "code",
   "execution_count": 786,
   "metadata": {},
   "outputs": [],
   "source": [
    "kc['waterfront'].fillna(0, inplace = True) "
   ]
  },
  {
   "cell_type": "code",
   "execution_count": 787,
   "metadata": {},
   "outputs": [],
   "source": [
    "#change to category variable"
   ]
  },
  {
   "cell_type": "code",
   "execution_count": 788,
   "metadata": {},
   "outputs": [],
   "source": [
    "kc['waterfront'] = kc['waterfront'].astype('category')"
   ]
  },
  {
   "cell_type": "code",
   "execution_count": 789,
   "metadata": {},
   "outputs": [
    {
     "data": {
      "text/plain": [
       "CategoricalDtype(categories=[0.0, 1.0], ordered=False)"
      ]
     },
     "execution_count": 789,
     "metadata": {},
     "output_type": "execute_result"
    }
   ],
   "source": [
    "kc['waterfront'].dtype"
   ]
  },
  {
   "cell_type": "markdown",
   "metadata": {},
   "source": [
    "### Grade"
   ]
  },
  {
   "cell_type": "code",
   "execution_count": 790,
   "metadata": {},
   "outputs": [],
   "source": [
    "#Changed 3-13 Grade --> 0-10"
   ]
  },
  {
   "cell_type": "code",
   "execution_count": 791,
   "metadata": {},
   "outputs": [],
   "source": [
    "kc['grade'] = kc['grade'].apply(lambda x: x -3)"
   ]
  },
  {
   "cell_type": "code",
   "execution_count": 836,
   "metadata": {},
   "outputs": [
    {
     "data": {
      "text/plain": [
       "4     8974\n",
       "5     6065\n",
       "6     2615\n",
       "3     2038\n",
       "7     1134\n",
       "8      399\n",
       "2      242\n",
       "9       89\n",
       "1       27\n",
       "10      13\n",
       "0        1\n",
       "Name: grade, dtype: int64"
      ]
     },
     "execution_count": 836,
     "metadata": {},
     "output_type": "execute_result"
    }
   ],
   "source": [
    "kc['grade'].value_counts()"
   ]
  },
  {
   "cell_type": "markdown",
   "metadata": {},
   "source": [
    "### View (Tour Rating)"
   ]
  },
  {
   "cell_type": "code",
   "execution_count": 793,
   "metadata": {},
   "outputs": [],
   "source": [
    "#Scaled 0 - 4 (0 no tour, 1 bad tour ... 4 excellent tour)"
   ]
  },
  {
   "cell_type": "code",
   "execution_count": 794,
   "metadata": {},
   "outputs": [
    {
     "data": {
      "text/plain": [
       "0.0    19422\n",
       "2.0      957\n",
       "3.0      508\n",
       "1.0      330\n",
       "4.0      317\n",
       "Name: view, dtype: int64"
      ]
     },
     "execution_count": 794,
     "metadata": {},
     "output_type": "execute_result"
    }
   ],
   "source": [
    "kc['view'].value_counts()"
   ]
  },
  {
   "cell_type": "code",
   "execution_count": 833,
   "metadata": {},
   "outputs": [
    {
     "data": {
      "text/plain": [
       "0"
      ]
     },
     "execution_count": 833,
     "metadata": {},
     "output_type": "execute_result"
    }
   ],
   "source": [
    "kc['view'].isnull().sum()"
   ]
  },
  {
   "cell_type": "code",
   "execution_count": 834,
   "metadata": {},
   "outputs": [],
   "source": [
    "kc['view'].fillna(0, inplace = True) "
   ]
  },
  {
   "cell_type": "code",
   "execution_count": 835,
   "metadata": {
    "scrolled": true
   },
   "outputs": [
    {
     "data": {
      "text/plain": [
       "3    14020\n",
       "4     5677\n",
       "5     1701\n",
       "2      170\n",
       "1       29\n",
       "Name: condition, dtype: int64"
      ]
     },
     "execution_count": 835,
     "metadata": {},
     "output_type": "execute_result"
    }
   ],
   "source": [
    "kc['condition'].value_counts()"
   ]
  },
  {
   "cell_type": "markdown",
   "metadata": {},
   "source": [
    "## Year Built "
   ]
  },
  {
   "cell_type": "markdown",
   "metadata": {},
   "source": [
    "##### Change Year Built to 'How Old'"
   ]
  },
  {
   "cell_type": "code",
   "execution_count": 853,
   "metadata": {
    "scrolled": true
   },
   "outputs": [],
   "source": [
    "kc['yr_built'] = kc['yr_built'].apply(lambda x: 2015-x)"
   ]
  },
  {
   "cell_type": "code",
   "execution_count": 854,
   "metadata": {
    "scrolled": true
   },
   "outputs": [
    {
     "data": {
      "text/plain": [
       "count    21597.000000\n",
       "mean        44.000324\n",
       "std         29.375234\n",
       "min          0.000000\n",
       "25%         18.000000\n",
       "50%         40.000000\n",
       "75%         64.000000\n",
       "max        115.000000\n",
       "Name: yr_built, dtype: float64"
      ]
     },
     "execution_count": 854,
     "metadata": {},
     "output_type": "execute_result"
    }
   ],
   "source": [
    "kc['yr_built'].describe()"
   ]
  },
  {
   "cell_type": "markdown",
   "metadata": {},
   "source": [
    "# Renaming Columns"
   ]
  },
  {
   "cell_type": "code",
   "execution_count": 857,
   "metadata": {},
   "outputs": [],
   "source": [
    "kc.rename(columns={'view': 'Tour_Rating', 'grade': 'Assoc_Rating', 'yr_built': 'Age'}, inplace=True)"
   ]
  },
  {
   "cell_type": "markdown",
   "metadata": {},
   "source": [
    "# Initial Dropping Columns\n",
    "* id - irrelevant index\n",
    "* yr_renovated - Missing 3.5k data points and 17k equals zero and cannot \n",
    "* sqft_above - have total sqft living and yes or no basement"
   ]
  },
  {
   "cell_type": "code",
   "execution_count": 943,
   "metadata": {
    "collapsed": true
   },
   "outputs": [
    {
     "ename": "KeyError",
     "evalue": "\"['yr_renovated' 'id'] not found in axis\"",
     "output_type": "error",
     "traceback": [
      "\u001b[0;31m---------------------------------------------------------------------------\u001b[0m",
      "\u001b[0;31mKeyError\u001b[0m                                  Traceback (most recent call last)",
      "\u001b[0;32m<ipython-input-943-fbdc7b5fb806>\u001b[0m in \u001b[0;36m<module>\u001b[0;34m\u001b[0m\n\u001b[0;32m----> 1\u001b[0;31m \u001b[0mkc\u001b[0m\u001b[0;34m.\u001b[0m\u001b[0mdrop\u001b[0m\u001b[0;34m(\u001b[0m\u001b[0;34m[\u001b[0m\u001b[0;34m'yr_renovated'\u001b[0m\u001b[0;34m,\u001b[0m\u001b[0;34m'id'\u001b[0m\u001b[0;34m]\u001b[0m\u001b[0;34m,\u001b[0m \u001b[0maxis\u001b[0m\u001b[0;34m=\u001b[0m\u001b[0;36m1\u001b[0m\u001b[0;34m,\u001b[0m \u001b[0minplace\u001b[0m \u001b[0;34m=\u001b[0m \u001b[0;32mTrue\u001b[0m\u001b[0;34m)\u001b[0m\u001b[0;34m\u001b[0m\u001b[0;34m\u001b[0m\u001b[0m\n\u001b[0m",
      "\u001b[0;32m~/opt/anaconda3/lib/python3.7/site-packages/pandas/core/frame.py\u001b[0m in \u001b[0;36mdrop\u001b[0;34m(self, labels, axis, index, columns, level, inplace, errors)\u001b[0m\n\u001b[1;32m   4100\u001b[0m             \u001b[0mlevel\u001b[0m\u001b[0;34m=\u001b[0m\u001b[0mlevel\u001b[0m\u001b[0;34m,\u001b[0m\u001b[0;34m\u001b[0m\u001b[0;34m\u001b[0m\u001b[0m\n\u001b[1;32m   4101\u001b[0m             \u001b[0minplace\u001b[0m\u001b[0;34m=\u001b[0m\u001b[0minplace\u001b[0m\u001b[0;34m,\u001b[0m\u001b[0;34m\u001b[0m\u001b[0;34m\u001b[0m\u001b[0m\n\u001b[0;32m-> 4102\u001b[0;31m             \u001b[0merrors\u001b[0m\u001b[0;34m=\u001b[0m\u001b[0merrors\u001b[0m\u001b[0;34m,\u001b[0m\u001b[0;34m\u001b[0m\u001b[0;34m\u001b[0m\u001b[0m\n\u001b[0m\u001b[1;32m   4103\u001b[0m         )\n\u001b[1;32m   4104\u001b[0m \u001b[0;34m\u001b[0m\u001b[0m\n",
      "\u001b[0;32m~/opt/anaconda3/lib/python3.7/site-packages/pandas/core/generic.py\u001b[0m in \u001b[0;36mdrop\u001b[0;34m(self, labels, axis, index, columns, level, inplace, errors)\u001b[0m\n\u001b[1;32m   3912\u001b[0m         \u001b[0;32mfor\u001b[0m \u001b[0maxis\u001b[0m\u001b[0;34m,\u001b[0m \u001b[0mlabels\u001b[0m \u001b[0;32min\u001b[0m \u001b[0maxes\u001b[0m\u001b[0;34m.\u001b[0m\u001b[0mitems\u001b[0m\u001b[0;34m(\u001b[0m\u001b[0;34m)\u001b[0m\u001b[0;34m:\u001b[0m\u001b[0;34m\u001b[0m\u001b[0;34m\u001b[0m\u001b[0m\n\u001b[1;32m   3913\u001b[0m             \u001b[0;32mif\u001b[0m \u001b[0mlabels\u001b[0m \u001b[0;32mis\u001b[0m \u001b[0;32mnot\u001b[0m \u001b[0;32mNone\u001b[0m\u001b[0;34m:\u001b[0m\u001b[0;34m\u001b[0m\u001b[0;34m\u001b[0m\u001b[0m\n\u001b[0;32m-> 3914\u001b[0;31m                 \u001b[0mobj\u001b[0m \u001b[0;34m=\u001b[0m \u001b[0mobj\u001b[0m\u001b[0;34m.\u001b[0m\u001b[0m_drop_axis\u001b[0m\u001b[0;34m(\u001b[0m\u001b[0mlabels\u001b[0m\u001b[0;34m,\u001b[0m \u001b[0maxis\u001b[0m\u001b[0;34m,\u001b[0m \u001b[0mlevel\u001b[0m\u001b[0;34m=\u001b[0m\u001b[0mlevel\u001b[0m\u001b[0;34m,\u001b[0m \u001b[0merrors\u001b[0m\u001b[0;34m=\u001b[0m\u001b[0merrors\u001b[0m\u001b[0;34m)\u001b[0m\u001b[0;34m\u001b[0m\u001b[0;34m\u001b[0m\u001b[0m\n\u001b[0m\u001b[1;32m   3915\u001b[0m \u001b[0;34m\u001b[0m\u001b[0m\n\u001b[1;32m   3916\u001b[0m         \u001b[0;32mif\u001b[0m \u001b[0minplace\u001b[0m\u001b[0;34m:\u001b[0m\u001b[0;34m\u001b[0m\u001b[0;34m\u001b[0m\u001b[0m\n",
      "\u001b[0;32m~/opt/anaconda3/lib/python3.7/site-packages/pandas/core/generic.py\u001b[0m in \u001b[0;36m_drop_axis\u001b[0;34m(self, labels, axis, level, errors)\u001b[0m\n\u001b[1;32m   3944\u001b[0m                 \u001b[0mnew_axis\u001b[0m \u001b[0;34m=\u001b[0m \u001b[0maxis\u001b[0m\u001b[0;34m.\u001b[0m\u001b[0mdrop\u001b[0m\u001b[0;34m(\u001b[0m\u001b[0mlabels\u001b[0m\u001b[0;34m,\u001b[0m \u001b[0mlevel\u001b[0m\u001b[0;34m=\u001b[0m\u001b[0mlevel\u001b[0m\u001b[0;34m,\u001b[0m \u001b[0merrors\u001b[0m\u001b[0;34m=\u001b[0m\u001b[0merrors\u001b[0m\u001b[0;34m)\u001b[0m\u001b[0;34m\u001b[0m\u001b[0;34m\u001b[0m\u001b[0m\n\u001b[1;32m   3945\u001b[0m             \u001b[0;32melse\u001b[0m\u001b[0;34m:\u001b[0m\u001b[0;34m\u001b[0m\u001b[0;34m\u001b[0m\u001b[0m\n\u001b[0;32m-> 3946\u001b[0;31m                 \u001b[0mnew_axis\u001b[0m \u001b[0;34m=\u001b[0m \u001b[0maxis\u001b[0m\u001b[0;34m.\u001b[0m\u001b[0mdrop\u001b[0m\u001b[0;34m(\u001b[0m\u001b[0mlabels\u001b[0m\u001b[0;34m,\u001b[0m \u001b[0merrors\u001b[0m\u001b[0;34m=\u001b[0m\u001b[0merrors\u001b[0m\u001b[0;34m)\u001b[0m\u001b[0;34m\u001b[0m\u001b[0;34m\u001b[0m\u001b[0m\n\u001b[0m\u001b[1;32m   3947\u001b[0m             \u001b[0mresult\u001b[0m \u001b[0;34m=\u001b[0m \u001b[0mself\u001b[0m\u001b[0;34m.\u001b[0m\u001b[0mreindex\u001b[0m\u001b[0;34m(\u001b[0m\u001b[0;34m**\u001b[0m\u001b[0;34m{\u001b[0m\u001b[0maxis_name\u001b[0m\u001b[0;34m:\u001b[0m \u001b[0mnew_axis\u001b[0m\u001b[0;34m}\u001b[0m\u001b[0;34m)\u001b[0m\u001b[0;34m\u001b[0m\u001b[0;34m\u001b[0m\u001b[0m\n\u001b[1;32m   3948\u001b[0m \u001b[0;34m\u001b[0m\u001b[0m\n",
      "\u001b[0;32m~/opt/anaconda3/lib/python3.7/site-packages/pandas/core/indexes/base.py\u001b[0m in \u001b[0;36mdrop\u001b[0;34m(self, labels, errors)\u001b[0m\n\u001b[1;32m   5338\u001b[0m         \u001b[0;32mif\u001b[0m \u001b[0mmask\u001b[0m\u001b[0;34m.\u001b[0m\u001b[0many\u001b[0m\u001b[0;34m(\u001b[0m\u001b[0;34m)\u001b[0m\u001b[0;34m:\u001b[0m\u001b[0;34m\u001b[0m\u001b[0;34m\u001b[0m\u001b[0m\n\u001b[1;32m   5339\u001b[0m             \u001b[0;32mif\u001b[0m \u001b[0merrors\u001b[0m \u001b[0;34m!=\u001b[0m \u001b[0;34m\"ignore\"\u001b[0m\u001b[0;34m:\u001b[0m\u001b[0;34m\u001b[0m\u001b[0;34m\u001b[0m\u001b[0m\n\u001b[0;32m-> 5340\u001b[0;31m                 \u001b[0;32mraise\u001b[0m \u001b[0mKeyError\u001b[0m\u001b[0;34m(\u001b[0m\u001b[0;34m\"{} not found in axis\"\u001b[0m\u001b[0;34m.\u001b[0m\u001b[0mformat\u001b[0m\u001b[0;34m(\u001b[0m\u001b[0mlabels\u001b[0m\u001b[0;34m[\u001b[0m\u001b[0mmask\u001b[0m\u001b[0;34m]\u001b[0m\u001b[0;34m)\u001b[0m\u001b[0;34m)\u001b[0m\u001b[0;34m\u001b[0m\u001b[0;34m\u001b[0m\u001b[0m\n\u001b[0m\u001b[1;32m   5341\u001b[0m             \u001b[0mindexer\u001b[0m \u001b[0;34m=\u001b[0m \u001b[0mindexer\u001b[0m\u001b[0;34m[\u001b[0m\u001b[0;34m~\u001b[0m\u001b[0mmask\u001b[0m\u001b[0;34m]\u001b[0m\u001b[0;34m\u001b[0m\u001b[0;34m\u001b[0m\u001b[0m\n\u001b[1;32m   5342\u001b[0m         \u001b[0;32mreturn\u001b[0m \u001b[0mself\u001b[0m\u001b[0;34m.\u001b[0m\u001b[0mdelete\u001b[0m\u001b[0;34m(\u001b[0m\u001b[0mindexer\u001b[0m\u001b[0;34m)\u001b[0m\u001b[0;34m\u001b[0m\u001b[0;34m\u001b[0m\u001b[0m\n",
      "\u001b[0;31mKeyError\u001b[0m: \"['yr_renovated' 'id'] not found in axis\""
     ]
    }
   ],
   "source": [
    "kc.drop(['yr_renovated','id'], axis=1, inplace = True)"
   ]
  },
  {
   "cell_type": "code",
   "execution_count": 944,
   "metadata": {},
   "outputs": [],
   "source": [
    "kc.drop(['sqft_above'], axis=1, inplace = True)"
   ]
  },
  {
   "cell_type": "markdown",
   "metadata": {},
   "source": [
    "# Saving as csv"
   ]
  },
  {
   "cell_type": "code",
   "execution_count": 980,
   "metadata": {},
   "outputs": [],
   "source": [
    "kc.to_csv('KC_Initial_Clean.csv')"
   ]
  },
  {
   "cell_type": "markdown",
   "metadata": {},
   "source": [
    "### Looking at Correlation - Multicollinearity "
   ]
  },
  {
   "cell_type": "code",
   "execution_count": 1111,
   "metadata": {
    "scrolled": true
   },
   "outputs": [
    {
     "name": "stdout",
     "output_type": "stream",
     "text": [
      "<class 'pandas.core.frame.DataFrame'>\n",
      "RangeIndex: 21597 entries, 0 to 21596\n",
      "Data columns (total 90 columns):\n",
      "date             21597 non-null datetime64[ns]\n",
      "price            21597 non-null float64\n",
      "bedrooms         21597 non-null int64\n",
      "bathrooms        21597 non-null float64\n",
      "sqft_living      21597 non-null int64\n",
      "sqft_lot         21597 non-null int64\n",
      "floors           21597 non-null float64\n",
      "waterfront       21597 non-null category\n",
      "Tour_Rating      21597 non-null float64\n",
      "condition        21597 non-null int64\n",
      "Assoc_Rating     21597 non-null int64\n",
      "sqft_basement    21597 non-null category\n",
      "Age              21597 non-null int64\n",
      "zipcode          21597 non-null category\n",
      "lat              21597 non-null float64\n",
      "long             21597 non-null float64\n",
      "sqft_living15    21597 non-null int64\n",
      "sqft_lot15       21597 non-null int64\n",
      "98002            21597 non-null uint8\n",
      "98003            21597 non-null uint8\n",
      "98004            21597 non-null uint8\n",
      "98005            21597 non-null uint8\n",
      "98006            21597 non-null uint8\n",
      "98007            21597 non-null uint8\n",
      "98008            21597 non-null uint8\n",
      "98010            21597 non-null uint8\n",
      "98011            21597 non-null uint8\n",
      "98014            21597 non-null uint8\n",
      "98019            21597 non-null uint8\n",
      "98022            21597 non-null uint8\n",
      "98023            21597 non-null uint8\n",
      "98024            21597 non-null uint8\n",
      "98027            21597 non-null uint8\n",
      "98028            21597 non-null uint8\n",
      "98029            21597 non-null uint8\n",
      "98030            21597 non-null uint8\n",
      "98031            21597 non-null uint8\n",
      "98032            21597 non-null uint8\n",
      "98033            21597 non-null uint8\n",
      "98034            21597 non-null uint8\n",
      "98038            21597 non-null uint8\n",
      "98039            21597 non-null uint8\n",
      "98040            21597 non-null uint8\n",
      "98042            21597 non-null uint8\n",
      "98045            21597 non-null uint8\n",
      "98052            21597 non-null uint8\n",
      "98053            21597 non-null uint8\n",
      "98055            21597 non-null uint8\n",
      "98056            21597 non-null uint8\n",
      "98058            21597 non-null uint8\n",
      "98059            21597 non-null uint8\n",
      "98065            21597 non-null uint8\n",
      "98070            21597 non-null uint8\n",
      "98072            21597 non-null uint8\n",
      "98074            21597 non-null uint8\n",
      "98075            21597 non-null uint8\n",
      "98077            21597 non-null uint8\n",
      "98092            21597 non-null uint8\n",
      "98102            21597 non-null uint8\n",
      "98103            21597 non-null uint8\n",
      "98105            21597 non-null uint8\n",
      "98106            21597 non-null uint8\n",
      "98107            21597 non-null uint8\n",
      "98108            21597 non-null uint8\n",
      "98109            21597 non-null uint8\n",
      "98112            21597 non-null uint8\n",
      "98115            21597 non-null uint8\n",
      "98116            21597 non-null uint8\n",
      "98117            21597 non-null uint8\n",
      "98118            21597 non-null uint8\n",
      "98119            21597 non-null uint8\n",
      "98122            21597 non-null uint8\n",
      "98125            21597 non-null uint8\n",
      "98126            21597 non-null uint8\n",
      "98133            21597 non-null uint8\n",
      "98136            21597 non-null uint8\n",
      "98144            21597 non-null uint8\n",
      "98146            21597 non-null uint8\n",
      "98148            21597 non-null uint8\n",
      "98155            21597 non-null uint8\n",
      "98166            21597 non-null uint8\n",
      "98168            21597 non-null uint8\n",
      "98177            21597 non-null uint8\n",
      "98178            21597 non-null uint8\n",
      "98188            21597 non-null uint8\n",
      "98198            21597 non-null uint8\n",
      "98199            21597 non-null uint8\n",
      "logsqftliving    21597 non-null float64\n",
      "logbedrooms      21597 non-null float64\n",
      "pricelog         21597 non-null float64\n",
      "dtypes: category(3), datetime64[ns](1), float64(9), int64(8), uint8(69)\n",
      "memory usage: 4.5 MB\n"
     ]
    }
   ],
   "source": [
    "kc.info()"
   ]
  },
  {
   "cell_type": "code",
   "execution_count": null,
   "metadata": {},
   "outputs": [],
   "source": [
    "new_kc = kc['price','bathrooms', 'sqft_living','Assoc_rating',]"
   ]
  },
  {
   "cell_type": "code",
   "execution_count": 1108,
   "metadata": {
    "scrolled": true
   },
   "outputs": [
    {
     "data": {
      "text/html": [
       "<div>\n",
       "<style scoped>\n",
       "    .dataframe tbody tr th:only-of-type {\n",
       "        vertical-align: middle;\n",
       "    }\n",
       "\n",
       "    .dataframe tbody tr th {\n",
       "        vertical-align: top;\n",
       "    }\n",
       "\n",
       "    .dataframe thead th {\n",
       "        text-align: right;\n",
       "    }\n",
       "</style>\n",
       "<table border=\"1\" class=\"dataframe\">\n",
       "  <thead>\n",
       "    <tr style=\"text-align: right;\">\n",
       "      <th></th>\n",
       "      <th>price</th>\n",
       "      <th>bedrooms</th>\n",
       "      <th>bathrooms</th>\n",
       "      <th>sqft_living</th>\n",
       "      <th>sqft_lot</th>\n",
       "      <th>floors</th>\n",
       "      <th>Tour_Rating</th>\n",
       "      <th>condition</th>\n",
       "      <th>Assoc_Rating</th>\n",
       "      <th>Age</th>\n",
       "      <th>...</th>\n",
       "      <th>98166</th>\n",
       "      <th>98168</th>\n",
       "      <th>98177</th>\n",
       "      <th>98178</th>\n",
       "      <th>98188</th>\n",
       "      <th>98198</th>\n",
       "      <th>98199</th>\n",
       "      <th>logsqftliving</th>\n",
       "      <th>logbedrooms</th>\n",
       "      <th>pricelog</th>\n",
       "    </tr>\n",
       "  </thead>\n",
       "  <tbody>\n",
       "    <tr>\n",
       "      <td>price</td>\n",
       "      <td>True</td>\n",
       "      <td>False</td>\n",
       "      <td>True</td>\n",
       "      <td>True</td>\n",
       "      <td>False</td>\n",
       "      <td>False</td>\n",
       "      <td>False</td>\n",
       "      <td>False</td>\n",
       "      <td>True</td>\n",
       "      <td>False</td>\n",
       "      <td>...</td>\n",
       "      <td>False</td>\n",
       "      <td>False</td>\n",
       "      <td>False</td>\n",
       "      <td>False</td>\n",
       "      <td>False</td>\n",
       "      <td>False</td>\n",
       "      <td>False</td>\n",
       "      <td>True</td>\n",
       "      <td>False</td>\n",
       "      <td>True</td>\n",
       "    </tr>\n",
       "    <tr>\n",
       "      <td>bedrooms</td>\n",
       "      <td>False</td>\n",
       "      <td>True</td>\n",
       "      <td>True</td>\n",
       "      <td>True</td>\n",
       "      <td>False</td>\n",
       "      <td>False</td>\n",
       "      <td>False</td>\n",
       "      <td>False</td>\n",
       "      <td>False</td>\n",
       "      <td>False</td>\n",
       "      <td>...</td>\n",
       "      <td>False</td>\n",
       "      <td>False</td>\n",
       "      <td>False</td>\n",
       "      <td>False</td>\n",
       "      <td>False</td>\n",
       "      <td>False</td>\n",
       "      <td>False</td>\n",
       "      <td>True</td>\n",
       "      <td>True</td>\n",
       "      <td>False</td>\n",
       "    </tr>\n",
       "    <tr>\n",
       "      <td>bathrooms</td>\n",
       "      <td>True</td>\n",
       "      <td>True</td>\n",
       "      <td>True</td>\n",
       "      <td>True</td>\n",
       "      <td>False</td>\n",
       "      <td>True</td>\n",
       "      <td>False</td>\n",
       "      <td>False</td>\n",
       "      <td>True</td>\n",
       "      <td>True</td>\n",
       "      <td>...</td>\n",
       "      <td>False</td>\n",
       "      <td>False</td>\n",
       "      <td>False</td>\n",
       "      <td>False</td>\n",
       "      <td>False</td>\n",
       "      <td>False</td>\n",
       "      <td>False</td>\n",
       "      <td>True</td>\n",
       "      <td>True</td>\n",
       "      <td>True</td>\n",
       "    </tr>\n",
       "    <tr>\n",
       "      <td>sqft_living</td>\n",
       "      <td>True</td>\n",
       "      <td>True</td>\n",
       "      <td>True</td>\n",
       "      <td>True</td>\n",
       "      <td>False</td>\n",
       "      <td>False</td>\n",
       "      <td>False</td>\n",
       "      <td>False</td>\n",
       "      <td>True</td>\n",
       "      <td>False</td>\n",
       "      <td>...</td>\n",
       "      <td>False</td>\n",
       "      <td>False</td>\n",
       "      <td>False</td>\n",
       "      <td>False</td>\n",
       "      <td>False</td>\n",
       "      <td>False</td>\n",
       "      <td>False</td>\n",
       "      <td>True</td>\n",
       "      <td>True</td>\n",
       "      <td>True</td>\n",
       "    </tr>\n",
       "    <tr>\n",
       "      <td>sqft_lot</td>\n",
       "      <td>False</td>\n",
       "      <td>False</td>\n",
       "      <td>False</td>\n",
       "      <td>False</td>\n",
       "      <td>True</td>\n",
       "      <td>False</td>\n",
       "      <td>False</td>\n",
       "      <td>False</td>\n",
       "      <td>False</td>\n",
       "      <td>False</td>\n",
       "      <td>...</td>\n",
       "      <td>False</td>\n",
       "      <td>False</td>\n",
       "      <td>False</td>\n",
       "      <td>False</td>\n",
       "      <td>False</td>\n",
       "      <td>False</td>\n",
       "      <td>False</td>\n",
       "      <td>False</td>\n",
       "      <td>False</td>\n",
       "      <td>False</td>\n",
       "    </tr>\n",
       "    <tr>\n",
       "      <td>...</td>\n",
       "      <td>...</td>\n",
       "      <td>...</td>\n",
       "      <td>...</td>\n",
       "      <td>...</td>\n",
       "      <td>...</td>\n",
       "      <td>...</td>\n",
       "      <td>...</td>\n",
       "      <td>...</td>\n",
       "      <td>...</td>\n",
       "      <td>...</td>\n",
       "      <td>...</td>\n",
       "      <td>...</td>\n",
       "      <td>...</td>\n",
       "      <td>...</td>\n",
       "      <td>...</td>\n",
       "      <td>...</td>\n",
       "      <td>...</td>\n",
       "      <td>...</td>\n",
       "      <td>...</td>\n",
       "      <td>...</td>\n",
       "      <td>...</td>\n",
       "    </tr>\n",
       "    <tr>\n",
       "      <td>98198</td>\n",
       "      <td>False</td>\n",
       "      <td>False</td>\n",
       "      <td>False</td>\n",
       "      <td>False</td>\n",
       "      <td>False</td>\n",
       "      <td>False</td>\n",
       "      <td>False</td>\n",
       "      <td>False</td>\n",
       "      <td>False</td>\n",
       "      <td>False</td>\n",
       "      <td>...</td>\n",
       "      <td>False</td>\n",
       "      <td>False</td>\n",
       "      <td>False</td>\n",
       "      <td>False</td>\n",
       "      <td>False</td>\n",
       "      <td>True</td>\n",
       "      <td>False</td>\n",
       "      <td>False</td>\n",
       "      <td>False</td>\n",
       "      <td>False</td>\n",
       "    </tr>\n",
       "    <tr>\n",
       "      <td>98199</td>\n",
       "      <td>False</td>\n",
       "      <td>False</td>\n",
       "      <td>False</td>\n",
       "      <td>False</td>\n",
       "      <td>False</td>\n",
       "      <td>False</td>\n",
       "      <td>False</td>\n",
       "      <td>False</td>\n",
       "      <td>False</td>\n",
       "      <td>False</td>\n",
       "      <td>...</td>\n",
       "      <td>False</td>\n",
       "      <td>False</td>\n",
       "      <td>False</td>\n",
       "      <td>False</td>\n",
       "      <td>False</td>\n",
       "      <td>False</td>\n",
       "      <td>True</td>\n",
       "      <td>False</td>\n",
       "      <td>False</td>\n",
       "      <td>False</td>\n",
       "    </tr>\n",
       "    <tr>\n",
       "      <td>logsqftliving</td>\n",
       "      <td>True</td>\n",
       "      <td>True</td>\n",
       "      <td>True</td>\n",
       "      <td>True</td>\n",
       "      <td>False</td>\n",
       "      <td>False</td>\n",
       "      <td>False</td>\n",
       "      <td>False</td>\n",
       "      <td>True</td>\n",
       "      <td>False</td>\n",
       "      <td>...</td>\n",
       "      <td>False</td>\n",
       "      <td>False</td>\n",
       "      <td>False</td>\n",
       "      <td>False</td>\n",
       "      <td>False</td>\n",
       "      <td>False</td>\n",
       "      <td>False</td>\n",
       "      <td>True</td>\n",
       "      <td>True</td>\n",
       "      <td>True</td>\n",
       "    </tr>\n",
       "    <tr>\n",
       "      <td>logbedrooms</td>\n",
       "      <td>False</td>\n",
       "      <td>True</td>\n",
       "      <td>True</td>\n",
       "      <td>True</td>\n",
       "      <td>False</td>\n",
       "      <td>False</td>\n",
       "      <td>False</td>\n",
       "      <td>False</td>\n",
       "      <td>False</td>\n",
       "      <td>False</td>\n",
       "      <td>...</td>\n",
       "      <td>False</td>\n",
       "      <td>False</td>\n",
       "      <td>False</td>\n",
       "      <td>False</td>\n",
       "      <td>False</td>\n",
       "      <td>False</td>\n",
       "      <td>False</td>\n",
       "      <td>True</td>\n",
       "      <td>True</td>\n",
       "      <td>False</td>\n",
       "    </tr>\n",
       "    <tr>\n",
       "      <td>pricelog</td>\n",
       "      <td>True</td>\n",
       "      <td>False</td>\n",
       "      <td>True</td>\n",
       "      <td>True</td>\n",
       "      <td>False</td>\n",
       "      <td>False</td>\n",
       "      <td>False</td>\n",
       "      <td>False</td>\n",
       "      <td>True</td>\n",
       "      <td>False</td>\n",
       "      <td>...</td>\n",
       "      <td>False</td>\n",
       "      <td>False</td>\n",
       "      <td>False</td>\n",
       "      <td>False</td>\n",
       "      <td>False</td>\n",
       "      <td>False</td>\n",
       "      <td>False</td>\n",
       "      <td>True</td>\n",
       "      <td>False</td>\n",
       "      <td>True</td>\n",
       "    </tr>\n",
       "  </tbody>\n",
       "</table>\n",
       "<p>86 rows × 86 columns</p>\n",
       "</div>"
      ],
      "text/plain": [
       "               price  bedrooms  bathrooms  sqft_living  sqft_lot  floors  \\\n",
       "price           True     False       True         True     False   False   \n",
       "bedrooms       False      True       True         True     False   False   \n",
       "bathrooms       True      True       True         True     False    True   \n",
       "sqft_living     True      True       True         True     False   False   \n",
       "sqft_lot       False     False      False        False      True   False   \n",
       "...              ...       ...        ...          ...       ...     ...   \n",
       "98198          False     False      False        False     False   False   \n",
       "98199          False     False      False        False     False   False   \n",
       "logsqftliving   True      True       True         True     False   False   \n",
       "logbedrooms    False      True       True         True     False   False   \n",
       "pricelog        True     False       True         True     False   False   \n",
       "\n",
       "               Tour_Rating  condition  Assoc_Rating    Age  ...  98166  98168  \\\n",
       "price                False      False          True  False  ...  False  False   \n",
       "bedrooms             False      False         False  False  ...  False  False   \n",
       "bathrooms            False      False          True   True  ...  False  False   \n",
       "sqft_living          False      False          True  False  ...  False  False   \n",
       "sqft_lot             False      False         False  False  ...  False  False   \n",
       "...                    ...        ...           ...    ...  ...    ...    ...   \n",
       "98198                False      False         False  False  ...  False  False   \n",
       "98199                False      False         False  False  ...  False  False   \n",
       "logsqftliving        False      False          True  False  ...  False  False   \n",
       "logbedrooms          False      False         False  False  ...  False  False   \n",
       "pricelog             False      False          True  False  ...  False  False   \n",
       "\n",
       "               98177  98178  98188  98198  98199  logsqftliving  logbedrooms  \\\n",
       "price          False  False  False  False  False           True        False   \n",
       "bedrooms       False  False  False  False  False           True         True   \n",
       "bathrooms      False  False  False  False  False           True         True   \n",
       "sqft_living    False  False  False  False  False           True         True   \n",
       "sqft_lot       False  False  False  False  False          False        False   \n",
       "...              ...    ...    ...    ...    ...            ...          ...   \n",
       "98198          False  False  False   True  False          False        False   \n",
       "98199          False  False  False  False   True          False        False   \n",
       "logsqftliving  False  False  False  False  False           True         True   \n",
       "logbedrooms    False  False  False  False  False           True         True   \n",
       "pricelog       False  False  False  False  False           True        False   \n",
       "\n",
       "               pricelog  \n",
       "price              True  \n",
       "bedrooms          False  \n",
       "bathrooms          True  \n",
       "sqft_living        True  \n",
       "sqft_lot          False  \n",
       "...                 ...  \n",
       "98198             False  \n",
       "98199             False  \n",
       "logsqftliving      True  \n",
       "logbedrooms       False  \n",
       "pricelog           True  \n",
       "\n",
       "[86 rows x 86 columns]"
      ]
     },
     "execution_count": 1108,
     "metadata": {},
     "output_type": "execute_result"
    }
   ],
   "source": [
    "abs(kc.corr()) > 0.5"
   ]
  },
  {
   "cell_type": "markdown",
   "metadata": {},
   "source": [
    "# Identifying Categorical Variables"
   ]
  },
  {
   "cell_type": "code",
   "execution_count": 1100,
   "metadata": {},
   "outputs": [
    {
     "data": {
      "image/png": "[encoded data removed]",
      "text/plain": [
       "<Figure size 1152x216 with 4 Axes>"
      ]
     },
     "metadata": {
      "needs_background": "light"
     },
     "output_type": "display_data"
    }
   ],
   "source": [
    "fig, axes = plt.subplots(nrows=1, ncols=4, figsize=(16,3))\n",
    "\n",
    "for xcol, ax in zip(['Tour_Rating', 'sqft_lot', 'condition', 'floors'], axes):\n",
    "    kc.plot(kind='scatter', x=xcol, y='price', ax=ax, alpha=0.4, color='b')"
   ]
  },
  {
   "cell_type": "markdown",
   "metadata": {},
   "source": [
    "### Bathrooms and Sqft Living High Correlaction - Grade and Sqft living space high correlation "
   ]
  },
  {
   "cell_type": "code",
   "execution_count": 831,
   "metadata": {},
   "outputs": [],
   "source": [
    "#Polynomial regression, lasso regression, ridge regression"
   ]
  },
  {
   "cell_type": "markdown",
   "metadata": {},
   "source": [
    "# Running Linear Regeression Model"
   ]
  },
  {
   "cell_type": "code",
   "execution_count": 848,
   "metadata": {
    "scrolled": true
   },
   "outputs": [
    {
     "data": {
      "text/plain": [
       "1.0    10673\n",
       "2.0     8235\n",
       "1.5     1910\n",
       "3.0      611\n",
       "2.5      161\n",
       "3.5        7\n",
       "Name: floors, dtype: int64"
      ]
     },
     "execution_count": 848,
     "metadata": {},
     "output_type": "execute_result"
    }
   ],
   "source": [
    "kc.floors.value_counts()"
   ]
  },
  {
   "cell_type": "code",
   "execution_count": 895,
   "metadata": {
    "scrolled": false
   },
   "outputs": [
    {
     "data": {
      "text/plain": [
       "Index(['date', 'price', 'bedrooms', 'bathrooms', 'sqft_living', 'sqft_lot',\n",
       "       'floors', 'waterfront', 'Tour_Rating', 'condition', 'Assoc_Rating',\n",
       "       'sqft_above', 'sqft_basement', 'Age', 'zipcode', 'lat', 'long',\n",
       "       'sqft_living15', 'sqft_lot15'],\n",
       "      dtype='object')"
      ]
     },
     "execution_count": 895,
     "metadata": {},
     "output_type": "execute_result"
    }
   ],
   "source": [
    "kc.columns"
   ]
  },
  {
   "cell_type": "markdown",
   "metadata": {},
   "source": [
    "*R^2 how much of the variance in target is accounted for by the variance.... the proportion of the total variance explained by the predictor variable---------->height and weight: r=.5, then r2 =.25 Height accounts for 25% of the variance in weight\n",
    "*Intercept Coef - If x = 0(no variable) then y = intercept. Otherwise for every 1 change in x the y value changes by the slope "
   ]
  },
  {
   "cell_type": "code",
   "execution_count": 1116,
   "metadata": {},
   "outputs": [],
   "source": [
    "lr_model = ols(formula='pricelog~sqft_living+zipcode', data=kc).fit()  "
   ]
  },
  {
   "cell_type": "code",
   "execution_count": 1117,
   "metadata": {
    "scrolled": true
   },
   "outputs": [
    {
     "data": {
      "text/html": [
       "<table class=\"simpletable\">\n",
       "<caption>OLS Regression Results</caption>\n",
       "<tr>\n",
       "  <th>Dep. Variable:</th>        <td>pricelog</td>     <th>  R-squared:         </th> <td>   0.823</td>\n",
       "</tr>\n",
       "<tr>\n",
       "  <th>Model:</th>                   <td>OLS</td>       <th>  Adj. R-squared:    </th> <td>   0.822</td>\n",
       "</tr>\n",
       "<tr>\n",
       "  <th>Method:</th>             <td>Least Squares</td>  <th>  F-statistic:       </th> <td>   1429.</td>\n",
       "</tr>\n",
       "<tr>\n",
       "  <th>Date:</th>             <td>Sat, 30 Nov 2019</td> <th>  Prob (F-statistic):</th>  <td>  0.00</td> \n",
       "</tr>\n",
       "<tr>\n",
       "  <th>Time:</th>                 <td>18:08:55</td>     <th>  Log-Likelihood:    </th> <td>  1899.5</td>\n",
       "</tr>\n",
       "<tr>\n",
       "  <th>No. Observations:</th>      <td> 21597</td>      <th>  AIC:               </th> <td>  -3657.</td>\n",
       "</tr>\n",
       "<tr>\n",
       "  <th>Df Residuals:</th>          <td> 21526</td>      <th>  BIC:               </th> <td>  -3090.</td>\n",
       "</tr>\n",
       "<tr>\n",
       "  <th>Df Model:</th>              <td>    70</td>      <th>                     </th>     <td> </td>   \n",
       "</tr>\n",
       "<tr>\n",
       "  <th>Covariance Type:</th>      <td>nonrobust</td>    <th>                     </th>     <td> </td>   \n",
       "</tr>\n",
       "</table>\n",
       "<table class=\"simpletable\">\n",
       "<tr>\n",
       "          <td></td>            <th>coef</th>     <th>std err</th>      <th>t</th>      <th>P>|t|</th>  <th>[0.025</th>    <th>0.975]</th>  \n",
       "</tr>\n",
       "<tr>\n",
       "  <th>Intercept</th>        <td>   11.8370</td> <td>    0.012</td> <td>  971.131</td> <td> 0.000</td> <td>   11.813</td> <td>   11.861</td>\n",
       "</tr>\n",
       "<tr>\n",
       "  <th>zipcode[T.98002]</th> <td>   -0.0603</td> <td>    0.020</td> <td>   -3.075</td> <td> 0.002</td> <td>   -0.099</td> <td>   -0.022</td>\n",
       "</tr>\n",
       "<tr>\n",
       "  <th>zipcode[T.98003]</th> <td>    0.0381</td> <td>    0.018</td> <td>    2.154</td> <td> 0.031</td> <td>    0.003</td> <td>    0.073</td>\n",
       "</tr>\n",
       "<tr>\n",
       "  <th>zipcode[T.98004]</th> <td>    1.1691</td> <td>    0.017</td> <td>   68.040</td> <td> 0.000</td> <td>    1.135</td> <td>    1.203</td>\n",
       "</tr>\n",
       "<tr>\n",
       "  <th>zipcode[T.98005]</th> <td>    0.8075</td> <td>    0.021</td> <td>   38.869</td> <td> 0.000</td> <td>    0.767</td> <td>    0.848</td>\n",
       "</tr>\n",
       "<tr>\n",
       "  <th>zipcode[T.98006]</th> <td>    0.7301</td> <td>    0.015</td> <td>   47.264</td> <td> 0.000</td> <td>    0.700</td> <td>    0.760</td>\n",
       "</tr>\n",
       "<tr>\n",
       "  <th>zipcode[T.98007]</th> <td>    0.6973</td> <td>    0.022</td> <td>   31.625</td> <td> 0.000</td> <td>    0.654</td> <td>    0.741</td>\n",
       "</tr>\n",
       "<tr>\n",
       "  <th>zipcode[T.98008]</th> <td>    0.7061</td> <td>    0.018</td> <td>   40.057</td> <td> 0.000</td> <td>    0.672</td> <td>    0.741</td>\n",
       "</tr>\n",
       "<tr>\n",
       "  <th>zipcode[T.98010]</th> <td>    0.2779</td> <td>    0.025</td> <td>   11.076</td> <td> 0.000</td> <td>    0.229</td> <td>    0.327</td>\n",
       "</tr>\n",
       "<tr>\n",
       "  <th>zipcode[T.98011]</th> <td>    0.4608</td> <td>    0.020</td> <td>   23.346</td> <td> 0.000</td> <td>    0.422</td> <td>    0.499</td>\n",
       "</tr>\n",
       "<tr>\n",
       "  <th>zipcode[T.98014]</th> <td>    0.3311</td> <td>    0.023</td> <td>   14.327</td> <td> 0.000</td> <td>    0.286</td> <td>    0.376</td>\n",
       "</tr>\n",
       "<tr>\n",
       "  <th>zipcode[T.98019]</th> <td>    0.3293</td> <td>    0.020</td> <td>   16.548</td> <td> 0.000</td> <td>    0.290</td> <td>    0.368</td>\n",
       "</tr>\n",
       "<tr>\n",
       "  <th>zipcode[T.98022]</th> <td>    0.1344</td> <td>    0.019</td> <td>    7.205</td> <td> 0.000</td> <td>    0.098</td> <td>    0.171</td>\n",
       "</tr>\n",
       "<tr>\n",
       "  <th>zipcode[T.98023]</th> <td>   -0.0103</td> <td>    0.015</td> <td>   -0.673</td> <td> 0.501</td> <td>   -0.040</td> <td>    0.020</td>\n",
       "</tr>\n",
       "<tr>\n",
       "  <th>zipcode[T.98024]</th> <td>    0.4754</td> <td>    0.027</td> <td>   17.323</td> <td> 0.000</td> <td>    0.422</td> <td>    0.529</td>\n",
       "</tr>\n",
       "<tr>\n",
       "  <th>zipcode[T.98027]</th> <td>    0.5489</td> <td>    0.016</td> <td>   34.219</td> <td> 0.000</td> <td>    0.517</td> <td>    0.580</td>\n",
       "</tr>\n",
       "<tr>\n",
       "  <th>zipcode[T.98028]</th> <td>    0.4311</td> <td>    0.018</td> <td>   24.457</td> <td> 0.000</td> <td>    0.397</td> <td>    0.466</td>\n",
       "</tr>\n",
       "<tr>\n",
       "  <th>zipcode[T.98029]</th> <td>    0.6549</td> <td>    0.017</td> <td>   38.428</td> <td> 0.000</td> <td>    0.621</td> <td>    0.688</td>\n",
       "</tr>\n",
       "<tr>\n",
       "  <th>zipcode[T.98030]</th> <td>    0.0554</td> <td>    0.018</td> <td>    3.054</td> <td> 0.002</td> <td>    0.020</td> <td>    0.091</td>\n",
       "</tr>\n",
       "<tr>\n",
       "  <th>zipcode[T.98031]</th> <td>    0.0824</td> <td>    0.018</td> <td>    4.628</td> <td> 0.000</td> <td>    0.048</td> <td>    0.117</td>\n",
       "</tr>\n",
       "<tr>\n",
       "  <th>zipcode[T.98032]</th> <td>   -0.0378</td> <td>    0.023</td> <td>   -1.641</td> <td> 0.101</td> <td>   -0.083</td> <td>    0.007</td>\n",
       "</tr>\n",
       "<tr>\n",
       "  <th>zipcode[T.98033]</th> <td>    0.8284</td> <td>    0.016</td> <td>   52.261</td> <td> 0.000</td> <td>    0.797</td> <td>    0.859</td>\n",
       "</tr>\n",
       "<tr>\n",
       "  <th>zipcode[T.98034]</th> <td>    0.5574</td> <td>    0.015</td> <td>   37.002</td> <td> 0.000</td> <td>    0.528</td> <td>    0.587</td>\n",
       "</tr>\n",
       "<tr>\n",
       "  <th>zipcode[T.98038]</th> <td>    0.1836</td> <td>    0.015</td> <td>   12.372</td> <td> 0.000</td> <td>    0.155</td> <td>    0.213</td>\n",
       "</tr>\n",
       "<tr>\n",
       "  <th>zipcode[T.98039]</th> <td>    1.3234</td> <td>    0.034</td> <td>   39.301</td> <td> 0.000</td> <td>    1.257</td> <td>    1.389</td>\n",
       "</tr>\n",
       "<tr>\n",
       "  <th>zipcode[T.98040]</th> <td>    0.9953</td> <td>    0.018</td> <td>   55.987</td> <td> 0.000</td> <td>    0.960</td> <td>    1.030</td>\n",
       "</tr>\n",
       "<tr>\n",
       "  <th>zipcode[T.98042]</th> <td>    0.0782</td> <td>    0.015</td> <td>    5.195</td> <td> 0.000</td> <td>    0.049</td> <td>    0.108</td>\n",
       "</tr>\n",
       "<tr>\n",
       "  <th>zipcode[T.98045]</th> <td>    0.3649</td> <td>    0.019</td> <td>   19.220</td> <td> 0.000</td> <td>    0.328</td> <td>    0.402</td>\n",
       "</tr>\n",
       "<tr>\n",
       "  <th>zipcode[T.98052]</th> <td>    0.6837</td> <td>    0.015</td> <td>   45.785</td> <td> 0.000</td> <td>    0.654</td> <td>    0.713</td>\n",
       "</tr>\n",
       "<tr>\n",
       "  <th>zipcode[T.98053]</th> <td>    0.6178</td> <td>    0.016</td> <td>   38.283</td> <td> 0.000</td> <td>    0.586</td> <td>    0.649</td>\n",
       "</tr>\n",
       "<tr>\n",
       "  <th>zipcode[T.98055]</th> <td>    0.1271</td> <td>    0.018</td> <td>    7.099</td> <td> 0.000</td> <td>    0.092</td> <td>    0.162</td>\n",
       "</tr>\n",
       "<tr>\n",
       "  <th>zipcode[T.98056]</th> <td>    0.3258</td> <td>    0.016</td> <td>   20.287</td> <td> 0.000</td> <td>    0.294</td> <td>    0.357</td>\n",
       "</tr>\n",
       "<tr>\n",
       "  <th>zipcode[T.98058]</th> <td>    0.1795</td> <td>    0.016</td> <td>   11.470</td> <td> 0.000</td> <td>    0.149</td> <td>    0.210</td>\n",
       "</tr>\n",
       "<tr>\n",
       "  <th>zipcode[T.98059]</th> <td>    0.3592</td> <td>    0.016</td> <td>   23.060</td> <td> 0.000</td> <td>    0.329</td> <td>    0.390</td>\n",
       "</tr>\n",
       "<tr>\n",
       "  <th>zipcode[T.98065]</th> <td>    0.4020</td> <td>    0.017</td> <td>   23.291</td> <td> 0.000</td> <td>    0.368</td> <td>    0.436</td>\n",
       "</tr>\n",
       "<tr>\n",
       "  <th>zipcode[T.98070]</th> <td>    0.5378</td> <td>    0.024</td> <td>   22.776</td> <td> 0.000</td> <td>    0.492</td> <td>    0.584</td>\n",
       "</tr>\n",
       "<tr>\n",
       "  <th>zipcode[T.98072]</th> <td>    0.5381</td> <td>    0.018</td> <td>   30.193</td> <td> 0.000</td> <td>    0.503</td> <td>    0.573</td>\n",
       "</tr>\n",
       "<tr>\n",
       "  <th>zipcode[T.98074]</th> <td>    0.6330</td> <td>    0.016</td> <td>   40.031</td> <td> 0.000</td> <td>    0.602</td> <td>    0.664</td>\n",
       "</tr>\n",
       "<tr>\n",
       "  <th>zipcode[T.98075]</th> <td>    0.6595</td> <td>    0.017</td> <td>   39.566</td> <td> 0.000</td> <td>    0.627</td> <td>    0.692</td>\n",
       "</tr>\n",
       "<tr>\n",
       "  <th>zipcode[T.98077]</th> <td>    0.5418</td> <td>    0.020</td> <td>   27.493</td> <td> 0.000</td> <td>    0.503</td> <td>    0.580</td>\n",
       "</tr>\n",
       "<tr>\n",
       "  <th>zipcode[T.98092]</th> <td>    0.0718</td> <td>    0.017</td> <td>    4.314</td> <td> 0.000</td> <td>    0.039</td> <td>    0.104</td>\n",
       "</tr>\n",
       "<tr>\n",
       "  <th>zipcode[T.98102]</th> <td>    0.9821</td> <td>    0.025</td> <td>   39.750</td> <td> 0.000</td> <td>    0.934</td> <td>    1.030</td>\n",
       "</tr>\n",
       "<tr>\n",
       "  <th>zipcode[T.98103]</th> <td>    0.8161</td> <td>    0.015</td> <td>   55.203</td> <td> 0.000</td> <td>    0.787</td> <td>    0.845</td>\n",
       "</tr>\n",
       "<tr>\n",
       "  <th>zipcode[T.98105]</th> <td>    0.9808</td> <td>    0.019</td> <td>   52.291</td> <td> 0.000</td> <td>    0.944</td> <td>    1.018</td>\n",
       "</tr>\n",
       "<tr>\n",
       "  <th>zipcode[T.98106]</th> <td>    0.2780</td> <td>    0.017</td> <td>   16.493</td> <td> 0.000</td> <td>    0.245</td> <td>    0.311</td>\n",
       "</tr>\n",
       "<tr>\n",
       "  <th>zipcode[T.98107]</th> <td>    0.8457</td> <td>    0.018</td> <td>   47.123</td> <td> 0.000</td> <td>    0.810</td> <td>    0.881</td>\n",
       "</tr>\n",
       "<tr>\n",
       "  <th>zipcode[T.98108]</th> <td>    0.3108</td> <td>    0.020</td> <td>   15.509</td> <td> 0.000</td> <td>    0.271</td> <td>    0.350</td>\n",
       "</tr>\n",
       "<tr>\n",
       "  <th>zipcode[T.98109]</th> <td>    1.0405</td> <td>    0.024</td> <td>   42.891</td> <td> 0.000</td> <td>    0.993</td> <td>    1.088</td>\n",
       "</tr>\n",
       "<tr>\n",
       "  <th>zipcode[T.98112]</th> <td>    1.0816</td> <td>    0.018</td> <td>   60.389</td> <td> 0.000</td> <td>    1.047</td> <td>    1.117</td>\n",
       "</tr>\n",
       "<tr>\n",
       "  <th>zipcode[T.98115]</th> <td>    0.8084</td> <td>    0.015</td> <td>   54.382</td> <td> 0.000</td> <td>    0.779</td> <td>    0.838</td>\n",
       "</tr>\n",
       "<tr>\n",
       "  <th>zipcode[T.98116]</th> <td>    0.7922</td> <td>    0.017</td> <td>   46.862</td> <td> 0.000</td> <td>    0.759</td> <td>    0.825</td>\n",
       "</tr>\n",
       "<tr>\n",
       "  <th>zipcode[T.98117]</th> <td>    0.7971</td> <td>    0.015</td> <td>   53.053</td> <td> 0.000</td> <td>    0.768</td> <td>    0.827</td>\n",
       "</tr>\n",
       "<tr>\n",
       "  <th>zipcode[T.98118]</th> <td>    0.4237</td> <td>    0.015</td> <td>   27.713</td> <td> 0.000</td> <td>    0.394</td> <td>    0.454</td>\n",
       "</tr>\n",
       "<tr>\n",
       "  <th>zipcode[T.98119]</th> <td>    1.0319</td> <td>    0.020</td> <td>   51.322</td> <td> 0.000</td> <td>    0.992</td> <td>    1.071</td>\n",
       "</tr>\n",
       "<tr>\n",
       "  <th>zipcode[T.98122]</th> <td>    0.8311</td> <td>    0.018</td> <td>   47.478</td> <td> 0.000</td> <td>    0.797</td> <td>    0.865</td>\n",
       "</tr>\n",
       "<tr>\n",
       "  <th>zipcode[T.98125]</th> <td>    0.5582</td> <td>    0.016</td> <td>   34.819</td> <td> 0.000</td> <td>    0.527</td> <td>    0.590</td>\n",
       "</tr>\n",
       "<tr>\n",
       "  <th>zipcode[T.98126]</th> <td>    0.5267</td> <td>    0.017</td> <td>   31.701</td> <td> 0.000</td> <td>    0.494</td> <td>    0.559</td>\n",
       "</tr>\n",
       "<tr>\n",
       "  <th>zipcode[T.98133]</th> <td>    0.4407</td> <td>    0.015</td> <td>   28.647</td> <td> 0.000</td> <td>    0.411</td> <td>    0.471</td>\n",
       "</tr>\n",
       "<tr>\n",
       "  <th>zipcode[T.98136]</th> <td>    0.7147</td> <td>    0.018</td> <td>   39.713</td> <td> 0.000</td> <td>    0.679</td> <td>    0.750</td>\n",
       "</tr>\n",
       "<tr>\n",
       "  <th>zipcode[T.98144]</th> <td>    0.6642</td> <td>    0.017</td> <td>   39.683</td> <td> 0.000</td> <td>    0.631</td> <td>    0.697</td>\n",
       "</tr>\n",
       "<tr>\n",
       "  <th>zipcode[T.98146]</th> <td>    0.2593</td> <td>    0.018</td> <td>   14.777</td> <td> 0.000</td> <td>    0.225</td> <td>    0.294</td>\n",
       "</tr>\n",
       "<tr>\n",
       "  <th>zipcode[T.98148]</th> <td>    0.1219</td> <td>    0.032</td> <td>    3.854</td> <td> 0.000</td> <td>    0.060</td> <td>    0.184</td>\n",
       "</tr>\n",
       "<tr>\n",
       "  <th>zipcode[T.98155]</th> <td>    0.4254</td> <td>    0.016</td> <td>   27.069</td> <td> 0.000</td> <td>    0.395</td> <td>    0.456</td>\n",
       "</tr>\n",
       "<tr>\n",
       "  <th>zipcode[T.98166]</th> <td>    0.3633</td> <td>    0.018</td> <td>   19.985</td> <td> 0.000</td> <td>    0.328</td> <td>    0.399</td>\n",
       "</tr>\n",
       "<tr>\n",
       "  <th>zipcode[T.98168]</th> <td>    0.0013</td> <td>    0.018</td> <td>    0.074</td> <td> 0.941</td> <td>   -0.034</td> <td>    0.036</td>\n",
       "</tr>\n",
       "<tr>\n",
       "  <th>zipcode[T.98177]</th> <td>    0.6609</td> <td>    0.018</td> <td>   36.367</td> <td> 0.000</td> <td>    0.625</td> <td>    0.697</td>\n",
       "</tr>\n",
       "<tr>\n",
       "  <th>zipcode[T.98178]</th> <td>    0.1264</td> <td>    0.018</td> <td>    7.014</td> <td> 0.000</td> <td>    0.091</td> <td>    0.162</td>\n",
       "</tr>\n",
       "<tr>\n",
       "  <th>zipcode[T.98188]</th> <td>    0.0603</td> <td>    0.022</td> <td>    2.700</td> <td> 0.007</td> <td>    0.017</td> <td>    0.104</td>\n",
       "</tr>\n",
       "<tr>\n",
       "  <th>zipcode[T.98198]</th> <td>    0.0935</td> <td>    0.018</td> <td>    5.292</td> <td> 0.000</td> <td>    0.059</td> <td>    0.128</td>\n",
       "</tr>\n",
       "<tr>\n",
       "  <th>zipcode[T.98199]</th> <td>    0.9053</td> <td>    0.017</td> <td>   52.970</td> <td> 0.000</td> <td>    0.872</td> <td>    0.939</td>\n",
       "</tr>\n",
       "<tr>\n",
       "  <th>sqft_living</th>      <td>    0.0003</td> <td> 1.83e-06</td> <td>  188.693</td> <td> 0.000</td> <td>    0.000</td> <td>    0.000</td>\n",
       "</tr>\n",
       "</table>\n",
       "<table class=\"simpletable\">\n",
       "<tr>\n",
       "  <th>Omnibus:</th>       <td>1849.161</td> <th>  Durbin-Watson:     </th> <td>   1.995</td> \n",
       "</tr>\n",
       "<tr>\n",
       "  <th>Prob(Omnibus):</th>  <td> 0.000</td>  <th>  Jarque-Bera (JB):  </th> <td>12276.576</td>\n",
       "</tr>\n",
       "<tr>\n",
       "  <th>Skew:</th>           <td> 0.029</td>  <th>  Prob(JB):          </th> <td>    0.00</td> \n",
       "</tr>\n",
       "<tr>\n",
       "  <th>Kurtosis:</th>       <td> 6.693</td>  <th>  Cond. No.          </th> <td>1.49e+05</td> \n",
       "</tr>\n",
       "</table><br/><br/>Warnings:<br/>[1] Standard Errors assume that the covariance matrix of the errors is correctly specified.<br/>[2] The condition number is large, 1.49e+05. This might indicate that there are<br/>strong multicollinearity or other numerical problems."
      ],
      "text/plain": [
       "<class 'statsmodels.iolib.summary.Summary'>\n",
       "\"\"\"\n",
       "                            OLS Regression Results                            \n",
       "==============================================================================\n",
       "Dep. Variable:               pricelog   R-squared:                       0.823\n",
       "Model:                            OLS   Adj. R-squared:                  0.822\n",
       "Method:                 Least Squares   F-statistic:                     1429.\n",
       "Date:                Sat, 30 Nov 2019   Prob (F-statistic):               0.00\n",
       "Time:                        18:08:55   Log-Likelihood:                 1899.5\n",
       "No. Observations:               21597   AIC:                            -3657.\n",
       "Df Residuals:                   21526   BIC:                            -3090.\n",
       "Df Model:                          70                                         \n",
       "Covariance Type:            nonrobust                                         \n",
       "====================================================================================\n",
       "                       coef    std err          t      P>|t|      [0.025      0.975]\n",
       "------------------------------------------------------------------------------------\n",
       "Intercept           11.8370      0.012    971.131      0.000      11.813      11.861\n",
       "zipcode[T.98002]    -0.0603      0.020     -3.075      0.002      -0.099      -0.022\n",
       "zipcode[T.98003]     0.0381      0.018      2.154      0.031       0.003       0.073\n",
       "zipcode[T.98004]     1.1691      0.017     68.040      0.000       1.135       1.203\n",
       "zipcode[T.98005]     0.8075      0.021     38.869      0.000       0.767       0.848\n",
       "zipcode[T.98006]     0.7301      0.015     47.264      0.000       0.700       0.760\n",
       "zipcode[T.98007]     0.6973      0.022     31.625      0.000       0.654       0.741\n",
       "zipcode[T.98008]     0.7061      0.018     40.057      0.000       0.672       0.741\n",
       "zipcode[T.98010]     0.2779      0.025     11.076      0.000       0.229       0.327\n",
       "zipcode[T.98011]     0.4608      0.020     23.346      0.000       0.422       0.499\n",
       "zipcode[T.98014]     0.3311      0.023     14.327      0.000       0.286       0.376\n",
       "zipcode[T.98019]     0.3293      0.020     16.548      0.000       0.290       0.368\n",
       "zipcode[T.98022]     0.1344      0.019      7.205      0.000       0.098       0.171\n",
       "zipcode[T.98023]    -0.0103      0.015     -0.673      0.501      -0.040       0.020\n",
       "zipcode[T.98024]     0.4754      0.027     17.323      0.000       0.422       0.529\n",
       "zipcode[T.98027]     0.5489      0.016     34.219      0.000       0.517       0.580\n",
       "zipcode[T.98028]     0.4311      0.018     24.457      0.000       0.397       0.466\n",
       "zipcode[T.98029]     0.6549      0.017     38.428      0.000       0.621       0.688\n",
       "zipcode[T.98030]     0.0554      0.018      3.054      0.002       0.020       0.091\n",
       "zipcode[T.98031]     0.0824      0.018      4.628      0.000       0.048       0.117\n",
       "zipcode[T.98032]    -0.0378      0.023     -1.641      0.101      -0.083       0.007\n",
       "zipcode[T.98033]     0.8284      0.016     52.261      0.000       0.797       0.859\n",
       "zipcode[T.98034]     0.5574      0.015     37.002      0.000       0.528       0.587\n",
       "zipcode[T.98038]     0.1836      0.015     12.372      0.000       0.155       0.213\n",
       "zipcode[T.98039]     1.3234      0.034     39.301      0.000       1.257       1.389\n",
       "zipcode[T.98040]     0.9953      0.018     55.987      0.000       0.960       1.030\n",
       "zipcode[T.98042]     0.0782      0.015      5.195      0.000       0.049       0.108\n",
       "zipcode[T.98045]     0.3649      0.019     19.220      0.000       0.328       0.402\n",
       "zipcode[T.98052]     0.6837      0.015     45.785      0.000       0.654       0.713\n",
       "zipcode[T.98053]     0.6178      0.016     38.283      0.000       0.586       0.649\n",
       "zipcode[T.98055]     0.1271      0.018      7.099      0.000       0.092       0.162\n",
       "zipcode[T.98056]     0.3258      0.016     20.287      0.000       0.294       0.357\n",
       "zipcode[T.98058]     0.1795      0.016     11.470      0.000       0.149       0.210\n",
       "zipcode[T.98059]     0.3592      0.016     23.060      0.000       0.329       0.390\n",
       "zipcode[T.98065]     0.4020      0.017     23.291      0.000       0.368       0.436\n",
       "zipcode[T.98070]     0.5378      0.024     22.776      0.000       0.492       0.584\n",
       "zipcode[T.98072]     0.5381      0.018     30.193      0.000       0.503       0.573\n",
       "zipcode[T.98074]     0.6330      0.016     40.031      0.000       0.602       0.664\n",
       "zipcode[T.98075]     0.6595      0.017     39.566      0.000       0.627       0.692\n",
       "zipcode[T.98077]     0.5418      0.020     27.493      0.000       0.503       0.580\n",
       "zipcode[T.98092]     0.0718      0.017      4.314      0.000       0.039       0.104\n",
       "zipcode[T.98102]     0.9821      0.025     39.750      0.000       0.934       1.030\n",
       "zipcode[T.98103]     0.8161      0.015     55.203      0.000       0.787       0.845\n",
       "zipcode[T.98105]     0.9808      0.019     52.291      0.000       0.944       1.018\n",
       "zipcode[T.98106]     0.2780      0.017     16.493      0.000       0.245       0.311\n",
       "zipcode[T.98107]     0.8457      0.018     47.123      0.000       0.810       0.881\n",
       "zipcode[T.98108]     0.3108      0.020     15.509      0.000       0.271       0.350\n",
       "zipcode[T.98109]     1.0405      0.024     42.891      0.000       0.993       1.088\n",
       "zipcode[T.98112]     1.0816      0.018     60.389      0.000       1.047       1.117\n",
       "zipcode[T.98115]     0.8084      0.015     54.382      0.000       0.779       0.838\n",
       "zipcode[T.98116]     0.7922      0.017     46.862      0.000       0.759       0.825\n",
       "zipcode[T.98117]     0.7971      0.015     53.053      0.000       0.768       0.827\n",
       "zipcode[T.98118]     0.4237      0.015     27.713      0.000       0.394       0.454\n",
       "zipcode[T.98119]     1.0319      0.020     51.322      0.000       0.992       1.071\n",
       "zipcode[T.98122]     0.8311      0.018     47.478      0.000       0.797       0.865\n",
       "zipcode[T.98125]     0.5582      0.016     34.819      0.000       0.527       0.590\n",
       "zipcode[T.98126]     0.5267      0.017     31.701      0.000       0.494       0.559\n",
       "zipcode[T.98133]     0.4407      0.015     28.647      0.000       0.411       0.471\n",
       "zipcode[T.98136]     0.7147      0.018     39.713      0.000       0.679       0.750\n",
       "zipcode[T.98144]     0.6642      0.017     39.683      0.000       0.631       0.697\n",
       "zipcode[T.98146]     0.2593      0.018     14.777      0.000       0.225       0.294\n",
       "zipcode[T.98148]     0.1219      0.032      3.854      0.000       0.060       0.184\n",
       "zipcode[T.98155]     0.4254      0.016     27.069      0.000       0.395       0.456\n",
       "zipcode[T.98166]     0.3633      0.018     19.985      0.000       0.328       0.399\n",
       "zipcode[T.98168]     0.0013      0.018      0.074      0.941      -0.034       0.036\n",
       "zipcode[T.98177]     0.6609      0.018     36.367      0.000       0.625       0.697\n",
       "zipcode[T.98178]     0.1264      0.018      7.014      0.000       0.091       0.162\n",
       "zipcode[T.98188]     0.0603      0.022      2.700      0.007       0.017       0.104\n",
       "zipcode[T.98198]     0.0935      0.018      5.292      0.000       0.059       0.128\n",
       "zipcode[T.98199]     0.9053      0.017     52.970      0.000       0.872       0.939\n",
       "sqft_living          0.0003   1.83e-06    188.693      0.000       0.000       0.000\n",
       "==============================================================================\n",
       "Omnibus:                     1849.161   Durbin-Watson:                   1.995\n",
       "Prob(Omnibus):                  0.000   Jarque-Bera (JB):            12276.576\n",
       "Skew:                           0.029   Prob(JB):                         0.00\n",
       "Kurtosis:                       6.693   Cond. No.                     1.49e+05\n",
       "==============================================================================\n",
       "\n",
       "Warnings:\n",
       "[1] Standard Errors assume that the covariance matrix of the errors is correctly specified.\n",
       "[2] The condition number is large, 1.49e+05. This might indicate that there are\n",
       "strong multicollinearity or other numerical problems.\n",
       "\"\"\""
      ]
     },
     "execution_count": 1117,
     "metadata": {},
     "output_type": "execute_result"
    }
   ],
   "source": [
    "lr_model.summary() "
   ]
  },
  {
   "cell_type": "markdown",
   "metadata": {},
   "source": [
    "# Zipcode Dummies"
   ]
  },
  {
   "cell_type": "code",
   "execution_count": 951,
   "metadata": {},
   "outputs": [],
   "source": [
    "kc['zipcode'] = kc['zipcode'].astype('category')"
   ]
  },
  {
   "cell_type": "code",
   "execution_count": 952,
   "metadata": {},
   "outputs": [],
   "source": [
    "zipdums = pd.get_dummies(kc['zipcode'], drop_first=True)"
   ]
  },
  {
   "cell_type": "code",
   "execution_count": 953,
   "metadata": {},
   "outputs": [],
   "source": [
    "kc = pd.concat([kc, zipdums], axis = 1)"
   ]
  },
  {
   "cell_type": "code",
   "execution_count": 1118,
   "metadata": {},
   "outputs": [
    {
     "data": {
      "text/plain": [
       "0        98178\n",
       "1        98125\n",
       "2        98028\n",
       "3        98136\n",
       "4        98074\n",
       "         ...  \n",
       "21592    98103\n",
       "21593    98146\n",
       "21594    98144\n",
       "21595    98027\n",
       "21596    98144\n",
       "Name: zipcode, Length: 21597, dtype: category\n",
       "Categories (70, int64): [98001, 98002, 98003, 98004, ..., 98178, 98188, 98198, 98199]"
      ]
     },
     "execution_count": 1118,
     "metadata": {},
     "output_type": "execute_result"
    }
   ],
   "source": [
    "kc['zipcode']"
   ]
  },
  {
   "cell_type": "markdown",
   "metadata": {},
   "source": [
    "# Log Transformation"
   ]
  },
  {
   "cell_type": "markdown",
   "metadata": {},
   "source": [
    "* More normal distributions"
   ]
  },
  {
   "cell_type": "code",
   "execution_count": null,
   "metadata": {},
   "outputs": [],
   "source": [
    "non_normal = ['column', 'column', 'column']\n",
    "for feat in non_normal:\n",
    "    data[feat] = data[feat].map(lambda x: np.log(x))\n",
    "pd.plotting.scatter_matrix(data[x_cols], figsize=(10,12));"
   ]
  },
  {
   "cell_type": "markdown",
   "metadata": {},
   "source": [
    "# Feature Scaling and Normalization"
   ]
  },
  {
   "cell_type": "code",
   "execution_count": 870,
   "metadata": {
    "scrolled": true
   },
   "outputs": [
    {
     "data": {
      "image/png": "[encoded data removed]",
      "text/plain": [
       "<Figure size 864x864 with 16 Axes>"
      ]
     },
     "metadata": {
      "needs_background": "light"
     },
     "output_type": "display_data"
    }
   ],
   "source": [
    "kc.hist(figsize  = [12, 12]); "
   ]
  },
  {
   "cell_type": "code",
   "execution_count": null,
   "metadata": {},
   "outputs": [],
   "source": []
  },
  {
   "cell_type": "code",
   "execution_count": 1102,
   "metadata": {
    "scrolled": true
   },
   "outputs": [
    {
     "data": {
      "image/png": "[encoded data removed]",
      "text/plain": [
       "<Figure size 432x432 with 1 Axes>"
      ]
     },
     "metadata": {
      "needs_background": "light"
     },
     "output_type": "display_data"
    }
   ],
   "source": [
    "data_log = pd.DataFrame([])\n",
    "# kc['logbedrooms'] = np.log(kc['bedrooms'])\n",
    "# data_log['logbathrooms'] = np.log(kc['bathrooms'])\n",
    "kc['pricelog'] = np.log(kc['price'])\n",
    "data_log['sqft_lot'] = np.log(kc['sqft_lot'])\n",
    "\n",
    "data_log.hist(figsize  = [6, 6]);"
   ]
  },
  {
   "cell_type": "code",
   "execution_count": 1011,
   "metadata": {},
   "outputs": [
    {
     "data": {
      "image/png": "[encoded data removed]",
      "text/plain": [
       "<Figure size 432x432 with 1 Axes>"
      ]
     },
     "metadata": {
      "needs_background": "light"
     },
     "output_type": "display_data"
    }
   ],
   "source": [
    "floor = kc['floors']\n",
    "scaled_floor = (floor - min(floor)) / (max(floor) - min(floor))\n",
    "\n",
    "data_scaled = pd.DataFrame([])\n",
    "\n",
    "data_scaled['acc'] = scaled_floor\n",
    "\n",
    "data_scaled.hist(figsize = [6, 6]);\n"
   ]
  },
  {
   "cell_type": "code",
   "execution_count": null,
   "metadata": {},
   "outputs": [],
   "source": [
    "acc = data_pred['acceleration']\n",
    "# logdisp = data_log['logdisp']\n",
    "# loghorse = data_log['loghorse']\n",
    "# logweight = data_log['logweight']\n",
    "\n",
    "scaled_acc = (acc - min(acc)) / (max(acc) - min(acc))\n",
    "scaled_disp = (logdisp - np.mean(logdisp)) / np.sqrt(np.var(logdisp))\n",
    "# scaled_weight = (logweight - np.mean(logweight)) / np.sqrt(np.var(logweight))\n",
    "# scaled_horse = (loghorse - np.mean(loghorse)) / (max(loghorse) - min(loghorse))\n",
    "\n",
    "data_cont_scaled = pd.DataFrame([])\n",
    "data_cont_scaled['acc'] = scaled_acc\n",
    "data_cont_scaled['disp'] = scaled_disp\n",
    "# data_cont_scaled['horse'] = scaled_horse\n",
    "# data_cont_scaled['weight'] = scaled_weight\n",
    "\n",
    "data_cont_scaled.hist(figsize = [6, 6]);"
   ]
  },
  {
   "cell_type": "code",
   "execution_count": 1044,
   "metadata": {},
   "outputs": [
    {
     "data": {
      "text/plain": [
       "Index([         'date',         'price',      'bedrooms',     'bathrooms',\n",
       "         'sqft_living',      'sqft_lot',        'floors',    'waterfront',\n",
       "         'Tour_Rating',     'condition',  'Assoc_Rating', 'sqft_basement',\n",
       "                 'Age',       'zipcode',           'lat',          'long',\n",
       "       'sqft_living15',    'sqft_lot15',           98002,           98003,\n",
       "                 98004,           98005,           98006,           98007,\n",
       "                 98008,           98010,           98011,           98014,\n",
       "                 98019,           98022,           98023,           98024,\n",
       "                 98027,           98028,           98029,           98030,\n",
       "                 98031,           98032,           98033,           98034,\n",
       "                 98038,           98039,           98040,           98042,\n",
       "                 98045,           98052,           98053,           98055,\n",
       "                 98056,           98058,           98059,           98065,\n",
       "                 98070,           98072,           98074,           98075,\n",
       "                 98077,           98092,           98102,           98103,\n",
       "                 98105,           98106,           98107,           98108,\n",
       "                 98109,           98112,           98115,           98116,\n",
       "                 98117,           98118,           98119,           98122,\n",
       "                 98125,           98126,           98133,           98136,\n",
       "                 98144,           98146,           98148,           98155,\n",
       "                 98166,           98168,           98177,           98178,\n",
       "                 98188,           98198,           98199, 'logsqftliving',\n",
       "         'logbedrooms'],\n",
       "      dtype='object')"
      ]
     },
     "execution_count": 1044,
     "metadata": {},
     "output_type": "execute_result"
    }
   ],
   "source": [
    "kc.columns"
   ]
  },
  {
   "cell_type": "markdown",
   "metadata": {},
   "source": [
    "# SqftLot, SqftLiving, Sqft15"
   ]
  },
  {
   "cell_type": "code",
   "execution_count": 721,
   "metadata": {},
   "outputs": [
    {
     "data": {
      "text/plain": [
       "<bound method NDFrame.describe of 0        5650\n",
       "1        7639\n",
       "2        8062\n",
       "3        5000\n",
       "4        7503\n",
       "         ... \n",
       "21592    1509\n",
       "21593    7200\n",
       "21594    2007\n",
       "21595    1287\n",
       "21596    1357\n",
       "Name: sqft_lot15, Length: 21597, dtype: int64>"
      ]
     },
     "execution_count": 721,
     "metadata": {},
     "output_type": "execute_result"
    }
   ],
   "source": [
    "kc['sqft_lot15'].describe"
   ]
  },
  {
   "cell_type": "markdown",
   "metadata": {},
   "source": [
    "#### Creating new Add_Size that will determine living space size relative to neighborhood (15 nieghbors)"
   ]
  },
  {
   "cell_type": "code",
   "execution_count": 723,
   "metadata": {},
   "outputs": [],
   "source": [
    "def add_size(kc):\n",
    "    Size = []\n",
    "    lower_size = kc['sqft_living'] - 1000\n",
    "    raise_size = kc['sqft_living'] + 1000\n",
    "    if lower_size >= kc['sqft_living15']:\n",
    "        Size.append('Big House')\n",
    "    elif raise_size <= kc['sqft_living15']:\n",
    "        Size.append('Small House')\n",
    "    else:\n",
    "        Size.append('Average House')\n",
    "    return Size\n",
    "\n",
    "    "
   ]
  },
  {
   "cell_type": "code",
   "execution_count": 725,
   "metadata": {},
   "outputs": [],
   "source": [
    "x = kc.apply(add_size, axis = 1)"
   ]
  },
  {
   "cell_type": "code",
   "execution_count": 726,
   "metadata": {},
   "outputs": [],
   "source": [
    "kc['LivingSpaceNeighbors'] = tuple(x)"
   ]
  },
  {
   "cell_type": "code",
   "execution_count": 753,
   "metadata": {},
   "outputs": [],
   "source": [
    "def add_size_property(kc):\n",
    "    Size = []\n",
    "    lower_size = kc['sqft_lot'] - 5000\n",
    "    raise_size = kc['sqft_lot'] + 5000\n",
    "    if lower_size >= kc['sqft_lot15']:\n",
    "        Size.append('Larger_Neighborhood_Property')\n",
    "    elif raise_size <= kc['sqft_lot15']:\n",
    "        Size.append('Smaller_Neighborhood_Property')\n",
    "    else:\n",
    "        Size.append('Average_Property')\n",
    "    return Size\n",
    "\n",
    "    "
   ]
  },
  {
   "cell_type": "code",
   "execution_count": 738,
   "metadata": {},
   "outputs": [],
   "source": [
    "p = kc.apply(add_size_property, axis = 1)"
   ]
  },
  {
   "cell_type": "code",
   "execution_count": 739,
   "metadata": {},
   "outputs": [],
   "source": [
    "kc['Property_Space'] = tuple(p)"
   ]
  },
  {
   "cell_type": "markdown",
   "metadata": {},
   "source": [
    "##### Getting Dummy Variables "
   ]
  },
  {
   "cell_type": "code",
   "execution_count": 727,
   "metadata": {},
   "outputs": [],
   "source": [
    "kc['LivingSpaceNeighbors'] = kc['LivingSpaceNeighbors'].astype('category')"
   ]
  },
  {
   "cell_type": "code",
   "execution_count": 740,
   "metadata": {},
   "outputs": [],
   "source": [
    "kc['Property_Space'] = kc['Property_Space'].astype('category')"
   ]
  },
  {
   "cell_type": "code",
   "execution_count": 731,
   "metadata": {},
   "outputs": [],
   "source": [
    "dums = pd.get_dummies(kc['LivingSpaceNeighbors'], drop_first=True)"
   ]
  },
  {
   "cell_type": "code",
   "execution_count": 742,
   "metadata": {},
   "outputs": [],
   "source": [
    "dums2 = pd.get_dummies(kc['Property_Space'], drop_first=True)"
   ]
  },
  {
   "cell_type": "code",
   "execution_count": 732,
   "metadata": {},
   "outputs": [],
   "source": [
    "kc = pd.concat([kc, dums], axis = 1)"
   ]
  },
  {
   "cell_type": "code",
   "execution_count": 743,
   "metadata": {},
   "outputs": [],
   "source": [
    "kc = pd.concat([kc, dums2], axis = 1)"
   ]
  },
  {
   "cell_type": "code",
   "execution_count": 982,
   "metadata": {},
   "outputs": [
    {
     "data": {
      "text/html": [
       "<div>\n",
       "<style scoped>\n",
       "    .dataframe tbody tr th:only-of-type {\n",
       "        vertical-align: middle;\n",
       "    }\n",
       "\n",
       "    .dataframe tbody tr th {\n",
       "        vertical-align: top;\n",
       "    }\n",
       "\n",
       "    .dataframe thead th {\n",
       "        text-align: right;\n",
       "    }\n",
       "</style>\n",
       "<table border=\"1\" class=\"dataframe\">\n",
       "  <thead>\n",
       "    <tr style=\"text-align: right;\">\n",
       "      <th></th>\n",
       "      <th>date</th>\n",
       "      <th>price</th>\n",
       "      <th>bedrooms</th>\n",
       "      <th>bathrooms</th>\n",
       "      <th>sqft_living</th>\n",
       "      <th>sqft_lot</th>\n",
       "      <th>floors</th>\n",
       "      <th>waterfront</th>\n",
       "      <th>Tour_Rating</th>\n",
       "      <th>condition</th>\n",
       "      <th>...</th>\n",
       "      <th>98146</th>\n",
       "      <th>98148</th>\n",
       "      <th>98155</th>\n",
       "      <th>98166</th>\n",
       "      <th>98168</th>\n",
       "      <th>98177</th>\n",
       "      <th>98178</th>\n",
       "      <th>98188</th>\n",
       "      <th>98198</th>\n",
       "      <th>98199</th>\n",
       "    </tr>\n",
       "  </thead>\n",
       "  <tbody>\n",
       "    <tr>\n",
       "      <td>0</td>\n",
       "      <td>2014-10-13</td>\n",
       "      <td>221900.0</td>\n",
       "      <td>3</td>\n",
       "      <td>1.00</td>\n",
       "      <td>1180</td>\n",
       "      <td>5650</td>\n",
       "      <td>1.0</td>\n",
       "      <td>0.0</td>\n",
       "      <td>0.0</td>\n",
       "      <td>3</td>\n",
       "      <td>...</td>\n",
       "      <td>0</td>\n",
       "      <td>0</td>\n",
       "      <td>0</td>\n",
       "      <td>0</td>\n",
       "      <td>0</td>\n",
       "      <td>0</td>\n",
       "      <td>1</td>\n",
       "      <td>0</td>\n",
       "      <td>0</td>\n",
       "      <td>0</td>\n",
       "    </tr>\n",
       "    <tr>\n",
       "      <td>1</td>\n",
       "      <td>2014-12-09</td>\n",
       "      <td>538000.0</td>\n",
       "      <td>3</td>\n",
       "      <td>2.25</td>\n",
       "      <td>2570</td>\n",
       "      <td>7242</td>\n",
       "      <td>2.0</td>\n",
       "      <td>0.0</td>\n",
       "      <td>0.0</td>\n",
       "      <td>3</td>\n",
       "      <td>...</td>\n",
       "      <td>0</td>\n",
       "      <td>0</td>\n",
       "      <td>0</td>\n",
       "      <td>0</td>\n",
       "      <td>0</td>\n",
       "      <td>0</td>\n",
       "      <td>0</td>\n",
       "      <td>0</td>\n",
       "      <td>0</td>\n",
       "      <td>0</td>\n",
       "    </tr>\n",
       "    <tr>\n",
       "      <td>2</td>\n",
       "      <td>2015-02-25</td>\n",
       "      <td>180000.0</td>\n",
       "      <td>2</td>\n",
       "      <td>1.00</td>\n",
       "      <td>770</td>\n",
       "      <td>10000</td>\n",
       "      <td>1.0</td>\n",
       "      <td>0.0</td>\n",
       "      <td>0.0</td>\n",
       "      <td>3</td>\n",
       "      <td>...</td>\n",
       "      <td>0</td>\n",
       "      <td>0</td>\n",
       "      <td>0</td>\n",
       "      <td>0</td>\n",
       "      <td>0</td>\n",
       "      <td>0</td>\n",
       "      <td>0</td>\n",
       "      <td>0</td>\n",
       "      <td>0</td>\n",
       "      <td>0</td>\n",
       "    </tr>\n",
       "    <tr>\n",
       "      <td>3</td>\n",
       "      <td>2014-12-09</td>\n",
       "      <td>604000.0</td>\n",
       "      <td>4</td>\n",
       "      <td>3.00</td>\n",
       "      <td>1960</td>\n",
       "      <td>5000</td>\n",
       "      <td>1.0</td>\n",
       "      <td>0.0</td>\n",
       "      <td>0.0</td>\n",
       "      <td>5</td>\n",
       "      <td>...</td>\n",
       "      <td>0</td>\n",
       "      <td>0</td>\n",
       "      <td>0</td>\n",
       "      <td>0</td>\n",
       "      <td>0</td>\n",
       "      <td>0</td>\n",
       "      <td>0</td>\n",
       "      <td>0</td>\n",
       "      <td>0</td>\n",
       "      <td>0</td>\n",
       "    </tr>\n",
       "    <tr>\n",
       "      <td>4</td>\n",
       "      <td>2015-02-18</td>\n",
       "      <td>510000.0</td>\n",
       "      <td>3</td>\n",
       "      <td>2.00</td>\n",
       "      <td>1680</td>\n",
       "      <td>8080</td>\n",
       "      <td>1.0</td>\n",
       "      <td>0.0</td>\n",
       "      <td>0.0</td>\n",
       "      <td>3</td>\n",
       "      <td>...</td>\n",
       "      <td>0</td>\n",
       "      <td>0</td>\n",
       "      <td>0</td>\n",
       "      <td>0</td>\n",
       "      <td>0</td>\n",
       "      <td>0</td>\n",
       "      <td>0</td>\n",
       "      <td>0</td>\n",
       "      <td>0</td>\n",
       "      <td>0</td>\n",
       "    </tr>\n",
       "    <tr>\n",
       "      <td>...</td>\n",
       "      <td>...</td>\n",
       "      <td>...</td>\n",
       "      <td>...</td>\n",
       "      <td>...</td>\n",
       "      <td>...</td>\n",
       "      <td>...</td>\n",
       "      <td>...</td>\n",
       "      <td>...</td>\n",
       "      <td>...</td>\n",
       "      <td>...</td>\n",
       "      <td>...</td>\n",
       "      <td>...</td>\n",
       "      <td>...</td>\n",
       "      <td>...</td>\n",
       "      <td>...</td>\n",
       "      <td>...</td>\n",
       "      <td>...</td>\n",
       "      <td>...</td>\n",
       "      <td>...</td>\n",
       "      <td>...</td>\n",
       "      <td>...</td>\n",
       "    </tr>\n",
       "    <tr>\n",
       "      <td>21592</td>\n",
       "      <td>2014-05-21</td>\n",
       "      <td>360000.0</td>\n",
       "      <td>3</td>\n",
       "      <td>2.50</td>\n",
       "      <td>1530</td>\n",
       "      <td>1131</td>\n",
       "      <td>3.0</td>\n",
       "      <td>0.0</td>\n",
       "      <td>0.0</td>\n",
       "      <td>3</td>\n",
       "      <td>...</td>\n",
       "      <td>0</td>\n",
       "      <td>0</td>\n",
       "      <td>0</td>\n",
       "      <td>0</td>\n",
       "      <td>0</td>\n",
       "      <td>0</td>\n",
       "      <td>0</td>\n",
       "      <td>0</td>\n",
       "      <td>0</td>\n",
       "      <td>0</td>\n",
       "    </tr>\n",
       "    <tr>\n",
       "      <td>21593</td>\n",
       "      <td>2015-02-23</td>\n",
       "      <td>400000.0</td>\n",
       "      <td>4</td>\n",
       "      <td>2.50</td>\n",
       "      <td>2310</td>\n",
       "      <td>5813</td>\n",
       "      <td>2.0</td>\n",
       "      <td>0.0</td>\n",
       "      <td>0.0</td>\n",
       "      <td>3</td>\n",
       "      <td>...</td>\n",
       "      <td>1</td>\n",
       "      <td>0</td>\n",
       "      <td>0</td>\n",
       "      <td>0</td>\n",
       "      <td>0</td>\n",
       "      <td>0</td>\n",
       "      <td>0</td>\n",
       "      <td>0</td>\n",
       "      <td>0</td>\n",
       "      <td>0</td>\n",
       "    </tr>\n",
       "    <tr>\n",
       "      <td>21594</td>\n",
       "      <td>2014-06-23</td>\n",
       "      <td>402101.0</td>\n",
       "      <td>2</td>\n",
       "      <td>0.75</td>\n",
       "      <td>1020</td>\n",
       "      <td>1350</td>\n",
       "      <td>2.0</td>\n",
       "      <td>0.0</td>\n",
       "      <td>0.0</td>\n",
       "      <td>3</td>\n",
       "      <td>...</td>\n",
       "      <td>0</td>\n",
       "      <td>0</td>\n",
       "      <td>0</td>\n",
       "      <td>0</td>\n",
       "      <td>0</td>\n",
       "      <td>0</td>\n",
       "      <td>0</td>\n",
       "      <td>0</td>\n",
       "      <td>0</td>\n",
       "      <td>0</td>\n",
       "    </tr>\n",
       "    <tr>\n",
       "      <td>21595</td>\n",
       "      <td>2015-01-16</td>\n",
       "      <td>400000.0</td>\n",
       "      <td>3</td>\n",
       "      <td>2.50</td>\n",
       "      <td>1600</td>\n",
       "      <td>2388</td>\n",
       "      <td>2.0</td>\n",
       "      <td>0.0</td>\n",
       "      <td>0.0</td>\n",
       "      <td>3</td>\n",
       "      <td>...</td>\n",
       "      <td>0</td>\n",
       "      <td>0</td>\n",
       "      <td>0</td>\n",
       "      <td>0</td>\n",
       "      <td>0</td>\n",
       "      <td>0</td>\n",
       "      <td>0</td>\n",
       "      <td>0</td>\n",
       "      <td>0</td>\n",
       "      <td>0</td>\n",
       "    </tr>\n",
       "    <tr>\n",
       "      <td>21596</td>\n",
       "      <td>2014-10-15</td>\n",
       "      <td>325000.0</td>\n",
       "      <td>2</td>\n",
       "      <td>0.75</td>\n",
       "      <td>1020</td>\n",
       "      <td>1076</td>\n",
       "      <td>2.0</td>\n",
       "      <td>0.0</td>\n",
       "      <td>0.0</td>\n",
       "      <td>3</td>\n",
       "      <td>...</td>\n",
       "      <td>0</td>\n",
       "      <td>0</td>\n",
       "      <td>0</td>\n",
       "      <td>0</td>\n",
       "      <td>0</td>\n",
       "      <td>0</td>\n",
       "      <td>0</td>\n",
       "      <td>0</td>\n",
       "      <td>0</td>\n",
       "      <td>0</td>\n",
       "    </tr>\n",
       "  </tbody>\n",
       "</table>\n",
       "<p>21597 rows × 87 columns</p>\n",
       "</div>"
      ],
      "text/plain": [
       "            date     price  bedrooms  bathrooms  sqft_living  sqft_lot  \\\n",
       "0     2014-10-13  221900.0         3       1.00         1180      5650   \n",
       "1     2014-12-09  538000.0         3       2.25         2570      7242   \n",
       "2     2015-02-25  180000.0         2       1.00          770     10000   \n",
       "3     2014-12-09  604000.0         4       3.00         1960      5000   \n",
       "4     2015-02-18  510000.0         3       2.00         1680      8080   \n",
       "...          ...       ...       ...        ...          ...       ...   \n",
       "21592 2014-05-21  360000.0         3       2.50         1530      1131   \n",
       "21593 2015-02-23  400000.0         4       2.50         2310      5813   \n",
       "21594 2014-06-23  402101.0         2       0.75         1020      1350   \n",
       "21595 2015-01-16  400000.0         3       2.50         1600      2388   \n",
       "21596 2014-10-15  325000.0         2       0.75         1020      1076   \n",
       "\n",
       "       floors waterfront  Tour_Rating  condition  ...  98146 98148  98155  \\\n",
       "0         1.0        0.0          0.0          3  ...      0     0      0   \n",
       "1         2.0        0.0          0.0          3  ...      0     0      0   \n",
       "2         1.0        0.0          0.0          3  ...      0     0      0   \n",
       "3         1.0        0.0          0.0          5  ...      0     0      0   \n",
       "4         1.0        0.0          0.0          3  ...      0     0      0   \n",
       "...       ...        ...          ...        ...  ...    ...   ...    ...   \n",
       "21592     3.0        0.0          0.0          3  ...      0     0      0   \n",
       "21593     2.0        0.0          0.0          3  ...      1     0      0   \n",
       "21594     2.0        0.0          0.0          3  ...      0     0      0   \n",
       "21595     2.0        0.0          0.0          3  ...      0     0      0   \n",
       "21596     2.0        0.0          0.0          3  ...      0     0      0   \n",
       "\n",
       "      98166  98168  98177  98178  98188  98198  98199  \n",
       "0         0      0      0      1      0      0      0  \n",
       "1         0      0      0      0      0      0      0  \n",
       "2         0      0      0      0      0      0      0  \n",
       "3         0      0      0      0      0      0      0  \n",
       "4         0      0      0      0      0      0      0  \n",
       "...     ...    ...    ...    ...    ...    ...    ...  \n",
       "21592     0      0      0      0      0      0      0  \n",
       "21593     0      0      0      0      0      0      0  \n",
       "21594     0      0      0      0      0      0      0  \n",
       "21595     0      0      0      0      0      0      0  \n",
       "21596     0      0      0      0      0      0      0  \n",
       "\n",
       "[21597 rows x 87 columns]"
      ]
     },
     "execution_count": 982,
     "metadata": {},
     "output_type": "execute_result"
    }
   ],
   "source": [
    "kc"
   ]
  },
  {
   "cell_type": "markdown",
   "metadata": {},
   "source": [
    "# Reason for dropping \n",
    "\n",
    "* sqft_living15\n",
    "* sqft_lot15\n"
   ]
  },
  {
   "cell_type": "code",
   "execution_count": 761,
   "metadata": {},
   "outputs": [],
   "source": [
    "kc.drop(['yr_renovated','id','sqft_above','sqft_living15','sqft_lot15'], axis=1, inplace = True)"
   ]
  },
  {
   "cell_type": "markdown",
   "metadata": {},
   "source": [
    "## Renaming Columns"
   ]
  },
  {
   "cell_type": "code",
   "execution_count": null,
   "metadata": {},
   "outputs": [],
   "source": [
    "#kc.rename(columns={'time': 'Date', 'icon': \"Forecast\"}, inplace=True)"
   ]
  },
  {
   "cell_type": "code",
   "execution_count": 411,
   "metadata": {},
   "outputs": [],
   "source": [
    "#linear regression models --> lasso --> ridge - learn (regularzation lecture for training data)"
   ]
  },
  {
   "cell_type": "code",
   "execution_count": null,
   "metadata": {},
   "outputs": [],
   "source": [
    "#dummy variable for  "
   ]
  }
 ],
 "metadata": {
  "kernelspec": {
   "display_name": "Python 3",
   "language": "python",
   "name": "python3"
  },
  "language_info": {
   "codemirror_mode": {
    "name": "ipython",
    "version": 3
   },
   "file_extension": ".py",
   "mimetype": "text/x-python",
   "name": "python",
   "nbconvert_exporter": "python",
   "pygments_lexer": "ipython3",
   "version": "3.7.4"
  }
 },
 "nbformat": 4,
 "nbformat_minor": 2
}
