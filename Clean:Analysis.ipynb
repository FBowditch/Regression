{
 "cells": [
  {
   "cell_type": "code",
   "execution_count": 1055,
   "metadata": {},
   "outputs": [],
   "source": [
    "import pandas as pd\n",
    "import numpy as np\n",
    "import seaborn as sns\n",
    "import matplotlib.pyplot as plt\n",
    "from sklearn.linear_model import LogisticRegression\n",
    "from statsmodels.formula.api import ols\n",
    "from sklearn.model_selection import train_test_split\n",
    "from sklearn.compose import ColumnTransformer\n",
    "from sklearn.pipeline import Pipeline\n",
    "from sklearn.impute import SimpleImputer\n",
    "from sklearn.preprocessing import StandardScaler, OneHotEncoder\n",
    "from sklearn.model_selection import train_test_split, GridSearchCV\n",
    "\n",
    "%matplotlib inline"
   ]
  },
  {
   "cell_type": "code",
   "execution_count": 1056,
   "metadata": {},
   "outputs": [],
   "source": [
    "kc = pd.read_csv('kc_house_data.csv')"
   ]
  },
  {
   "cell_type": "code",
   "execution_count": 1057,
   "metadata": {
    "scrolled": true
   },
   "outputs": [
    {
     "name": "stdout",
     "output_type": "stream",
     "text": [
      "<class 'pandas.core.frame.DataFrame'>\n",
      "RangeIndex: 21597 entries, 0 to 21596\n",
      "Data columns (total 21 columns):\n",
      "id               21597 non-null int64\n",
      "date             21597 non-null object\n",
      "price            21597 non-null float64\n",
      "bedrooms         21597 non-null int64\n",
      "bathrooms        21597 non-null float64\n",
      "sqft_living      21597 non-null int64\n",
      "sqft_lot         21597 non-null int64\n",
      "floors           21597 non-null float64\n",
      "waterfront       19221 non-null float64\n",
      "view             21534 non-null float64\n",
      "condition        21597 non-null int64\n",
      "grade            21597 non-null int64\n",
      "sqft_above       21597 non-null int64\n",
      "sqft_basement    21597 non-null object\n",
      "yr_built         21597 non-null int64\n",
      "yr_renovated     17755 non-null float64\n",
      "zipcode          21597 non-null int64\n",
      "lat              21597 non-null float64\n",
      "long             21597 non-null float64\n",
      "sqft_living15    21597 non-null int64\n",
      "sqft_lot15       21597 non-null int64\n",
      "dtypes: float64(8), int64(11), object(2)\n",
      "memory usage: 3.5+ MB\n"
     ]
    }
   ],
   "source": [
    "kc.info()"
   ]
  },
  {
   "cell_type": "markdown",
   "metadata": {},
   "source": [
    "Variables with High Correlation to Price > .5 \n",
    "- bathrooms .52\n",
    "- sqft_living .70\n",
    "- grade .66\n",
    "- sqft_above .60\n",
    "- sqft_living15 .59"
   ]
  },
  {
   "cell_type": "code",
   "execution_count": 1307,
   "metadata": {},
   "outputs": [],
   "source": [
    "check_kc = kc[['price','bathrooms','sqft_living','grade','sqft_above','sqft_living15']]"
   ]
  },
  {
   "cell_type": "code",
   "execution_count": 1308,
   "metadata": {},
   "outputs": [
    {
     "data": {
      "text/html": [
       "<div>\n",
       "<style scoped>\n",
       "    .dataframe tbody tr th:only-of-type {\n",
       "        vertical-align: middle;\n",
       "    }\n",
       "\n",
       "    .dataframe tbody tr th {\n",
       "        vertical-align: top;\n",
       "    }\n",
       "\n",
       "    .dataframe thead th {\n",
       "        text-align: right;\n",
       "    }\n",
       "</style>\n",
       "<table border=\"1\" class=\"dataframe\">\n",
       "  <thead>\n",
       "    <tr style=\"text-align: right;\">\n",
       "      <th></th>\n",
       "      <th>price</th>\n",
       "      <th>bathrooms</th>\n",
       "      <th>sqft_living</th>\n",
       "      <th>grade</th>\n",
       "      <th>sqft_above</th>\n",
       "      <th>sqft_living15</th>\n",
       "    </tr>\n",
       "  </thead>\n",
       "  <tbody>\n",
       "    <tr>\n",
       "      <td>count</td>\n",
       "      <td>2.159700e+04</td>\n",
       "      <td>21597.000000</td>\n",
       "      <td>21597.000000</td>\n",
       "      <td>21597.000000</td>\n",
       "      <td>21597.000000</td>\n",
       "      <td>21597.000000</td>\n",
       "    </tr>\n",
       "    <tr>\n",
       "      <td>mean</td>\n",
       "      <td>5.402966e+05</td>\n",
       "      <td>2.115826</td>\n",
       "      <td>2080.321850</td>\n",
       "      <td>4.657915</td>\n",
       "      <td>1788.596842</td>\n",
       "      <td>1986.620318</td>\n",
       "    </tr>\n",
       "    <tr>\n",
       "      <td>std</td>\n",
       "      <td>3.673681e+05</td>\n",
       "      <td>0.768984</td>\n",
       "      <td>918.106125</td>\n",
       "      <td>1.173200</td>\n",
       "      <td>827.759761</td>\n",
       "      <td>685.230472</td>\n",
       "    </tr>\n",
       "    <tr>\n",
       "      <td>min</td>\n",
       "      <td>7.800000e+04</td>\n",
       "      <td>0.500000</td>\n",
       "      <td>370.000000</td>\n",
       "      <td>0.000000</td>\n",
       "      <td>370.000000</td>\n",
       "      <td>399.000000</td>\n",
       "    </tr>\n",
       "    <tr>\n",
       "      <td>25%</td>\n",
       "      <td>3.220000e+05</td>\n",
       "      <td>1.750000</td>\n",
       "      <td>1430.000000</td>\n",
       "      <td>4.000000</td>\n",
       "      <td>1190.000000</td>\n",
       "      <td>1490.000000</td>\n",
       "    </tr>\n",
       "    <tr>\n",
       "      <td>50%</td>\n",
       "      <td>4.500000e+05</td>\n",
       "      <td>2.250000</td>\n",
       "      <td>1910.000000</td>\n",
       "      <td>4.000000</td>\n",
       "      <td>1560.000000</td>\n",
       "      <td>1840.000000</td>\n",
       "    </tr>\n",
       "    <tr>\n",
       "      <td>75%</td>\n",
       "      <td>6.450000e+05</td>\n",
       "      <td>2.500000</td>\n",
       "      <td>2550.000000</td>\n",
       "      <td>5.000000</td>\n",
       "      <td>2210.000000</td>\n",
       "      <td>2360.000000</td>\n",
       "    </tr>\n",
       "    <tr>\n",
       "      <td>max</td>\n",
       "      <td>7.700000e+06</td>\n",
       "      <td>8.000000</td>\n",
       "      <td>13540.000000</td>\n",
       "      <td>10.000000</td>\n",
       "      <td>9410.000000</td>\n",
       "      <td>6210.000000</td>\n",
       "    </tr>\n",
       "  </tbody>\n",
       "</table>\n",
       "</div>"
      ],
      "text/plain": [
       "              price     bathrooms   sqft_living         grade    sqft_above  \\\n",
       "count  2.159700e+04  21597.000000  21597.000000  21597.000000  21597.000000   \n",
       "mean   5.402966e+05      2.115826   2080.321850      4.657915   1788.596842   \n",
       "std    3.673681e+05      0.768984    918.106125      1.173200    827.759761   \n",
       "min    7.800000e+04      0.500000    370.000000      0.000000    370.000000   \n",
       "25%    3.220000e+05      1.750000   1430.000000      4.000000   1190.000000   \n",
       "50%    4.500000e+05      2.250000   1910.000000      4.000000   1560.000000   \n",
       "75%    6.450000e+05      2.500000   2550.000000      5.000000   2210.000000   \n",
       "max    7.700000e+06      8.000000  13540.000000     10.000000   9410.000000   \n",
       "\n",
       "       sqft_living15  \n",
       "count   21597.000000  \n",
       "mean     1986.620318  \n",
       "std       685.230472  \n",
       "min       399.000000  \n",
       "25%      1490.000000  \n",
       "50%      1840.000000  \n",
       "75%      2360.000000  \n",
       "max      6210.000000  "
      ]
     },
     "execution_count": 1308,
     "metadata": {},
     "output_type": "execute_result"
    }
   ],
   "source": [
    "check_kc.describe()"
   ]
  },
  {
   "cell_type": "code",
   "execution_count": 1309,
   "metadata": {},
   "outputs": [
    {
     "data": {
      "text/plain": [
       "price            0\n",
       "bathrooms        0\n",
       "sqft_living      0\n",
       "grade            0\n",
       "sqft_above       0\n",
       "sqft_living15    0\n",
       "dtype: int64"
      ]
     },
     "execution_count": 1309,
     "metadata": {},
     "output_type": "execute_result"
    }
   ],
   "source": [
    "check_kc.isnull().sum()"
   ]
  },
  {
   "cell_type": "markdown",
   "metadata": {},
   "source": [
    "## Checking for multicollinearity"
   ]
  },
  {
   "cell_type": "markdown",
   "metadata": {},
   "source": [
    "Because the idea behind regression is that you can change one variable and keep the others constant, correlation is a problem, because it indicates that changes in one predictor are associated with changes in another one as well. Because of this, the estimates of the coefficients can have big fluctuations as a result of small changes in the model. As a result, you may not be able to interpret the coefficients reliably or trust the p-values associated with correlated predictors."
   ]
  },
  {
   "cell_type": "code",
   "execution_count": 1310,
   "metadata": {},
   "outputs": [
    {
     "data": {
      "text/html": [
       "<div>\n",
       "<style scoped>\n",
       "    .dataframe tbody tr th:only-of-type {\n",
       "        vertical-align: middle;\n",
       "    }\n",
       "\n",
       "    .dataframe tbody tr th {\n",
       "        vertical-align: top;\n",
       "    }\n",
       "\n",
       "    .dataframe thead th {\n",
       "        text-align: right;\n",
       "    }\n",
       "</style>\n",
       "<table border=\"1\" class=\"dataframe\">\n",
       "  <thead>\n",
       "    <tr style=\"text-align: right;\">\n",
       "      <th></th>\n",
       "      <th>price</th>\n",
       "      <th>bathrooms</th>\n",
       "      <th>sqft_living</th>\n",
       "      <th>grade</th>\n",
       "      <th>sqft_above</th>\n",
       "      <th>sqft_living15</th>\n",
       "    </tr>\n",
       "  </thead>\n",
       "  <tbody>\n",
       "    <tr>\n",
       "      <td>price</td>\n",
       "      <td>True</td>\n",
       "      <td>False</td>\n",
       "      <td>False</td>\n",
       "      <td>False</td>\n",
       "      <td>False</td>\n",
       "      <td>False</td>\n",
       "    </tr>\n",
       "    <tr>\n",
       "      <td>bathrooms</td>\n",
       "      <td>False</td>\n",
       "      <td>True</td>\n",
       "      <td>False</td>\n",
       "      <td>False</td>\n",
       "      <td>False</td>\n",
       "      <td>False</td>\n",
       "    </tr>\n",
       "    <tr>\n",
       "      <td>sqft_living</td>\n",
       "      <td>False</td>\n",
       "      <td>False</td>\n",
       "      <td>True</td>\n",
       "      <td>False</td>\n",
       "      <td>True</td>\n",
       "      <td>False</td>\n",
       "    </tr>\n",
       "    <tr>\n",
       "      <td>grade</td>\n",
       "      <td>False</td>\n",
       "      <td>False</td>\n",
       "      <td>False</td>\n",
       "      <td>True</td>\n",
       "      <td>False</td>\n",
       "      <td>False</td>\n",
       "    </tr>\n",
       "    <tr>\n",
       "      <td>sqft_above</td>\n",
       "      <td>False</td>\n",
       "      <td>False</td>\n",
       "      <td>True</td>\n",
       "      <td>False</td>\n",
       "      <td>True</td>\n",
       "      <td>False</td>\n",
       "    </tr>\n",
       "    <tr>\n",
       "      <td>sqft_living15</td>\n",
       "      <td>False</td>\n",
       "      <td>False</td>\n",
       "      <td>False</td>\n",
       "      <td>False</td>\n",
       "      <td>False</td>\n",
       "      <td>True</td>\n",
       "    </tr>\n",
       "  </tbody>\n",
       "</table>\n",
       "</div>"
      ],
      "text/plain": [
       "               price  bathrooms  sqft_living  grade  sqft_above  sqft_living15\n",
       "price           True      False        False  False       False          False\n",
       "bathrooms      False       True        False  False       False          False\n",
       "sqft_living    False      False         True  False        True          False\n",
       "grade          False      False        False   True       False          False\n",
       "sqft_above     False      False         True  False        True          False\n",
       "sqft_living15  False      False        False  False       False           True"
      ]
     },
     "execution_count": 1310,
     "metadata": {},
     "output_type": "execute_result"
    }
   ],
   "source": [
    "abs(check_kc.corr()) > .8"
   ]
  },
  {
   "cell_type": "code",
   "execution_count": 1311,
   "metadata": {},
   "outputs": [
    {
     "data": {
      "image/png": "[encoded data removed]",
      "text/plain": [
       "<Figure size 432x288 with 2 Axes>"
      ]
     },
     "metadata": {
      "needs_background": "light"
     },
     "output_type": "display_data"
    }
   ],
   "source": [
    "import seaborn as sns\n",
    "sns.heatmap(check_kc.corr(), center=0);"
   ]
  },
  {
   "cell_type": "markdown",
   "metadata": {},
   "source": [
    "- sqft_living and sqft_above highly correlated \n",
    "- dropping sqft_above to avoid multi collinearity"
   ]
  },
  {
   "cell_type": "code",
   "execution_count": 1312,
   "metadata": {},
   "outputs": [
    {
     "name": "stderr",
     "output_type": "stream",
     "text": [
      "/Users/findlaybowditch/opt/anaconda3/lib/python3.7/site-packages/pandas/core/frame.py:4102: SettingWithCopyWarning: \n",
      "A value is trying to be set on a copy of a slice from a DataFrame\n",
      "\n",
      "See the caveats in the documentation: http://pandas.pydata.org/pandas-docs/stable/user_guide/indexing.html#returning-a-view-versus-a-copy\n",
      "  errors=errors,\n"
     ]
    }
   ],
   "source": [
    "check_kc.drop(['sqft_above'], axis=1, inplace = True)"
   ]
  },
  {
   "cell_type": "code",
   "execution_count": 1313,
   "metadata": {
    "scrolled": true
   },
   "outputs": [
    {
     "name": "stderr",
     "output_type": "stream",
     "text": [
      "/Users/findlaybowditch/opt/anaconda3/lib/python3.7/site-packages/seaborn/axisgrid.py:2065: UserWarning: The `size` parameter has been renamed to `height`; pleaes update your code.\n",
      "  warnings.warn(msg, UserWarning)\n"
     ]
    },
    {
     "data": {
      "text/plain": [
       "<seaborn.axisgrid.PairGrid at 0x1c43f15390>"
      ]
     },
     "execution_count": 1313,
     "metadata": {},
     "output_type": "execute_result"
    },
    {
     "data": {
      "image/png": "[encoded data removed]",
      "text/plain": [
       "<Figure size 1411.2x504 with 4 Axes>"
      ]
     },
     "metadata": {
      "needs_background": "light"
     },
     "output_type": "display_data"
    }
   ],
   "source": [
    "sns.pairplot(check_kc, x_vars=['bathrooms','grade','sqft_living','sqft_living15'], y_vars='price', size=7, aspect=0.7)"
   ]
  },
  {
   "cell_type": "markdown",
   "metadata": {},
   "source": [
    "# Run linear regression model with top correlated variables"
   ]
  },
  {
   "cell_type": "code",
   "execution_count": 1316,
   "metadata": {},
   "outputs": [
    {
     "data": {
      "text/html": [
       "<div>\n",
       "<style scoped>\n",
       "    .dataframe tbody tr th:only-of-type {\n",
       "        vertical-align: middle;\n",
       "    }\n",
       "\n",
       "    .dataframe tbody tr th {\n",
       "        vertical-align: top;\n",
       "    }\n",
       "\n",
       "    .dataframe thead th {\n",
       "        text-align: right;\n",
       "    }\n",
       "</style>\n",
       "<table border=\"1\" class=\"dataframe\">\n",
       "  <thead>\n",
       "    <tr style=\"text-align: right;\">\n",
       "      <th></th>\n",
       "      <th>price</th>\n",
       "      <th>bathrooms</th>\n",
       "      <th>sqft_living</th>\n",
       "      <th>grade</th>\n",
       "      <th>sqft_living15</th>\n",
       "    </tr>\n",
       "  </thead>\n",
       "  <tbody>\n",
       "    <tr>\n",
       "      <td>0</td>\n",
       "      <td>221900.0</td>\n",
       "      <td>1.00</td>\n",
       "      <td>1180</td>\n",
       "      <td>4</td>\n",
       "      <td>1340</td>\n",
       "    </tr>\n",
       "    <tr>\n",
       "      <td>1</td>\n",
       "      <td>538000.0</td>\n",
       "      <td>2.25</td>\n",
       "      <td>2570</td>\n",
       "      <td>4</td>\n",
       "      <td>1690</td>\n",
       "    </tr>\n",
       "    <tr>\n",
       "      <td>2</td>\n",
       "      <td>180000.0</td>\n",
       "      <td>1.00</td>\n",
       "      <td>770</td>\n",
       "      <td>3</td>\n",
       "      <td>2720</td>\n",
       "    </tr>\n",
       "    <tr>\n",
       "      <td>3</td>\n",
       "      <td>604000.0</td>\n",
       "      <td>3.00</td>\n",
       "      <td>1960</td>\n",
       "      <td>4</td>\n",
       "      <td>1360</td>\n",
       "    </tr>\n",
       "    <tr>\n",
       "      <td>4</td>\n",
       "      <td>510000.0</td>\n",
       "      <td>2.00</td>\n",
       "      <td>1680</td>\n",
       "      <td>5</td>\n",
       "      <td>1800</td>\n",
       "    </tr>\n",
       "  </tbody>\n",
       "</table>\n",
       "</div>"
      ],
      "text/plain": [
       "      price  bathrooms  sqft_living  grade  sqft_living15\n",
       "0  221900.0       1.00         1180      4           1340\n",
       "1  538000.0       2.25         2570      4           1690\n",
       "2  180000.0       1.00          770      3           2720\n",
       "3  604000.0       3.00         1960      4           1360\n",
       "4  510000.0       2.00         1680      5           1800"
      ]
     },
     "execution_count": 1316,
     "metadata": {},
     "output_type": "execute_result"
    }
   ],
   "source": [
    "check_kc.head()"
   ]
  },
  {
   "cell_type": "code",
   "execution_count": 1372,
   "metadata": {},
   "outputs": [],
   "source": [
    "lr_model = ols(formula='price~sqft_living+grade', data=check_kc).fit()"
   ]
  },
  {
   "cell_type": "code",
   "execution_count": 1373,
   "metadata": {
    "scrolled": false
   },
   "outputs": [
    {
     "data": {
      "text/html": [
       "<table class=\"simpletable\">\n",
       "<caption>OLS Regression Results</caption>\n",
       "<tr>\n",
       "  <th>Dep. Variable:</th>          <td>price</td>      <th>  R-squared:         </th>  <td>   0.535</td>  \n",
       "</tr>\n",
       "<tr>\n",
       "  <th>Model:</th>                   <td>OLS</td>       <th>  Adj. R-squared:    </th>  <td>   0.535</td>  \n",
       "</tr>\n",
       "<tr>\n",
       "  <th>Method:</th>             <td>Least Squares</td>  <th>  F-statistic:       </th>  <td>1.241e+04</td> \n",
       "</tr>\n",
       "<tr>\n",
       "  <th>Date:</th>             <td>Mon, 02 Dec 2019</td> <th>  Prob (F-statistic):</th>   <td>  0.00</td>   \n",
       "</tr>\n",
       "<tr>\n",
       "  <th>Time:</th>                 <td>08:20:18</td>     <th>  Log-Likelihood:    </th> <td>-2.9913e+05</td>\n",
       "</tr>\n",
       "<tr>\n",
       "  <th>No. Observations:</th>      <td> 21597</td>      <th>  AIC:               </th>  <td>5.983e+05</td> \n",
       "</tr>\n",
       "<tr>\n",
       "  <th>Df Residuals:</th>          <td> 21594</td>      <th>  BIC:               </th>  <td>5.983e+05</td> \n",
       "</tr>\n",
       "<tr>\n",
       "  <th>Df Model:</th>              <td>     2</td>      <th>                     </th>      <td> </td>     \n",
       "</tr>\n",
       "<tr>\n",
       "  <th>Covariance Type:</th>      <td>nonrobust</td>    <th>                     </th>      <td> </td>     \n",
       "</tr>\n",
       "</table>\n",
       "<table class=\"simpletable\">\n",
       "<tr>\n",
       "       <td></td>          <th>coef</th>     <th>std err</th>      <th>t</th>      <th>P>|t|</th>  <th>[0.025</th>    <th>0.975]</th>  \n",
       "</tr>\n",
       "<tr>\n",
       "  <th>Intercept</th>   <td> -3.05e+05</td> <td> 7265.784</td> <td>  -41.983</td> <td> 0.000</td> <td>-3.19e+05</td> <td>-2.91e+05</td>\n",
       "</tr>\n",
       "<tr>\n",
       "  <th>sqft_living</th> <td>  184.1215</td> <td>    2.872</td> <td>   64.102</td> <td> 0.000</td> <td>  178.491</td> <td>  189.751</td>\n",
       "</tr>\n",
       "<tr>\n",
       "  <th>grade</th>       <td> 9.925e+04</td> <td> 2247.784</td> <td>   44.155</td> <td> 0.000</td> <td> 9.48e+04</td> <td> 1.04e+05</td>\n",
       "</tr>\n",
       "</table>\n",
       "<table class=\"simpletable\">\n",
       "<tr>\n",
       "  <th>Omnibus:</th>       <td>16960.955</td> <th>  Durbin-Watson:     </th>  <td>   1.976</td>  \n",
       "</tr>\n",
       "<tr>\n",
       "  <th>Prob(Omnibus):</th>  <td> 0.000</td>   <th>  Jarque-Bera (JB):  </th> <td>1005795.090</td>\n",
       "</tr>\n",
       "<tr>\n",
       "  <th>Skew:</th>           <td> 3.304</td>   <th>  Prob(JB):          </th>  <td>    0.00</td>  \n",
       "</tr>\n",
       "<tr>\n",
       "  <th>Kurtosis:</th>       <td>35.773</td>   <th>  Cond. No.          </th>  <td>1.00e+04</td>  \n",
       "</tr>\n",
       "</table><br/><br/>Warnings:<br/>[1] Standard Errors assume that the covariance matrix of the errors is correctly specified.<br/>[2] The condition number is large,  1e+04. This might indicate that there are<br/>strong multicollinearity or other numerical problems."
      ],
      "text/plain": [
       "<class 'statsmodels.iolib.summary.Summary'>\n",
       "\"\"\"\n",
       "                            OLS Regression Results                            \n",
       "==============================================================================\n",
       "Dep. Variable:                  price   R-squared:                       0.535\n",
       "Model:                            OLS   Adj. R-squared:                  0.535\n",
       "Method:                 Least Squares   F-statistic:                 1.241e+04\n",
       "Date:                Mon, 02 Dec 2019   Prob (F-statistic):               0.00\n",
       "Time:                        08:20:18   Log-Likelihood:            -2.9913e+05\n",
       "No. Observations:               21597   AIC:                         5.983e+05\n",
       "Df Residuals:                   21594   BIC:                         5.983e+05\n",
       "Df Model:                           2                                         \n",
       "Covariance Type:            nonrobust                                         \n",
       "===============================================================================\n",
       "                  coef    std err          t      P>|t|      [0.025      0.975]\n",
       "-------------------------------------------------------------------------------\n",
       "Intercept    -3.05e+05   7265.784    -41.983      0.000   -3.19e+05   -2.91e+05\n",
       "sqft_living   184.1215      2.872     64.102      0.000     178.491     189.751\n",
       "grade        9.925e+04   2247.784     44.155      0.000    9.48e+04    1.04e+05\n",
       "==============================================================================\n",
       "Omnibus:                    16960.955   Durbin-Watson:                   1.976\n",
       "Prob(Omnibus):                  0.000   Jarque-Bera (JB):          1005795.090\n",
       "Skew:                           3.304   Prob(JB):                         0.00\n",
       "Kurtosis:                      35.773   Cond. No.                     1.00e+04\n",
       "==============================================================================\n",
       "\n",
       "Warnings:\n",
       "[1] Standard Errors assume that the covariance matrix of the errors is correctly specified.\n",
       "[2] The condition number is large,  1e+04. This might indicate that there are\n",
       "strong multicollinearity or other numerical problems.\n",
       "\"\"\""
      ]
     },
     "execution_count": 1373,
     "metadata": {},
     "output_type": "execute_result"
    }
   ],
   "source": [
    "lr_model.summary()"
   ]
  },
  {
   "cell_type": "markdown",
   "metadata": {},
   "source": [
    "# train/test"
   ]
  },
  {
   "cell_type": "code",
   "execution_count": 1375,
   "metadata": {},
   "outputs": [],
   "source": [
    "x = check_kc[['sqft_living','grade']]\n",
    "y = check_kc['price']"
   ]
  },
  {
   "cell_type": "code",
   "execution_count": 1376,
   "metadata": {},
   "outputs": [],
   "source": [
    "from sklearn.model_selection import train_test_split\n",
    "X_train, X_test, y_train, y_test = train_test_split(x, y, test_size=0.2, random_state=42)"
   ]
  },
  {
   "cell_type": "code",
   "execution_count": 1377,
   "metadata": {},
   "outputs": [
    {
     "name": "stdout",
     "output_type": "stream",
     "text": [
      "17277 4320 17277 4320\n"
     ]
    }
   ],
   "source": [
    "print(len(X_train), len(X_test), len(y_train), len(y_test))"
   ]
  },
  {
   "cell_type": "code",
   "execution_count": 1378,
   "metadata": {},
   "outputs": [],
   "source": [
    "from sklearn.linear_model import LinearRegression\n",
    "linreg = LinearRegression()\n",
    "linreg.fit(X_train, y_train)\n",
    "\n",
    "y_hat_train = linreg.predict(X_train)\n",
    "y_hat_test = linreg.predict(X_test)"
   ]
  },
  {
   "cell_type": "code",
   "execution_count": 1379,
   "metadata": {
    "scrolled": true
   },
   "outputs": [
    {
     "data": {
      "text/plain": [
       "0.5363690098946963"
      ]
     },
     "execution_count": 1379,
     "metadata": {},
     "output_type": "execute_result"
    }
   ],
   "source": [
    "linreg.score(X_train,y_train)"
   ]
  },
  {
   "cell_type": "code",
   "execution_count": 1380,
   "metadata": {},
   "outputs": [],
   "source": [
    "train_residuals = y_hat_train - y_train\n",
    "test_residuals = y_hat_test - y_test"
   ]
  },
  {
   "cell_type": "code",
   "execution_count": 1381,
   "metadata": {},
   "outputs": [
    {
     "name": "stdout",
     "output_type": "stream",
     "text": [
      "Train Mean Squarred Error: 63114105973.6789\n",
      "Test Mean Squarred Error: 61550769137.98828\n"
     ]
    }
   ],
   "source": [
    "mse_train = np.sum((y_train-y_hat_train)**2)/len(y_train)\n",
    "mse_test = np.sum((y_test-y_hat_test)**2)/len(y_test)\n",
    "print('Train Mean Squarred Error:', mse_train)\n",
    "print('Test Mean Squarred Error:', mse_test)"
   ]
  },
  {
   "cell_type": "markdown",
   "metadata": {},
   "source": [
    "## Cross Validatation"
   ]
  },
  {
   "cell_type": "code",
   "execution_count": 1382,
   "metadata": {},
   "outputs": [],
   "source": [
    "from sklearn.metrics import mean_squared_error\n",
    "from sklearn.model_selection import cross_val_score\n",
    "\n",
    "cv_5_results  = np.mean(cross_val_score(linreg, x, y, cv=5,  scoring='neg_mean_squared_error'))\n",
    "cv_10_results = np.mean(cross_val_score(linreg, x, y, cv=10, scoring='neg_mean_squared_error'))\n",
    "cv_20_results = np.mean(cross_val_score(linreg, x, y, cv=20, scoring='neg_mean_squared_error'))"
   ]
  },
  {
   "cell_type": "code",
   "execution_count": 1383,
   "metadata": {},
   "outputs": [
    {
     "name": "stdout",
     "output_type": "stream",
     "text": [
      "-62920900335.722244\n",
      "-62958096526.03639\n",
      "-62904214567.185\n"
     ]
    }
   ],
   "source": [
    "print(cv_5_results)\n",
    "print(cv_10_results)  \n",
    "print(cv_20_results)"
   ]
  },
  {
   "cell_type": "code",
   "execution_count": 1340,
   "metadata": {},
   "outputs": [],
   "source": [
    "def print_accuracy_report(classifier, x, y, num_validations=5):\n",
    "    accuracy = cross_validation.cross_val_score(classifier, \n",
    "            x, y, scoring='accuracy', cv=num_validations)\n",
    "    print (\"Accuracy: \" + str(round(100*accuracy.mean(), 2)) + \"%\")"
   ]
  },
  {
   "cell_type": "code",
   "execution_count": 1333,
   "metadata": {
    "scrolled": true
   },
   "outputs": [
    {
     "name": "stdout",
     "output_type": "stream",
     "text": [
      "[2 3] [0 1]\n",
      "[0 1] [2 3]\n"
     ]
    }
   ],
   "source": []
  },
  {
   "cell_type": "markdown",
   "metadata": {},
   "source": [
    "# Adding dummy zipcode"
   ]
  },
  {
   "cell_type": "code",
   "execution_count": 1386,
   "metadata": {},
   "outputs": [],
   "source": [
    "check_kc_dums = pd.concat([check_kc, zipdums], axis = 1)"
   ]
  },
  {
   "cell_type": "code",
   "execution_count": 1387,
   "metadata": {},
   "outputs": [],
   "source": [
    "lr_model = ols(formula='price~sqft_living+grade+zipdums', data=check_kc).fit()"
   ]
  },
  {
   "cell_type": "code",
   "execution_count": 1390,
   "metadata": {
    "scrolled": false
   },
   "outputs": [
    {
     "data": {
      "text/html": [
       "<table class=\"simpletable\">\n",
       "<caption>OLS Regression Results</caption>\n",
       "<tr>\n",
       "  <th>Dep. Variable:</th>          <td>price</td>      <th>  R-squared:         </th>  <td>   0.745</td>  \n",
       "</tr>\n",
       "<tr>\n",
       "  <th>Model:</th>                   <td>OLS</td>       <th>  Adj. R-squared:    </th>  <td>   0.744</td>  \n",
       "</tr>\n",
       "<tr>\n",
       "  <th>Method:</th>             <td>Least Squares</td>  <th>  F-statistic:       </th>  <td>   884.0</td>  \n",
       "</tr>\n",
       "<tr>\n",
       "  <th>Date:</th>             <td>Mon, 02 Dec 2019</td> <th>  Prob (F-statistic):</th>   <td>  0.00</td>   \n",
       "</tr>\n",
       "<tr>\n",
       "  <th>Time:</th>                 <td>08:30:25</td>     <th>  Log-Likelihood:    </th> <td>-2.9265e+05</td>\n",
       "</tr>\n",
       "<tr>\n",
       "  <th>No. Observations:</th>      <td> 21597</td>      <th>  AIC:               </th>  <td>5.854e+05</td> \n",
       "</tr>\n",
       "<tr>\n",
       "  <th>Df Residuals:</th>          <td> 21525</td>      <th>  BIC:               </th>  <td>5.860e+05</td> \n",
       "</tr>\n",
       "<tr>\n",
       "  <th>Df Model:</th>              <td>    71</td>      <th>                     </th>      <td> </td>     \n",
       "</tr>\n",
       "<tr>\n",
       "  <th>Covariance Type:</th>      <td>nonrobust</td>    <th>                     </th>      <td> </td>     \n",
       "</tr>\n",
       "</table>\n",
       "<table class=\"simpletable\">\n",
       "<tr>\n",
       "       <td></td>          <th>coef</th>     <th>std err</th>      <th>t</th>      <th>P>|t|</th>  <th>[0.025</th>    <th>0.975]</th>  \n",
       "</tr>\n",
       "<tr>\n",
       "  <th>Intercept</th>   <td>-3.612e+05</td> <td> 1.12e+04</td> <td>  -32.243</td> <td> 0.000</td> <td>-3.83e+05</td> <td>-3.39e+05</td>\n",
       "</tr>\n",
       "<tr>\n",
       "  <th>sqft_living</th> <td>  196.8729</td> <td>    2.199</td> <td>   89.548</td> <td> 0.000</td> <td>  192.564</td> <td>  201.182</td>\n",
       "</tr>\n",
       "<tr>\n",
       "  <th>grade</th>       <td> 6.228e+04</td> <td> 1771.302</td> <td>   35.161</td> <td> 0.000</td> <td> 5.88e+04</td> <td> 6.58e+04</td>\n",
       "</tr>\n",
       "<tr>\n",
       "  <th>zipdums[0]</th>  <td> 4.498e+04</td> <td> 1.64e+04</td> <td>    2.737</td> <td> 0.006</td> <td> 1.28e+04</td> <td> 7.72e+04</td>\n",
       "</tr>\n",
       "<tr>\n",
       "  <th>zipdums[1]</th>  <td>-7374.1429</td> <td> 1.48e+04</td> <td>   -0.498</td> <td> 0.619</td> <td>-3.64e+04</td> <td> 2.17e+04</td>\n",
       "</tr>\n",
       "<tr>\n",
       "  <th>zipdums[2]</th>  <td> 7.908e+05</td> <td> 1.44e+04</td> <td>   54.829</td> <td> 0.000</td> <td> 7.63e+05</td> <td> 8.19e+05</td>\n",
       "</tr>\n",
       "<tr>\n",
       "  <th>zipdums[3]</th>  <td> 3.066e+05</td> <td> 1.74e+04</td> <td>   17.592</td> <td> 0.000</td> <td> 2.72e+05</td> <td> 3.41e+05</td>\n",
       "</tr>\n",
       "<tr>\n",
       "  <th>zipdums[4]</th>  <td> 2.916e+05</td> <td>  1.3e+04</td> <td>   22.448</td> <td> 0.000</td> <td> 2.66e+05</td> <td> 3.17e+05</td>\n",
       "</tr>\n",
       "<tr>\n",
       "  <th>zipdums[5]</th>  <td> 2.397e+05</td> <td> 1.85e+04</td> <td>   12.964</td> <td> 0.000</td> <td> 2.03e+05</td> <td> 2.76e+05</td>\n",
       "</tr>\n",
       "<tr>\n",
       "  <th>zipdums[6]</th>  <td>  2.97e+05</td> <td> 1.48e+04</td> <td>   20.105</td> <td> 0.000</td> <td> 2.68e+05</td> <td> 3.26e+05</td>\n",
       "</tr>\n",
       "<tr>\n",
       "  <th>zipdums[7]</th>  <td> 8.999e+04</td> <td>  2.1e+04</td> <td>    4.282</td> <td> 0.000</td> <td> 4.88e+04</td> <td> 1.31e+05</td>\n",
       "</tr>\n",
       "<tr>\n",
       "  <th>zipdums[8]</th>  <td> 1.106e+05</td> <td> 1.65e+04</td> <td>    6.690</td> <td> 0.000</td> <td> 7.82e+04</td> <td> 1.43e+05</td>\n",
       "</tr>\n",
       "<tr>\n",
       "  <th>zipdums[9]</th>  <td> 1.266e+05</td> <td> 1.94e+04</td> <td>    6.540</td> <td> 0.000</td> <td> 8.87e+04</td> <td> 1.65e+05</td>\n",
       "</tr>\n",
       "<tr>\n",
       "  <th>zipdums[10]</th> <td> 7.757e+04</td> <td> 1.67e+04</td> <td>    4.653</td> <td> 0.000</td> <td> 4.49e+04</td> <td>  1.1e+05</td>\n",
       "</tr>\n",
       "<tr>\n",
       "  <th>zipdums[11]</th> <td> 5.613e+04</td> <td> 1.56e+04</td> <td>    3.592</td> <td> 0.000</td> <td> 2.55e+04</td> <td> 8.68e+04</td>\n",
       "</tr>\n",
       "<tr>\n",
       "  <th>zipdums[12]</th> <td>-2.873e+04</td> <td> 1.29e+04</td> <td>   -2.235</td> <td> 0.025</td> <td>-5.39e+04</td> <td>-3537.689</td>\n",
       "</tr>\n",
       "<tr>\n",
       "  <th>zipdums[13]</th> <td> 1.948e+05</td> <td>  2.3e+04</td> <td>    8.474</td> <td> 0.000</td> <td>  1.5e+05</td> <td>  2.4e+05</td>\n",
       "</tr>\n",
       "<tr>\n",
       "  <th>zipdums[14]</th> <td>   1.6e+05</td> <td> 1.35e+04</td> <td>   11.893</td> <td> 0.000</td> <td> 1.34e+05</td> <td> 1.86e+05</td>\n",
       "</tr>\n",
       "<tr>\n",
       "  <th>zipdums[15]</th> <td> 1.186e+05</td> <td> 1.48e+04</td> <td>    8.029</td> <td> 0.000</td> <td> 8.96e+04</td> <td> 1.48e+05</td>\n",
       "</tr>\n",
       "<tr>\n",
       "  <th>zipdums[16]</th> <td> 1.881e+05</td> <td> 1.43e+04</td> <td>   13.116</td> <td> 0.000</td> <td>  1.6e+05</td> <td> 2.16e+05</td>\n",
       "</tr>\n",
       "<tr>\n",
       "  <th>zipdums[17]</th> <td>-3894.5687</td> <td> 1.52e+04</td> <td>   -0.256</td> <td> 0.798</td> <td>-3.37e+04</td> <td> 2.59e+04</td>\n",
       "</tr>\n",
       "<tr>\n",
       "  <th>zipdums[18]</th> <td> 9007.0254</td> <td> 1.49e+04</td> <td>    0.604</td> <td> 0.546</td> <td>-2.02e+04</td> <td> 3.82e+04</td>\n",
       "</tr>\n",
       "<tr>\n",
       "  <th>zipdums[19]</th> <td> 1.222e+04</td> <td> 1.93e+04</td> <td>    0.633</td> <td> 0.527</td> <td>-2.56e+04</td> <td> 5.01e+04</td>\n",
       "</tr>\n",
       "<tr>\n",
       "  <th>zipdums[20]</th> <td> 3.802e+05</td> <td> 1.33e+04</td> <td>   28.597</td> <td> 0.000</td> <td> 3.54e+05</td> <td> 4.06e+05</td>\n",
       "</tr>\n",
       "<tr>\n",
       "  <th>zipdums[21]</th> <td> 2.127e+05</td> <td> 1.26e+04</td> <td>   16.853</td> <td> 0.000</td> <td> 1.88e+05</td> <td> 2.37e+05</td>\n",
       "</tr>\n",
       "<tr>\n",
       "  <th>zipdums[22]</th> <td>   1.9e+04</td> <td> 1.24e+04</td> <td>    1.528</td> <td> 0.127</td> <td>-5375.867</td> <td> 4.34e+04</td>\n",
       "</tr>\n",
       "<tr>\n",
       "  <th>zipdums[23]</th> <td> 1.366e+06</td> <td> 2.82e+04</td> <td>   48.378</td> <td> 0.000</td> <td> 1.31e+06</td> <td> 1.42e+06</td>\n",
       "</tr>\n",
       "<tr>\n",
       "  <th>zipdums[24]</th> <td> 5.732e+05</td> <td> 1.49e+04</td> <td>   38.390</td> <td> 0.000</td> <td> 5.44e+05</td> <td> 6.02e+05</td>\n",
       "</tr>\n",
       "<tr>\n",
       "  <th>zipdums[25]</th> <td> 7091.4072</td> <td> 1.26e+04</td> <td>    0.562</td> <td> 0.574</td> <td>-1.76e+04</td> <td> 3.18e+04</td>\n",
       "</tr>\n",
       "<tr>\n",
       "  <th>zipdums[26]</th> <td>  1.05e+05</td> <td> 1.59e+04</td> <td>    6.602</td> <td> 0.000</td> <td> 7.39e+04</td> <td> 1.36e+05</td>\n",
       "</tr>\n",
       "<tr>\n",
       "  <th>zipdums[27]</th> <td> 2.178e+05</td> <td> 1.25e+04</td> <td>   17.364</td> <td> 0.000</td> <td> 1.93e+05</td> <td> 2.42e+05</td>\n",
       "</tr>\n",
       "<tr>\n",
       "  <th>zipdums[28]</th> <td> 1.937e+05</td> <td> 1.35e+04</td> <td>   14.311</td> <td> 0.000</td> <td> 1.67e+05</td> <td>  2.2e+05</td>\n",
       "</tr>\n",
       "<tr>\n",
       "  <th>zipdums[29]</th> <td> 5.684e+04</td> <td>  1.5e+04</td> <td>    3.791</td> <td> 0.000</td> <td> 2.75e+04</td> <td> 8.62e+04</td>\n",
       "</tr>\n",
       "<tr>\n",
       "  <th>zipdums[30]</th> <td> 1.138e+05</td> <td> 1.35e+04</td> <td>    8.456</td> <td> 0.000</td> <td> 8.74e+04</td> <td>  1.4e+05</td>\n",
       "</tr>\n",
       "<tr>\n",
       "  <th>zipdums[31]</th> <td> 2.713e+04</td> <td> 1.31e+04</td> <td>    2.069</td> <td> 0.039</td> <td> 1431.241</td> <td> 5.28e+04</td>\n",
       "</tr>\n",
       "<tr>\n",
       "  <th>zipdums[32]</th> <td> 7.685e+04</td> <td> 1.31e+04</td> <td>    5.889</td> <td> 0.000</td> <td> 5.13e+04</td> <td> 1.02e+05</td>\n",
       "</tr>\n",
       "<tr>\n",
       "  <th>zipdums[33]</th> <td> 8.029e+04</td> <td> 1.45e+04</td> <td>    5.552</td> <td> 0.000</td> <td> 5.19e+04</td> <td> 1.09e+05</td>\n",
       "</tr>\n",
       "<tr>\n",
       "  <th>zipdums[34]</th> <td> 2.112e+05</td> <td> 1.98e+04</td> <td>   10.676</td> <td> 0.000</td> <td> 1.72e+05</td> <td>  2.5e+05</td>\n",
       "</tr>\n",
       "<tr>\n",
       "  <th>zipdums[35]</th> <td> 1.486e+05</td> <td> 1.49e+04</td> <td>    9.943</td> <td> 0.000</td> <td> 1.19e+05</td> <td> 1.78e+05</td>\n",
       "</tr>\n",
       "<tr>\n",
       "  <th>zipdums[36]</th> <td> 1.704e+05</td> <td> 1.33e+04</td> <td>   12.796</td> <td> 0.000</td> <td> 1.44e+05</td> <td> 1.96e+05</td>\n",
       "</tr>\n",
       "<tr>\n",
       "  <th>zipdums[37]</th> <td> 1.839e+05</td> <td>  1.4e+04</td> <td>   13.113</td> <td> 0.000</td> <td> 1.56e+05</td> <td> 2.11e+05</td>\n",
       "</tr>\n",
       "<tr>\n",
       "  <th>zipdums[38]</th> <td> 1.214e+05</td> <td> 1.65e+04</td> <td>    7.339</td> <td> 0.000</td> <td>  8.9e+04</td> <td> 1.54e+05</td>\n",
       "</tr>\n",
       "<tr>\n",
       "  <th>zipdums[39]</th> <td>-3.833e+04</td> <td>  1.4e+04</td> <td>   -2.746</td> <td> 0.006</td> <td>-6.57e+04</td> <td> -1.1e+04</td>\n",
       "</tr>\n",
       "<tr>\n",
       "  <th>zipdums[40]</th> <td> 5.073e+05</td> <td> 2.07e+04</td> <td>   24.457</td> <td> 0.000</td> <td> 4.67e+05</td> <td> 5.48e+05</td>\n",
       "</tr>\n",
       "<tr>\n",
       "  <th>zipdums[41]</th> <td> 3.466e+05</td> <td> 1.24e+04</td> <td>   27.950</td> <td> 0.000</td> <td> 3.22e+05</td> <td> 3.71e+05</td>\n",
       "</tr>\n",
       "<tr>\n",
       "  <th>zipdums[42]</th> <td> 4.997e+05</td> <td> 1.57e+04</td> <td>   31.778</td> <td> 0.000</td> <td> 4.69e+05</td> <td> 5.31e+05</td>\n",
       "</tr>\n",
       "<tr>\n",
       "  <th>zipdums[43]</th> <td> 1.471e+05</td> <td> 1.41e+04</td> <td>   10.416</td> <td> 0.000</td> <td> 1.19e+05</td> <td> 1.75e+05</td>\n",
       "</tr>\n",
       "<tr>\n",
       "  <th>zipdums[44]</th> <td> 3.538e+05</td> <td> 1.51e+04</td> <td>   23.501</td> <td> 0.000</td> <td> 3.24e+05</td> <td> 3.83e+05</td>\n",
       "</tr>\n",
       "<tr>\n",
       "  <th>zipdums[45]</th> <td> 1.311e+05</td> <td> 1.68e+04</td> <td>    7.812</td> <td> 0.000</td> <td> 9.82e+04</td> <td> 1.64e+05</td>\n",
       "</tr>\n",
       "<tr>\n",
       "  <th>zipdums[46]</th> <td> 5.242e+05</td> <td> 2.04e+04</td> <td>   25.757</td> <td> 0.000</td> <td> 4.84e+05</td> <td> 5.64e+05</td>\n",
       "</tr>\n",
       "<tr>\n",
       "  <th>zipdums[47]</th> <td> 6.265e+05</td> <td>  1.5e+04</td> <td>   41.644</td> <td> 0.000</td> <td> 5.97e+05</td> <td> 6.56e+05</td>\n",
       "</tr>\n",
       "<tr>\n",
       "  <th>zipdums[48]</th> <td> 3.482e+05</td> <td> 1.25e+04</td> <td>   27.950</td> <td> 0.000</td> <td> 3.24e+05</td> <td> 3.73e+05</td>\n",
       "</tr>\n",
       "<tr>\n",
       "  <th>zipdums[49]</th> <td> 3.304e+05</td> <td> 1.42e+04</td> <td>   23.311</td> <td> 0.000</td> <td> 3.03e+05</td> <td> 3.58e+05</td>\n",
       "</tr>\n",
       "<tr>\n",
       "  <th>zipdums[50]</th> <td> 3.382e+05</td> <td> 1.26e+04</td> <td>   26.863</td> <td> 0.000</td> <td> 3.14e+05</td> <td> 3.63e+05</td>\n",
       "</tr>\n",
       "<tr>\n",
       "  <th>zipdums[51]</th> <td>  1.99e+05</td> <td> 1.28e+04</td> <td>   15.531</td> <td> 0.000</td> <td> 1.74e+05</td> <td> 2.24e+05</td>\n",
       "</tr>\n",
       "<tr>\n",
       "  <th>zipdums[52]</th> <td> 5.033e+05</td> <td> 1.69e+04</td> <td>   29.812</td> <td> 0.000</td> <td>  4.7e+05</td> <td> 5.36e+05</td>\n",
       "</tr>\n",
       "<tr>\n",
       "  <th>zipdums[53]</th> <td> 3.488e+05</td> <td> 1.47e+04</td> <td>   23.732</td> <td> 0.000</td> <td>  3.2e+05</td> <td> 3.78e+05</td>\n",
       "</tr>\n",
       "<tr>\n",
       "  <th>zipdums[54]</th> <td> 2.272e+05</td> <td> 1.34e+04</td> <td>   16.919</td> <td> 0.000</td> <td> 2.01e+05</td> <td> 2.54e+05</td>\n",
       "</tr>\n",
       "<tr>\n",
       "  <th>zipdums[55]</th> <td>  2.31e+05</td> <td> 1.39e+04</td> <td>   16.592</td> <td> 0.000</td> <td> 2.04e+05</td> <td> 2.58e+05</td>\n",
       "</tr>\n",
       "<tr>\n",
       "  <th>zipdums[56]</th> <td> 1.735e+05</td> <td> 1.29e+04</td> <td>   13.458</td> <td> 0.000</td> <td> 1.48e+05</td> <td> 1.99e+05</td>\n",
       "</tr>\n",
       "<tr>\n",
       "  <th>zipdums[57]</th> <td> 2.988e+05</td> <td> 1.51e+04</td> <td>   19.805</td> <td> 0.000</td> <td> 2.69e+05</td> <td> 3.28e+05</td>\n",
       "</tr>\n",
       "<tr>\n",
       "  <th>zipdums[58]</th> <td>  3.02e+05</td> <td>  1.4e+04</td> <td>   21.535</td> <td> 0.000</td> <td> 2.75e+05</td> <td> 3.29e+05</td>\n",
       "</tr>\n",
       "<tr>\n",
       "  <th>zipdums[59]</th> <td> 1.634e+05</td> <td> 1.47e+04</td> <td>   11.111</td> <td> 0.000</td> <td> 1.35e+05</td> <td> 1.92e+05</td>\n",
       "</tr>\n",
       "<tr>\n",
       "  <th>zipdums[60]</th> <td> 8.319e+04</td> <td> 2.65e+04</td> <td>    3.138</td> <td> 0.002</td> <td> 3.12e+04</td> <td> 1.35e+05</td>\n",
       "</tr>\n",
       "<tr>\n",
       "  <th>zipdums[61]</th> <td> 1.735e+05</td> <td> 1.32e+04</td> <td>   13.174</td> <td> 0.000</td> <td> 1.48e+05</td> <td> 1.99e+05</td>\n",
       "</tr>\n",
       "<tr>\n",
       "  <th>zipdums[62]</th> <td> 1.448e+05</td> <td> 1.52e+04</td> <td>    9.504</td> <td> 0.000</td> <td> 1.15e+05</td> <td> 1.75e+05</td>\n",
       "</tr>\n",
       "<tr>\n",
       "  <th>zipdums[63]</th> <td> 9.383e+04</td> <td>  1.5e+04</td> <td>    6.251</td> <td> 0.000</td> <td> 6.44e+04</td> <td> 1.23e+05</td>\n",
       "</tr>\n",
       "<tr>\n",
       "  <th>zipdums[64]</th> <td> 2.703e+05</td> <td> 1.52e+04</td> <td>   17.740</td> <td> 0.000</td> <td>  2.4e+05</td> <td>    3e+05</td>\n",
       "</tr>\n",
       "<tr>\n",
       "  <th>zipdums[65]</th> <td> 9.363e+04</td> <td> 1.51e+04</td> <td>    6.198</td> <td> 0.000</td> <td>  6.4e+04</td> <td> 1.23e+05</td>\n",
       "</tr>\n",
       "<tr>\n",
       "  <th>zipdums[66]</th> <td> 4.394e+04</td> <td> 1.87e+04</td> <td>    2.348</td> <td> 0.019</td> <td> 7261.667</td> <td> 8.06e+04</td>\n",
       "</tr>\n",
       "<tr>\n",
       "  <th>zipdums[67]</th> <td>  6.49e+04</td> <td> 1.48e+04</td> <td>    4.382</td> <td> 0.000</td> <td> 3.59e+04</td> <td> 9.39e+04</td>\n",
       "</tr>\n",
       "<tr>\n",
       "  <th>zipdums[68]</th> <td> 4.156e+05</td> <td> 1.43e+04</td> <td>   28.972</td> <td> 0.000</td> <td> 3.87e+05</td> <td> 4.44e+05</td>\n",
       "</tr>\n",
       "</table>\n",
       "<table class=\"simpletable\">\n",
       "<tr>\n",
       "  <th>Omnibus:</th>       <td>22665.954</td> <th>  Durbin-Watson:     </th>  <td>   1.974</td>  \n",
       "</tr>\n",
       "<tr>\n",
       "  <th>Prob(Omnibus):</th>  <td> 0.000</td>   <th>  Jarque-Bera (JB):  </th> <td>4053376.503</td>\n",
       "</tr>\n",
       "<tr>\n",
       "  <th>Skew:</th>           <td> 4.919</td>   <th>  Prob(JB):          </th>  <td>    0.00</td>  \n",
       "</tr>\n",
       "<tr>\n",
       "  <th>Kurtosis:</th>       <td>69.390</td>   <th>  Cond. No.          </th>  <td>1.49e+05</td>  \n",
       "</tr>\n",
       "</table><br/><br/>Warnings:<br/>[1] Standard Errors assume that the covariance matrix of the errors is correctly specified.<br/>[2] The condition number is large, 1.49e+05. This might indicate that there are<br/>strong multicollinearity or other numerical problems."
      ],
      "text/plain": [
       "<class 'statsmodels.iolib.summary.Summary'>\n",
       "\"\"\"\n",
       "                            OLS Regression Results                            \n",
       "==============================================================================\n",
       "Dep. Variable:                  price   R-squared:                       0.745\n",
       "Model:                            OLS   Adj. R-squared:                  0.744\n",
       "Method:                 Least Squares   F-statistic:                     884.0\n",
       "Date:                Mon, 02 Dec 2019   Prob (F-statistic):               0.00\n",
       "Time:                        08:30:25   Log-Likelihood:            -2.9265e+05\n",
       "No. Observations:               21597   AIC:                         5.854e+05\n",
       "Df Residuals:                   21525   BIC:                         5.860e+05\n",
       "Df Model:                          71                                         \n",
       "Covariance Type:            nonrobust                                         \n",
       "===============================================================================\n",
       "                  coef    std err          t      P>|t|      [0.025      0.975]\n",
       "-------------------------------------------------------------------------------\n",
       "Intercept   -3.612e+05   1.12e+04    -32.243      0.000   -3.83e+05   -3.39e+05\n",
       "sqft_living   196.8729      2.199     89.548      0.000     192.564     201.182\n",
       "grade        6.228e+04   1771.302     35.161      0.000    5.88e+04    6.58e+04\n",
       "zipdums[0]   4.498e+04   1.64e+04      2.737      0.006    1.28e+04    7.72e+04\n",
       "zipdums[1]  -7374.1429   1.48e+04     -0.498      0.619   -3.64e+04    2.17e+04\n",
       "zipdums[2]   7.908e+05   1.44e+04     54.829      0.000    7.63e+05    8.19e+05\n",
       "zipdums[3]   3.066e+05   1.74e+04     17.592      0.000    2.72e+05    3.41e+05\n",
       "zipdums[4]   2.916e+05    1.3e+04     22.448      0.000    2.66e+05    3.17e+05\n",
       "zipdums[5]   2.397e+05   1.85e+04     12.964      0.000    2.03e+05    2.76e+05\n",
       "zipdums[6]    2.97e+05   1.48e+04     20.105      0.000    2.68e+05    3.26e+05\n",
       "zipdums[7]   8.999e+04    2.1e+04      4.282      0.000    4.88e+04    1.31e+05\n",
       "zipdums[8]   1.106e+05   1.65e+04      6.690      0.000    7.82e+04    1.43e+05\n",
       "zipdums[9]   1.266e+05   1.94e+04      6.540      0.000    8.87e+04    1.65e+05\n",
       "zipdums[10]  7.757e+04   1.67e+04      4.653      0.000    4.49e+04     1.1e+05\n",
       "zipdums[11]  5.613e+04   1.56e+04      3.592      0.000    2.55e+04    8.68e+04\n",
       "zipdums[12] -2.873e+04   1.29e+04     -2.235      0.025   -5.39e+04   -3537.689\n",
       "zipdums[13]  1.948e+05    2.3e+04      8.474      0.000     1.5e+05     2.4e+05\n",
       "zipdums[14]    1.6e+05   1.35e+04     11.893      0.000    1.34e+05    1.86e+05\n",
       "zipdums[15]  1.186e+05   1.48e+04      8.029      0.000    8.96e+04    1.48e+05\n",
       "zipdums[16]  1.881e+05   1.43e+04     13.116      0.000     1.6e+05    2.16e+05\n",
       "zipdums[17] -3894.5687   1.52e+04     -0.256      0.798   -3.37e+04    2.59e+04\n",
       "zipdums[18]  9007.0254   1.49e+04      0.604      0.546   -2.02e+04    3.82e+04\n",
       "zipdums[19]  1.222e+04   1.93e+04      0.633      0.527   -2.56e+04    5.01e+04\n",
       "zipdums[20]  3.802e+05   1.33e+04     28.597      0.000    3.54e+05    4.06e+05\n",
       "zipdums[21]  2.127e+05   1.26e+04     16.853      0.000    1.88e+05    2.37e+05\n",
       "zipdums[22]    1.9e+04   1.24e+04      1.528      0.127   -5375.867    4.34e+04\n",
       "zipdums[23]  1.366e+06   2.82e+04     48.378      0.000    1.31e+06    1.42e+06\n",
       "zipdums[24]  5.732e+05   1.49e+04     38.390      0.000    5.44e+05    6.02e+05\n",
       "zipdums[25]  7091.4072   1.26e+04      0.562      0.574   -1.76e+04    3.18e+04\n",
       "zipdums[26]   1.05e+05   1.59e+04      6.602      0.000    7.39e+04    1.36e+05\n",
       "zipdums[27]  2.178e+05   1.25e+04     17.364      0.000    1.93e+05    2.42e+05\n",
       "zipdums[28]  1.937e+05   1.35e+04     14.311      0.000    1.67e+05     2.2e+05\n",
       "zipdums[29]  5.684e+04    1.5e+04      3.791      0.000    2.75e+04    8.62e+04\n",
       "zipdums[30]  1.138e+05   1.35e+04      8.456      0.000    8.74e+04     1.4e+05\n",
       "zipdums[31]  2.713e+04   1.31e+04      2.069      0.039    1431.241    5.28e+04\n",
       "zipdums[32]  7.685e+04   1.31e+04      5.889      0.000    5.13e+04    1.02e+05\n",
       "zipdums[33]  8.029e+04   1.45e+04      5.552      0.000    5.19e+04    1.09e+05\n",
       "zipdums[34]  2.112e+05   1.98e+04     10.676      0.000    1.72e+05     2.5e+05\n",
       "zipdums[35]  1.486e+05   1.49e+04      9.943      0.000    1.19e+05    1.78e+05\n",
       "zipdums[36]  1.704e+05   1.33e+04     12.796      0.000    1.44e+05    1.96e+05\n",
       "zipdums[37]  1.839e+05    1.4e+04     13.113      0.000    1.56e+05    2.11e+05\n",
       "zipdums[38]  1.214e+05   1.65e+04      7.339      0.000     8.9e+04    1.54e+05\n",
       "zipdums[39] -3.833e+04    1.4e+04     -2.746      0.006   -6.57e+04    -1.1e+04\n",
       "zipdums[40]  5.073e+05   2.07e+04     24.457      0.000    4.67e+05    5.48e+05\n",
       "zipdums[41]  3.466e+05   1.24e+04     27.950      0.000    3.22e+05    3.71e+05\n",
       "zipdums[42]  4.997e+05   1.57e+04     31.778      0.000    4.69e+05    5.31e+05\n",
       "zipdums[43]  1.471e+05   1.41e+04     10.416      0.000    1.19e+05    1.75e+05\n",
       "zipdums[44]  3.538e+05   1.51e+04     23.501      0.000    3.24e+05    3.83e+05\n",
       "zipdums[45]  1.311e+05   1.68e+04      7.812      0.000    9.82e+04    1.64e+05\n",
       "zipdums[46]  5.242e+05   2.04e+04     25.757      0.000    4.84e+05    5.64e+05\n",
       "zipdums[47]  6.265e+05    1.5e+04     41.644      0.000    5.97e+05    6.56e+05\n",
       "zipdums[48]  3.482e+05   1.25e+04     27.950      0.000    3.24e+05    3.73e+05\n",
       "zipdums[49]  3.304e+05   1.42e+04     23.311      0.000    3.03e+05    3.58e+05\n",
       "zipdums[50]  3.382e+05   1.26e+04     26.863      0.000    3.14e+05    3.63e+05\n",
       "zipdums[51]   1.99e+05   1.28e+04     15.531      0.000    1.74e+05    2.24e+05\n",
       "zipdums[52]  5.033e+05   1.69e+04     29.812      0.000     4.7e+05    5.36e+05\n",
       "zipdums[53]  3.488e+05   1.47e+04     23.732      0.000     3.2e+05    3.78e+05\n",
       "zipdums[54]  2.272e+05   1.34e+04     16.919      0.000    2.01e+05    2.54e+05\n",
       "zipdums[55]   2.31e+05   1.39e+04     16.592      0.000    2.04e+05    2.58e+05\n",
       "zipdums[56]  1.735e+05   1.29e+04     13.458      0.000    1.48e+05    1.99e+05\n",
       "zipdums[57]  2.988e+05   1.51e+04     19.805      0.000    2.69e+05    3.28e+05\n",
       "zipdums[58]   3.02e+05    1.4e+04     21.535      0.000    2.75e+05    3.29e+05\n",
       "zipdums[59]  1.634e+05   1.47e+04     11.111      0.000    1.35e+05    1.92e+05\n",
       "zipdums[60]  8.319e+04   2.65e+04      3.138      0.002    3.12e+04    1.35e+05\n",
       "zipdums[61]  1.735e+05   1.32e+04     13.174      0.000    1.48e+05    1.99e+05\n",
       "zipdums[62]  1.448e+05   1.52e+04      9.504      0.000    1.15e+05    1.75e+05\n",
       "zipdums[63]  9.383e+04    1.5e+04      6.251      0.000    6.44e+04    1.23e+05\n",
       "zipdums[64]  2.703e+05   1.52e+04     17.740      0.000     2.4e+05       3e+05\n",
       "zipdums[65]  9.363e+04   1.51e+04      6.198      0.000     6.4e+04    1.23e+05\n",
       "zipdums[66]  4.394e+04   1.87e+04      2.348      0.019    7261.667    8.06e+04\n",
       "zipdums[67]   6.49e+04   1.48e+04      4.382      0.000    3.59e+04    9.39e+04\n",
       "zipdums[68]  4.156e+05   1.43e+04     28.972      0.000    3.87e+05    4.44e+05\n",
       "==============================================================================\n",
       "Omnibus:                    22665.954   Durbin-Watson:                   1.974\n",
       "Prob(Omnibus):                  0.000   Jarque-Bera (JB):          4053376.503\n",
       "Skew:                           4.919   Prob(JB):                         0.00\n",
       "Kurtosis:                      69.390   Cond. No.                     1.49e+05\n",
       "==============================================================================\n",
       "\n",
       "Warnings:\n",
       "[1] Standard Errors assume that the covariance matrix of the errors is correctly specified.\n",
       "[2] The condition number is large, 1.49e+05. This might indicate that there are\n",
       "strong multicollinearity or other numerical problems.\n",
       "\"\"\""
      ]
     },
     "execution_count": 1390,
     "metadata": {},
     "output_type": "execute_result"
    }
   ],
   "source": [
    "lr_model.summary()"
   ]
  },
  {
   "cell_type": "markdown",
   "metadata": {},
   "source": [
    "# Looking at other variables - initial changes made below"
   ]
  },
  {
   "cell_type": "markdown",
   "metadata": {},
   "source": [
    " #### Date"
   ]
  },
  {
   "cell_type": "code",
   "execution_count": 1058,
   "metadata": {},
   "outputs": [],
   "source": [
    "kc['date'] = pd.to_datetime(kc['date'])"
   ]
  },
  {
   "cell_type": "markdown",
   "metadata": {},
   "source": [
    "#### Sqft_Basement - Binary (0,1)\n"
   ]
  },
  {
   "cell_type": "code",
   "execution_count": 1059,
   "metadata": {},
   "outputs": [
    {
     "data": {
      "text/plain": [
       "0.0       12826\n",
       "?           454\n",
       "600.0       217\n",
       "500.0       209\n",
       "700.0       208\n",
       "          ...  \n",
       "2810.0        1\n",
       "243.0         1\n",
       "1816.0        1\n",
       "1960.0        1\n",
       "2720.0        1\n",
       "Name: sqft_basement, Length: 304, dtype: int64"
      ]
     },
     "execution_count": 1059,
     "metadata": {},
     "output_type": "execute_result"
    }
   ],
   "source": [
    "kc['sqft_basement'].value_counts()"
   ]
  },
  {
   "cell_type": "code",
   "execution_count": 1060,
   "metadata": {},
   "outputs": [],
   "source": [
    "kc['sqft_basement'].replace({'?': 0}, inplace = True)"
   ]
  },
  {
   "cell_type": "code",
   "execution_count": 1061,
   "metadata": {},
   "outputs": [],
   "source": [
    "##changed to float and all values over 0 to 1 - if basement yes if not no"
   ]
  },
  {
   "cell_type": "code",
   "execution_count": 1062,
   "metadata": {},
   "outputs": [],
   "source": [
    "kc['sqft_basement'] = kc['sqft_basement'].astype(float)"
   ]
  },
  {
   "cell_type": "code",
   "execution_count": 1063,
   "metadata": {},
   "outputs": [],
   "source": [
    "kc['sqft_basement'].values[kc['sqft_basement'].values > 0] = 1"
   ]
  },
  {
   "cell_type": "code",
   "execution_count": 1064,
   "metadata": {
    "scrolled": true
   },
   "outputs": [
    {
     "data": {
      "text/plain": [
       "dtype('float64')"
      ]
     },
     "execution_count": 1064,
     "metadata": {},
     "output_type": "execute_result"
    }
   ],
   "source": [
    "kc['sqft_basement'].dtype"
   ]
  },
  {
   "cell_type": "markdown",
   "metadata": {},
   "source": [
    "#### Waterfront - Binary (0,1)"
   ]
  },
  {
   "cell_type": "code",
   "execution_count": 1065,
   "metadata": {},
   "outputs": [],
   "source": [
    "# replaced NaN with 0 --> Binary (1,0) For view of waterfront"
   ]
  },
  {
   "cell_type": "code",
   "execution_count": 1066,
   "metadata": {},
   "outputs": [],
   "source": [
    "kc['waterfront'].fillna(0, inplace = True) "
   ]
  },
  {
   "cell_type": "code",
   "execution_count": 1067,
   "metadata": {},
   "outputs": [
    {
     "data": {
      "text/plain": [
       "dtype('float64')"
      ]
     },
     "execution_count": 1067,
     "metadata": {},
     "output_type": "execute_result"
    }
   ],
   "source": [
    "kc['waterfront'].dtype"
   ]
  },
  {
   "cell_type": "markdown",
   "metadata": {},
   "source": [
    "#### Grade"
   ]
  },
  {
   "cell_type": "code",
   "execution_count": 1068,
   "metadata": {},
   "outputs": [
    {
     "data": {
      "text/plain": [
       "7     8974\n",
       "8     6065\n",
       "9     2615\n",
       "6     2038\n",
       "10    1134\n",
       "11     399\n",
       "5      242\n",
       "12      89\n",
       "4       27\n",
       "13      13\n",
       "3        1\n",
       "Name: grade, dtype: int64"
      ]
     },
     "execution_count": 1068,
     "metadata": {},
     "output_type": "execute_result"
    }
   ],
   "source": [
    "kc['grade'].value_counts()"
   ]
  },
  {
   "cell_type": "code",
   "execution_count": 1069,
   "metadata": {},
   "outputs": [],
   "source": [
    "kc['grade'] = kc['grade'].apply(lambda x: x -3)"
   ]
  },
  {
   "cell_type": "markdown",
   "metadata": {},
   "source": [
    "#### View (Tour Rating)"
   ]
  },
  {
   "cell_type": "code",
   "execution_count": 1070,
   "metadata": {},
   "outputs": [
    {
     "data": {
      "text/plain": [
       "0.0    19422\n",
       "2.0      957\n",
       "3.0      508\n",
       "1.0      330\n",
       "4.0      317\n",
       "Name: view, dtype: int64"
      ]
     },
     "execution_count": 1070,
     "metadata": {},
     "output_type": "execute_result"
    }
   ],
   "source": [
    "kc['view'].value_counts()"
   ]
  },
  {
   "cell_type": "code",
   "execution_count": 1071,
   "metadata": {},
   "outputs": [
    {
     "data": {
      "text/plain": [
       "63"
      ]
     },
     "execution_count": 1071,
     "metadata": {},
     "output_type": "execute_result"
    }
   ],
   "source": [
    "kc['view'].isnull().sum()"
   ]
  },
  {
   "cell_type": "code",
   "execution_count": 1072,
   "metadata": {},
   "outputs": [],
   "source": [
    "kc['view'].fillna(0, inplace = True) "
   ]
  },
  {
   "cell_type": "code",
   "execution_count": 1073,
   "metadata": {
    "scrolled": true
   },
   "outputs": [
    {
     "data": {
      "text/plain": [
       "3    14020\n",
       "4     5677\n",
       "5     1701\n",
       "2      170\n",
       "1       29\n",
       "Name: condition, dtype: int64"
      ]
     },
     "execution_count": 1073,
     "metadata": {},
     "output_type": "execute_result"
    }
   ],
   "source": [
    "kc['condition'].value_counts()"
   ]
  },
  {
   "cell_type": "markdown",
   "metadata": {},
   "source": [
    "#### Year Built "
   ]
  },
  {
   "cell_type": "code",
   "execution_count": 1074,
   "metadata": {},
   "outputs": [
    {
     "data": {
      "text/plain": [
       "count    21597.000000\n",
       "mean      1970.999676\n",
       "std         29.375234\n",
       "min       1900.000000\n",
       "25%       1951.000000\n",
       "50%       1975.000000\n",
       "75%       1997.000000\n",
       "max       2015.000000\n",
       "Name: yr_built, dtype: float64"
      ]
     },
     "execution_count": 1074,
     "metadata": {},
     "output_type": "execute_result"
    }
   ],
   "source": [
    "kc['yr_built'].describe()"
   ]
  },
  {
   "cell_type": "code",
   "execution_count": 1075,
   "metadata": {},
   "outputs": [
    {
     "data": {
      "text/plain": [
       "0"
      ]
     },
     "execution_count": 1075,
     "metadata": {},
     "output_type": "execute_result"
    }
   ],
   "source": [
    "kc['yr_built'].isnull().sum()"
   ]
  },
  {
   "cell_type": "code",
   "execution_count": 1076,
   "metadata": {},
   "outputs": [],
   "source": [
    "##### Change Year Built to 'How Old'"
   ]
  },
  {
   "cell_type": "code",
   "execution_count": 1077,
   "metadata": {},
   "outputs": [],
   "source": [
    "kc['yr_built'] = kc['yr_built'].apply(lambda x: 2015-x)"
   ]
  },
  {
   "cell_type": "code",
   "execution_count": 1078,
   "metadata": {
    "scrolled": false
   },
   "outputs": [
    {
     "data": {
      "text/plain": [
       "count    21597.000000\n",
       "mean        44.000324\n",
       "std         29.375234\n",
       "min          0.000000\n",
       "25%         18.000000\n",
       "50%         40.000000\n",
       "75%         64.000000\n",
       "max        115.000000\n",
       "Name: yr_built, dtype: float64"
      ]
     },
     "execution_count": 1078,
     "metadata": {},
     "output_type": "execute_result"
    }
   ],
   "source": [
    "kc['yr_built'].describe()"
   ]
  },
  {
   "cell_type": "markdown",
   "metadata": {},
   "source": [
    "#### yr_renovated - binary (0,1)"
   ]
  },
  {
   "cell_type": "code",
   "execution_count": 1079,
   "metadata": {},
   "outputs": [
    {
     "data": {
      "text/plain": [
       "3842"
      ]
     },
     "execution_count": 1079,
     "metadata": {},
     "output_type": "execute_result"
    }
   ],
   "source": [
    "kc['yr_renovated'].isnull().sum()"
   ]
  },
  {
   "cell_type": "code",
   "execution_count": 1080,
   "metadata": {},
   "outputs": [],
   "source": [
    "kc['yr_renovated'].fillna(0, inplace = True) "
   ]
  },
  {
   "cell_type": "code",
   "execution_count": 1081,
   "metadata": {},
   "outputs": [],
   "source": [
    "kc['yr_renovated'].values[kc['yr_renovated'].values > 0] = 1"
   ]
  },
  {
   "cell_type": "code",
   "execution_count": 1082,
   "metadata": {},
   "outputs": [
    {
     "data": {
      "text/plain": [
       "0.0    20853\n",
       "1.0      744\n",
       "Name: yr_renovated, dtype: int64"
      ]
     },
     "execution_count": 1082,
     "metadata": {},
     "output_type": "execute_result"
    }
   ],
   "source": [
    "kc['yr_renovated'].value_counts()"
   ]
  },
  {
   "cell_type": "markdown",
   "metadata": {},
   "source": [
    "# Dropping Columns"
   ]
  },
  {
   "cell_type": "code",
   "execution_count": 1083,
   "metadata": {
    "scrolled": false
   },
   "outputs": [],
   "source": [
    "kc.drop(['id','lat','long'], axis = 1, inplace = True)"
   ]
  },
  {
   "cell_type": "markdown",
   "metadata": {},
   "source": [
    "# Looking at Distribution"
   ]
  },
  {
   "cell_type": "code",
   "execution_count": 1084,
   "metadata": {
    "scrolled": true
   },
   "outputs": [
    {
     "data": {
      "text/plain": [
       "array([[<matplotlib.axes._subplots.AxesSubplot object at 0x1c39d3aed0>,\n",
       "        <matplotlib.axes._subplots.AxesSubplot object at 0x1c38c72810>,\n",
       "        <matplotlib.axes._subplots.AxesSubplot object at 0x1c3ebfaa10>,\n",
       "        <matplotlib.axes._subplots.AxesSubplot object at 0x1c3ec2be50>],\n",
       "       [<matplotlib.axes._subplots.AxesSubplot object at 0x1c39d88690>,\n",
       "        <matplotlib.axes._subplots.AxesSubplot object at 0x1c39de7e90>,\n",
       "        <matplotlib.axes._subplots.AxesSubplot object at 0x1a35b9d6d0>,\n",
       "        <matplotlib.axes._subplots.AxesSubplot object at 0x1c39e40ed0>],\n",
       "       [<matplotlib.axes._subplots.AxesSubplot object at 0x1c39e4aa10>,\n",
       "        <matplotlib.axes._subplots.AxesSubplot object at 0x1c3a12f3d0>,\n",
       "        <matplotlib.axes._subplots.AxesSubplot object at 0x1c3d66c750>,\n",
       "        <matplotlib.axes._subplots.AxesSubplot object at 0x1c3d6a0f50>],\n",
       "       [<matplotlib.axes._subplots.AxesSubplot object at 0x1c3d6e2790>,\n",
       "        <matplotlib.axes._subplots.AxesSubplot object at 0x1c3d717f90>,\n",
       "        <matplotlib.axes._subplots.AxesSubplot object at 0x1c3d7577d0>,\n",
       "        <matplotlib.axes._subplots.AxesSubplot object at 0x1c3d78bfd0>],\n",
       "       [<matplotlib.axes._subplots.AxesSubplot object at 0x1c3d7cd810>,\n",
       "        <matplotlib.axes._subplots.AxesSubplot object at 0x1c3e6c2f90>,\n",
       "        <matplotlib.axes._subplots.AxesSubplot object at 0x1c3ed0c850>,\n",
       "        <matplotlib.axes._subplots.AxesSubplot object at 0x1c3ed4ab90>]],\n",
       "      dtype=object)"
      ]
     },
     "execution_count": 1084,
     "metadata": {},
     "output_type": "execute_result"
    },
    {
     "data": {
      "image/png": "[encoded data removed]",
      "text/plain": [
       "<Figure size 1080x1080 with 20 Axes>"
      ]
     },
     "metadata": {
      "needs_background": "light"
     },
     "output_type": "display_data"
    }
   ],
   "source": [
    "kc.hist(figsize  = [15, 15])"
   ]
  },
  {
   "cell_type": "markdown",
   "metadata": {},
   "source": [
    "### Applying Log Transformation"
   ]
  },
  {
   "cell_type": "code",
   "execution_count": 1085,
   "metadata": {
    "scrolled": true
   },
   "outputs": [
    {
     "data": {
      "image/png": "[encoded data removed]",
      "text/plain": [
       "<Figure size 432x432 with 6 Axes>"
      ]
     },
     "metadata": {
      "needs_background": "light"
     },
     "output_type": "display_data"
    }
   ],
   "source": [
    "data_log = pd.DataFrame([])\n",
    "data_log['sqft_above'] = np.log(kc['sqft_above'])\n",
    "data_log['sqft_living'] = np.log(kc['sqft_living'])\n",
    "data_log['sqft_living15'] = np.log(kc['sqft_living15'])\n",
    "data_log['sqft_lot'] = np.log(kc['sqft_lot'])\n",
    "data_log['sqft_lot15'] = np.log(kc['sqft_lot15'])\n",
    "data_log.hist(figsize  = [6, 6]);"
   ]
  },
  {
   "cell_type": "code",
   "execution_count": 1086,
   "metadata": {},
   "outputs": [],
   "source": [
    "kc['sqft_abovelog'] = np.log(kc['sqft_above'])\n",
    "kc['sqft_livinglog'] = np.log(kc['sqft_living'])\n",
    "kc['sqft_living15log'] = np.log(kc['sqft_living15'])\n",
    "kc['sqft_lotlog'] = np.log(kc['sqft_lot'])\n",
    "kc['sqft_lot15log'] = np.log(kc['sqft_lot15'])"
   ]
  },
  {
   "cell_type": "markdown",
   "metadata": {},
   "source": [
    "#### Zipcode"
   ]
  },
  {
   "cell_type": "code",
   "execution_count": 1384,
   "metadata": {},
   "outputs": [],
   "source": [
    "kc['zipcode'] = kc['zipcode'].astype('category')"
   ]
  },
  {
   "cell_type": "code",
   "execution_count": 1385,
   "metadata": {},
   "outputs": [],
   "source": [
    "zipdums = pd.get_dummies(kc['zipcode'], drop_first=True)"
   ]
  },
  {
   "cell_type": "markdown",
   "metadata": {},
   "source": [
    "# Scaling "
   ]
  },
  {
   "cell_type": "code",
   "execution_count": 1091,
   "metadata": {},
   "outputs": [],
   "source": [
    "numeric_features = ['bedrooms', 'bathrooms', 'sqft_livinglog', 'sqft_lotlog','floors','view','condition','grade','sqft_abovelog','yr_built','sqft_living15log','sqft_lot15log']\n",
    "numeric_transformer = Pipeline(steps=[\n",
    "    ('scaler', StandardScaler())])\n",
    "\n",
    "x = pd.DataFrame(numeric_transformer.fit_transform(kc[numeric_features]),columns = numeric_features)"
   ]
  },
  {
   "cell_type": "code",
   "execution_count": 1092,
   "metadata": {
    "scrolled": false
   },
   "outputs": [
    {
     "data": {
      "text/plain": [
       "array([[<matplotlib.axes._subplots.AxesSubplot object at 0x1c3d51a0d0>,\n",
       "        <matplotlib.axes._subplots.AxesSubplot object at 0x1c3f851290>,\n",
       "        <matplotlib.axes._subplots.AxesSubplot object at 0x1c3e647990>],\n",
       "       [<matplotlib.axes._subplots.AxesSubplot object at 0x1c3e63ecd0>,\n",
       "        <matplotlib.axes._subplots.AxesSubplot object at 0x1c3f8bb8d0>,\n",
       "        <matplotlib.axes._subplots.AxesSubplot object at 0x1c3f385c10>],\n",
       "       [<matplotlib.axes._subplots.AxesSubplot object at 0x1c40d60910>,\n",
       "        <matplotlib.axes._subplots.AxesSubplot object at 0x1c40cc50d0>,\n",
       "        <matplotlib.axes._subplots.AxesSubplot object at 0x1c40cc57d0>],\n",
       "       [<matplotlib.axes._subplots.AxesSubplot object at 0x1c3d433610>,\n",
       "        <matplotlib.axes._subplots.AxesSubplot object at 0x1c3bb58990>,\n",
       "        <matplotlib.axes._subplots.AxesSubplot object at 0x1c3bb71cd0>]],\n",
       "      dtype=object)"
      ]
     },
     "execution_count": 1092,
     "metadata": {},
     "output_type": "execute_result"
    },
    {
     "data": {
      "image/png": "[encoded data removed]",
      "text/plain": [
       "<Figure size 1080x1080 with 12 Axes>"
      ]
     },
     "metadata": {
      "needs_background": "light"
     },
     "output_type": "display_data"
    }
   ],
   "source": [
    "x.hist(figsize = [15,15])"
   ]
  },
  {
   "cell_type": "code",
   "execution_count": 1093,
   "metadata": {},
   "outputs": [
    {
     "name": "stdout",
     "output_type": "stream",
     "text": [
      "<class 'pandas.core.frame.DataFrame'>\n",
      "RangeIndex: 21597 entries, 0 to 21596\n",
      "Data columns (total 23 columns):\n",
      "date                21597 non-null datetime64[ns]\n",
      "price               21597 non-null float64\n",
      "bedrooms            21597 non-null int64\n",
      "bathrooms           21597 non-null float64\n",
      "sqft_living         21597 non-null int64\n",
      "sqft_lot            21597 non-null int64\n",
      "floors              21597 non-null float64\n",
      "waterfront          21597 non-null float64\n",
      "view                21597 non-null float64\n",
      "condition           21597 non-null int64\n",
      "grade               21597 non-null int64\n",
      "sqft_above          21597 non-null int64\n",
      "sqft_basement       21597 non-null float64\n",
      "yr_built            21597 non-null int64\n",
      "yr_renovated        21597 non-null float64\n",
      "zipcode             21597 non-null int64\n",
      "sqft_living15       21597 non-null int64\n",
      "sqft_lot15          21597 non-null int64\n",
      "sqft_abovelog       21597 non-null float64\n",
      "sqft_livinglog      21597 non-null float64\n",
      "sqft_living15log    21597 non-null float64\n",
      "sqft_lotlog         21597 non-null float64\n",
      "sqft_lot15log       21597 non-null float64\n",
      "dtypes: datetime64[ns](1), float64(12), int64(10)\n",
      "memory usage: 3.8 MB\n"
     ]
    }
   ],
   "source": [
    "kc.info()"
   ]
  },
  {
   "cell_type": "markdown",
   "metadata": {},
   "source": [
    "# Combining Dataframe"
   ]
  },
  {
   "cell_type": "code",
   "execution_count": 1095,
   "metadata": {},
   "outputs": [],
   "source": [
    "binary = kc[['waterfront','sqft_basement','yr_renovated']]\n",
    "price = kc['price']"
   ]
  },
  {
   "cell_type": "markdown",
   "metadata": {},
   "source": [
    "#### Combinng Price, Category Variables, Scaled Numeric Variables, ZipCode Dummys"
   ]
  },
  {
   "cell_type": "code",
   "execution_count": 1098,
   "metadata": {},
   "outputs": [],
   "source": [
    "DF = pd.concat([price, binary, x, zipdums], axis = 1)"
   ]
  },
  {
   "cell_type": "code",
   "execution_count": 1106,
   "metadata": {},
   "outputs": [
    {
     "name": "stdout",
     "output_type": "stream",
     "text": [
      "<class 'pandas.core.frame.DataFrame'>\n",
      "RangeIndex: 21597 entries, 0 to 21596\n",
      "Data columns (total 85 columns):\n",
      "price               21597 non-null float64\n",
      "waterfront          21597 non-null float64\n",
      "sqft_basement       21597 non-null float64\n",
      "yr_renovated        21597 non-null float64\n",
      "bedrooms            21597 non-null float64\n",
      "bathrooms           21597 non-null float64\n",
      "sqft_livinglog      21597 non-null float64\n",
      "sqft_lotlog         21597 non-null float64\n",
      "floors              21597 non-null float64\n",
      "view                21597 non-null float64\n",
      "condition           21597 non-null float64\n",
      "grade               21597 non-null float64\n",
      "sqft_abovelog       21597 non-null float64\n",
      "yr_built            21597 non-null float64\n",
      "sqft_living15log    21597 non-null float64\n",
      "sqft_lot15log       21597 non-null float64\n",
      "98002               21597 non-null uint8\n",
      "98003               21597 non-null uint8\n",
      "98004               21597 non-null uint8\n",
      "98005               21597 non-null uint8\n",
      "98006               21597 non-null uint8\n",
      "98007               21597 non-null uint8\n",
      "98008               21597 non-null uint8\n",
      "98010               21597 non-null uint8\n",
      "98011               21597 non-null uint8\n",
      "98014               21597 non-null uint8\n",
      "98019               21597 non-null uint8\n",
      "98022               21597 non-null uint8\n",
      "98023               21597 non-null uint8\n",
      "98024               21597 non-null uint8\n",
      "98027               21597 non-null uint8\n",
      "98028               21597 non-null uint8\n",
      "98029               21597 non-null uint8\n",
      "98030               21597 non-null uint8\n",
      "98031               21597 non-null uint8\n",
      "98032               21597 non-null uint8\n",
      "98033               21597 non-null uint8\n",
      "98034               21597 non-null uint8\n",
      "98038               21597 non-null uint8\n",
      "98039               21597 non-null uint8\n",
      "98040               21597 non-null uint8\n",
      "98042               21597 non-null uint8\n",
      "98045               21597 non-null uint8\n",
      "98052               21597 non-null uint8\n",
      "98053               21597 non-null uint8\n",
      "98055               21597 non-null uint8\n",
      "98056               21597 non-null uint8\n",
      "98058               21597 non-null uint8\n",
      "98059               21597 non-null uint8\n",
      "98065               21597 non-null uint8\n",
      "98070               21597 non-null uint8\n",
      "98072               21597 non-null uint8\n",
      "98074               21597 non-null uint8\n",
      "98075               21597 non-null uint8\n",
      "98077               21597 non-null uint8\n",
      "98092               21597 non-null uint8\n",
      "98102               21597 non-null uint8\n",
      "98103               21597 non-null uint8\n",
      "98105               21597 non-null uint8\n",
      "98106               21597 non-null uint8\n",
      "98107               21597 non-null uint8\n",
      "98108               21597 non-null uint8\n",
      "98109               21597 non-null uint8\n",
      "98112               21597 non-null uint8\n",
      "98115               21597 non-null uint8\n",
      "98116               21597 non-null uint8\n",
      "98117               21597 non-null uint8\n",
      "98118               21597 non-null uint8\n",
      "98119               21597 non-null uint8\n",
      "98122               21597 non-null uint8\n",
      "98125               21597 non-null uint8\n",
      "98126               21597 non-null uint8\n",
      "98133               21597 non-null uint8\n",
      "98136               21597 non-null uint8\n",
      "98144               21597 non-null uint8\n",
      "98146               21597 non-null uint8\n",
      "98148               21597 non-null uint8\n",
      "98155               21597 non-null uint8\n",
      "98166               21597 non-null uint8\n",
      "98168               21597 non-null uint8\n",
      "98177               21597 non-null uint8\n",
      "98178               21597 non-null uint8\n",
      "98188               21597 non-null uint8\n",
      "98198               21597 non-null uint8\n",
      "98199               21597 non-null uint8\n",
      "dtypes: float64(16), uint8(69)\n",
      "memory usage: 4.1 MB\n"
     ]
    }
   ],
   "source": [
    "DF.info()"
   ]
  },
  {
   "cell_type": "markdown",
   "metadata": {},
   "source": [
    "# Running Linear Regression Model"
   ]
  },
  {
   "cell_type": "markdown",
   "metadata": {},
   "source": [
    "###### lr_model = ols(formula='price~waterfront+sqft_basement+yr_renovated+bedrooms+bathrooms+floors+view+condition+grade+yr_built+zipdums+sqft_abovelog+sqft_livinglog+sqft_living15log+sqft_lotlog+sqft_lot15log', data=DF).fit()  "
   ]
  },
  {
   "cell_type": "code",
   "execution_count": 1304,
   "metadata": {},
   "outputs": [],
   "source": [
    "lr_model = ols(formula='price~zipdums+bathrooms+condition+view+grade+sqft_livinglog', data=DF).fit()"
   ]
  },
  {
   "cell_type": "code",
   "execution_count": 1305,
   "metadata": {
    "scrolled": true
   },
   "outputs": [
    {
     "data": {
      "text/html": [
       "<table class=\"simpletable\">\n",
       "<caption>OLS Regression Results</caption>\n",
       "<tr>\n",
       "  <th>Dep. Variable:</th>          <td>price</td>      <th>  R-squared:         </th>  <td>   0.733</td>  \n",
       "</tr>\n",
       "<tr>\n",
       "  <th>Model:</th>                   <td>OLS</td>       <th>  Adj. R-squared:    </th>  <td>   0.732</td>  \n",
       "</tr>\n",
       "<tr>\n",
       "  <th>Method:</th>             <td>Least Squares</td>  <th>  F-statistic:       </th>  <td>   799.6</td>  \n",
       "</tr>\n",
       "<tr>\n",
       "  <th>Date:</th>             <td>Sun, 01 Dec 2019</td> <th>  Prob (F-statistic):</th>   <td>  0.00</td>   \n",
       "</tr>\n",
       "<tr>\n",
       "  <th>Time:</th>                 <td>20:16:19</td>     <th>  Log-Likelihood:    </th> <td>-2.9312e+05</td>\n",
       "</tr>\n",
       "<tr>\n",
       "  <th>No. Observations:</th>      <td> 21597</td>      <th>  AIC:               </th>  <td>5.864e+05</td> \n",
       "</tr>\n",
       "<tr>\n",
       "  <th>Df Residuals:</th>          <td> 21522</td>      <th>  BIC:               </th>  <td>5.870e+05</td> \n",
       "</tr>\n",
       "<tr>\n",
       "  <th>Df Model:</th>              <td>    74</td>      <th>                     </th>      <td> </td>     \n",
       "</tr>\n",
       "<tr>\n",
       "  <th>Covariance Type:</th>      <td>nonrobust</td>    <th>                     </th>      <td> </td>     \n",
       "</tr>\n",
       "</table>\n",
       "<table class=\"simpletable\">\n",
       "<tr>\n",
       "         <td></td>           <th>coef</th>     <th>std err</th>      <th>t</th>      <th>P>|t|</th>  <th>[0.025</th>    <th>0.975]</th>  \n",
       "</tr>\n",
       "<tr>\n",
       "  <th>Intercept</th>      <td> 3.463e+05</td> <td>    1e+04</td> <td>   34.566</td> <td> 0.000</td> <td> 3.27e+05</td> <td> 3.66e+05</td>\n",
       "</tr>\n",
       "<tr>\n",
       "  <th>zipdums[0]</th>     <td> 4.089e+04</td> <td> 1.68e+04</td> <td>    2.432</td> <td> 0.015</td> <td> 7935.096</td> <td> 7.39e+04</td>\n",
       "</tr>\n",
       "<tr>\n",
       "  <th>zipdums[1]</th>     <td>-2.643e+04</td> <td> 1.51e+04</td> <td>   -1.746</td> <td> 0.081</td> <td>-5.61e+04</td> <td> 3245.908</td>\n",
       "</tr>\n",
       "<tr>\n",
       "  <th>zipdums[2]</th>     <td> 8.239e+05</td> <td> 1.47e+04</td> <td>   55.858</td> <td> 0.000</td> <td> 7.95e+05</td> <td> 8.53e+05</td>\n",
       "</tr>\n",
       "<tr>\n",
       "  <th>zipdums[3]</th>     <td> 3.237e+05</td> <td> 1.79e+04</td> <td>   18.133</td> <td> 0.000</td> <td> 2.89e+05</td> <td> 3.59e+05</td>\n",
       "</tr>\n",
       "<tr>\n",
       "  <th>zipdums[4]</th>     <td> 2.754e+05</td> <td> 1.33e+04</td> <td>   20.681</td> <td> 0.000</td> <td> 2.49e+05</td> <td> 3.01e+05</td>\n",
       "</tr>\n",
       "<tr>\n",
       "  <th>zipdums[5]</th>     <td> 2.364e+05</td> <td> 1.89e+04</td> <td>   12.497</td> <td> 0.000</td> <td> 1.99e+05</td> <td> 2.73e+05</td>\n",
       "</tr>\n",
       "<tr>\n",
       "  <th>zipdums[6]</th>     <td> 2.575e+05</td> <td> 1.51e+04</td> <td>   17.021</td> <td> 0.000</td> <td> 2.28e+05</td> <td> 2.87e+05</td>\n",
       "</tr>\n",
       "<tr>\n",
       "  <th>zipdums[7]</th>     <td> 1.108e+05</td> <td> 2.15e+04</td> <td>    5.159</td> <td> 0.000</td> <td> 6.87e+04</td> <td> 1.53e+05</td>\n",
       "</tr>\n",
       "<tr>\n",
       "  <th>zipdums[8]</th>     <td> 1.278e+05</td> <td> 1.69e+04</td> <td>    7.563</td> <td> 0.000</td> <td> 9.47e+04</td> <td> 1.61e+05</td>\n",
       "</tr>\n",
       "<tr>\n",
       "  <th>zipdums[9]</th>     <td> 1.546e+05</td> <td> 1.98e+04</td> <td>    7.812</td> <td> 0.000</td> <td> 1.16e+05</td> <td> 1.93e+05</td>\n",
       "</tr>\n",
       "<tr>\n",
       "  <th>zipdums[10]</th>    <td> 1.057e+05</td> <td> 1.71e+04</td> <td>    6.197</td> <td> 0.000</td> <td> 7.22e+04</td> <td> 1.39e+05</td>\n",
       "</tr>\n",
       "<tr>\n",
       "  <th>zipdums[11]</th>    <td>-7610.7010</td> <td>  1.6e+04</td> <td>   -0.475</td> <td> 0.635</td> <td> -3.9e+04</td> <td> 2.38e+04</td>\n",
       "</tr>\n",
       "<tr>\n",
       "  <th>zipdums[12]</th>    <td>-3.384e+04</td> <td> 1.31e+04</td> <td>   -2.575</td> <td> 0.010</td> <td>-5.96e+04</td> <td>-8085.528</td>\n",
       "</tr>\n",
       "<tr>\n",
       "  <th>zipdums[13]</th>    <td> 2.307e+05</td> <td> 2.35e+04</td> <td>    9.820</td> <td> 0.000</td> <td> 1.85e+05</td> <td> 2.77e+05</td>\n",
       "</tr>\n",
       "<tr>\n",
       "  <th>zipdums[14]</th>    <td> 1.777e+05</td> <td> 1.38e+04</td> <td>   12.923</td> <td> 0.000</td> <td> 1.51e+05</td> <td> 2.05e+05</td>\n",
       "</tr>\n",
       "<tr>\n",
       "  <th>zipdums[15]</th>    <td> 1.196e+05</td> <td> 1.51e+04</td> <td>    7.921</td> <td> 0.000</td> <td>    9e+04</td> <td> 1.49e+05</td>\n",
       "</tr>\n",
       "<tr>\n",
       "  <th>zipdums[16]</th>    <td> 1.802e+05</td> <td> 1.47e+04</td> <td>   12.286</td> <td> 0.000</td> <td> 1.51e+05</td> <td> 2.09e+05</td>\n",
       "</tr>\n",
       "<tr>\n",
       "  <th>zipdums[17]</th>    <td>-1126.3589</td> <td> 1.55e+04</td> <td>   -0.073</td> <td> 0.942</td> <td>-3.16e+04</td> <td> 2.93e+04</td>\n",
       "</tr>\n",
       "<tr>\n",
       "  <th>zipdums[18]</th>    <td> 4573.6095</td> <td> 1.53e+04</td> <td>    0.300</td> <td> 0.764</td> <td>-2.53e+04</td> <td> 3.45e+04</td>\n",
       "</tr>\n",
       "<tr>\n",
       "  <th>zipdums[19]</th>    <td> 6437.7175</td> <td> 1.97e+04</td> <td>    0.326</td> <td> 0.744</td> <td>-3.23e+04</td> <td> 4.51e+04</td>\n",
       "</tr>\n",
       "<tr>\n",
       "  <th>zipdums[20]</th>    <td> 3.748e+05</td> <td> 1.36e+04</td> <td>   27.567</td> <td> 0.000</td> <td> 3.48e+05</td> <td> 4.01e+05</td>\n",
       "</tr>\n",
       "<tr>\n",
       "  <th>zipdums[21]</th>    <td>  1.99e+05</td> <td> 1.29e+04</td> <td>   15.422</td> <td> 0.000</td> <td> 1.74e+05</td> <td> 2.24e+05</td>\n",
       "</tr>\n",
       "<tr>\n",
       "  <th>zipdums[22]</th>    <td> 3.229e+04</td> <td> 1.27e+04</td> <td>    2.538</td> <td> 0.011</td> <td> 7349.836</td> <td> 5.72e+04</td>\n",
       "</tr>\n",
       "<tr>\n",
       "  <th>zipdums[23]</th>    <td> 1.459e+06</td> <td> 2.88e+04</td> <td>   50.588</td> <td> 0.000</td> <td>  1.4e+06</td> <td> 1.52e+06</td>\n",
       "</tr>\n",
       "<tr>\n",
       "  <th>zipdums[24]</th>    <td>  5.55e+05</td> <td> 1.53e+04</td> <td>   36.241</td> <td> 0.000</td> <td> 5.25e+05</td> <td> 5.85e+05</td>\n",
       "</tr>\n",
       "<tr>\n",
       "  <th>zipdums[25]</th>    <td> 9091.1221</td> <td> 1.29e+04</td> <td>    0.705</td> <td> 0.481</td> <td>-1.62e+04</td> <td> 3.44e+04</td>\n",
       "</tr>\n",
       "<tr>\n",
       "  <th>zipdums[26]</th>    <td> 1.017e+05</td> <td> 1.63e+04</td> <td>    6.253</td> <td> 0.000</td> <td> 6.98e+04</td> <td> 1.34e+05</td>\n",
       "</tr>\n",
       "<tr>\n",
       "  <th>zipdums[27]</th>    <td> 2.274e+05</td> <td> 1.28e+04</td> <td>   17.731</td> <td> 0.000</td> <td> 2.02e+05</td> <td> 2.52e+05</td>\n",
       "</tr>\n",
       "<tr>\n",
       "  <th>zipdums[28]</th>    <td> 2.433e+05</td> <td> 1.38e+04</td> <td>   17.580</td> <td> 0.000</td> <td> 2.16e+05</td> <td>  2.7e+05</td>\n",
       "</tr>\n",
       "<tr>\n",
       "  <th>zipdums[29]</th>    <td> 5.538e+04</td> <td> 1.53e+04</td> <td>    3.613</td> <td> 0.000</td> <td> 2.53e+04</td> <td> 8.54e+04</td>\n",
       "</tr>\n",
       "<tr>\n",
       "  <th>zipdums[30]</th>    <td> 1.061e+05</td> <td> 1.38e+04</td> <td>    7.703</td> <td> 0.000</td> <td> 7.91e+04</td> <td> 1.33e+05</td>\n",
       "</tr>\n",
       "<tr>\n",
       "  <th>zipdums[31]</th>    <td> 3.375e+04</td> <td> 1.34e+04</td> <td>    2.517</td> <td> 0.012</td> <td> 7470.482</td> <td>    6e+04</td>\n",
       "</tr>\n",
       "<tr>\n",
       "  <th>zipdums[32]</th>    <td> 1.045e+05</td> <td> 1.33e+04</td> <td>    7.832</td> <td> 0.000</td> <td> 7.84e+04</td> <td> 1.31e+05</td>\n",
       "</tr>\n",
       "<tr>\n",
       "  <th>zipdums[33]</th>    <td>  1.09e+05</td> <td> 1.48e+04</td> <td>    7.371</td> <td> 0.000</td> <td>    8e+04</td> <td> 1.38e+05</td>\n",
       "</tr>\n",
       "<tr>\n",
       "  <th>zipdums[34]</th>    <td> 1.064e+05</td> <td> 2.03e+04</td> <td>    5.239</td> <td> 0.000</td> <td> 6.66e+04</td> <td> 1.46e+05</td>\n",
       "</tr>\n",
       "<tr>\n",
       "  <th>zipdums[35]</th>    <td> 1.709e+05</td> <td> 1.53e+04</td> <td>   11.180</td> <td> 0.000</td> <td> 1.41e+05</td> <td> 2.01e+05</td>\n",
       "</tr>\n",
       "<tr>\n",
       "  <th>zipdums[36]</th>    <td> 1.882e+05</td> <td> 1.36e+04</td> <td>   13.827</td> <td> 0.000</td> <td> 1.62e+05</td> <td> 2.15e+05</td>\n",
       "</tr>\n",
       "<tr>\n",
       "  <th>zipdums[37]</th>    <td>  2.11e+05</td> <td> 1.43e+04</td> <td>   14.721</td> <td> 0.000</td> <td> 1.83e+05</td> <td> 2.39e+05</td>\n",
       "</tr>\n",
       "<tr>\n",
       "  <th>zipdums[38]</th>    <td> 1.771e+05</td> <td> 1.69e+04</td> <td>   10.456</td> <td> 0.000</td> <td> 1.44e+05</td> <td>  2.1e+05</td>\n",
       "</tr>\n",
       "<tr>\n",
       "  <th>zipdums[39]</th>    <td>-3.846e+04</td> <td> 1.43e+04</td> <td>   -2.696</td> <td> 0.007</td> <td>-6.64e+04</td> <td>-1.05e+04</td>\n",
       "</tr>\n",
       "<tr>\n",
       "  <th>zipdums[40]</th>    <td> 4.986e+05</td> <td> 2.12e+04</td> <td>   23.500</td> <td> 0.000</td> <td> 4.57e+05</td> <td>  5.4e+05</td>\n",
       "</tr>\n",
       "<tr>\n",
       "  <th>zipdums[41]</th>    <td> 3.157e+05</td> <td> 1.27e+04</td> <td>   24.876</td> <td> 0.000</td> <td> 2.91e+05</td> <td> 3.41e+05</td>\n",
       "</tr>\n",
       "<tr>\n",
       "  <th>zipdums[42]</th>    <td> 4.772e+05</td> <td> 1.61e+04</td> <td>   29.659</td> <td> 0.000</td> <td> 4.46e+05</td> <td> 5.09e+05</td>\n",
       "</tr>\n",
       "<tr>\n",
       "  <th>zipdums[43]</th>    <td> 1.443e+05</td> <td> 1.45e+04</td> <td>    9.981</td> <td> 0.000</td> <td> 1.16e+05</td> <td> 1.73e+05</td>\n",
       "</tr>\n",
       "<tr>\n",
       "  <th>zipdums[44]</th>    <td> 3.082e+05</td> <td> 1.54e+04</td> <td>   19.997</td> <td> 0.000</td> <td> 2.78e+05</td> <td> 3.38e+05</td>\n",
       "</tr>\n",
       "<tr>\n",
       "  <th>zipdums[45]</th>    <td> 1.257e+05</td> <td> 1.72e+04</td> <td>    7.323</td> <td> 0.000</td> <td>  9.2e+04</td> <td> 1.59e+05</td>\n",
       "</tr>\n",
       "<tr>\n",
       "  <th>zipdums[46]</th>    <td> 4.728e+05</td> <td> 2.08e+04</td> <td>   22.715</td> <td> 0.000</td> <td> 4.32e+05</td> <td> 5.14e+05</td>\n",
       "</tr>\n",
       "<tr>\n",
       "  <th>zipdums[47]</th>    <td> 6.365e+05</td> <td> 1.54e+04</td> <td>   41.342</td> <td> 0.000</td> <td> 6.06e+05</td> <td> 6.67e+05</td>\n",
       "</tr>\n",
       "<tr>\n",
       "  <th>zipdums[48]</th>    <td> 3.314e+05</td> <td> 1.27e+04</td> <td>   26.010</td> <td> 0.000</td> <td> 3.06e+05</td> <td> 3.56e+05</td>\n",
       "</tr>\n",
       "<tr>\n",
       "  <th>zipdums[49]</th>    <td> 2.641e+05</td> <td> 1.45e+04</td> <td>   18.182</td> <td> 0.000</td> <td> 2.36e+05</td> <td> 2.93e+05</td>\n",
       "</tr>\n",
       "<tr>\n",
       "  <th>zipdums[50]</th>    <td> 3.154e+05</td> <td> 1.29e+04</td> <td>   24.476</td> <td> 0.000</td> <td>  2.9e+05</td> <td> 3.41e+05</td>\n",
       "</tr>\n",
       "<tr>\n",
       "  <th>zipdums[51]</th>    <td> 1.897e+05</td> <td> 1.31e+04</td> <td>   14.472</td> <td> 0.000</td> <td> 1.64e+05</td> <td> 2.15e+05</td>\n",
       "</tr>\n",
       "<tr>\n",
       "  <th>zipdums[52]</th>    <td> 4.395e+05</td> <td> 1.73e+04</td> <td>   25.447</td> <td> 0.000</td> <td> 4.06e+05</td> <td> 4.73e+05</td>\n",
       "</tr>\n",
       "<tr>\n",
       "  <th>zipdums[53]</th>    <td> 3.146e+05</td> <td>  1.5e+04</td> <td>   20.930</td> <td> 0.000</td> <td> 2.85e+05</td> <td> 3.44e+05</td>\n",
       "</tr>\n",
       "<tr>\n",
       "  <th>zipdums[54]</th>    <td> 2.098e+05</td> <td> 1.37e+04</td> <td>   15.274</td> <td> 0.000</td> <td> 1.83e+05</td> <td> 2.37e+05</td>\n",
       "</tr>\n",
       "<tr>\n",
       "  <th>zipdums[55]</th>    <td> 1.944e+05</td> <td> 1.43e+04</td> <td>   13.631</td> <td> 0.000</td> <td> 1.66e+05</td> <td> 2.22e+05</td>\n",
       "</tr>\n",
       "<tr>\n",
       "  <th>zipdums[56]</th>    <td> 1.647e+05</td> <td> 1.32e+04</td> <td>   12.490</td> <td> 0.000</td> <td> 1.39e+05</td> <td> 1.91e+05</td>\n",
       "</tr>\n",
       "<tr>\n",
       "  <th>zipdums[57]</th>    <td> 2.363e+05</td> <td> 1.55e+04</td> <td>   15.285</td> <td> 0.000</td> <td> 2.06e+05</td> <td> 2.67e+05</td>\n",
       "</tr>\n",
       "<tr>\n",
       "  <th>zipdums[58]</th>    <td> 2.666e+05</td> <td> 1.44e+04</td> <td>   18.567</td> <td> 0.000</td> <td> 2.38e+05</td> <td> 2.95e+05</td>\n",
       "</tr>\n",
       "<tr>\n",
       "  <th>zipdums[59]</th>    <td> 1.437e+05</td> <td> 1.51e+04</td> <td>    9.542</td> <td> 0.000</td> <td> 1.14e+05</td> <td> 1.73e+05</td>\n",
       "</tr>\n",
       "<tr>\n",
       "  <th>zipdums[60]</th>    <td> 9.684e+04</td> <td> 2.71e+04</td> <td>    3.573</td> <td> 0.000</td> <td> 4.37e+04</td> <td>  1.5e+05</td>\n",
       "</tr>\n",
       "<tr>\n",
       "  <th>zipdums[61]</th>    <td> 1.663e+05</td> <td> 1.35e+04</td> <td>   12.350</td> <td> 0.000</td> <td>  1.4e+05</td> <td> 1.93e+05</td>\n",
       "</tr>\n",
       "<tr>\n",
       "  <th>zipdums[62]</th>    <td> 1.025e+05</td> <td> 1.56e+04</td> <td>    6.565</td> <td> 0.000</td> <td> 7.19e+04</td> <td> 1.33e+05</td>\n",
       "</tr>\n",
       "<tr>\n",
       "  <th>zipdums[63]</th>    <td>  1.18e+05</td> <td> 1.54e+04</td> <td>    7.682</td> <td> 0.000</td> <td> 8.79e+04</td> <td> 1.48e+05</td>\n",
       "</tr>\n",
       "<tr>\n",
       "  <th>zipdums[64]</th>    <td> 2.174e+05</td> <td> 1.56e+04</td> <td>   13.917</td> <td> 0.000</td> <td> 1.87e+05</td> <td> 2.48e+05</td>\n",
       "</tr>\n",
       "<tr>\n",
       "  <th>zipdums[65]</th>    <td> 6.477e+04</td> <td> 1.55e+04</td> <td>    4.187</td> <td> 0.000</td> <td> 3.44e+04</td> <td> 9.51e+04</td>\n",
       "</tr>\n",
       "<tr>\n",
       "  <th>zipdums[66]</th>    <td> 4.784e+04</td> <td> 1.91e+04</td> <td>    2.501</td> <td> 0.012</td> <td> 1.04e+04</td> <td> 8.53e+04</td>\n",
       "</tr>\n",
       "<tr>\n",
       "  <th>zipdums[67]</th>    <td> 1.392e+04</td> <td> 1.52e+04</td> <td>    0.917</td> <td> 0.359</td> <td>-1.58e+04</td> <td> 4.37e+04</td>\n",
       "</tr>\n",
       "<tr>\n",
       "  <th>zipdums[68]</th>    <td> 3.678e+05</td> <td> 1.47e+04</td> <td>   25.044</td> <td> 0.000</td> <td> 3.39e+05</td> <td> 3.97e+05</td>\n",
       "</tr>\n",
       "<tr>\n",
       "  <th>bathrooms</th>      <td> 2.433e+04</td> <td> 2095.214</td> <td>   11.613</td> <td> 0.000</td> <td> 2.02e+04</td> <td> 2.84e+04</td>\n",
       "</tr>\n",
       "<tr>\n",
       "  <th>condition</th>      <td> 2.261e+04</td> <td> 1370.746</td> <td>   16.495</td> <td> 0.000</td> <td> 1.99e+04</td> <td> 2.53e+04</td>\n",
       "</tr>\n",
       "<tr>\n",
       "  <th>view</th>           <td> 7.678e+04</td> <td> 1411.384</td> <td>   54.400</td> <td> 0.000</td> <td>  7.4e+04</td> <td> 7.95e+04</td>\n",
       "</tr>\n",
       "<tr>\n",
       "  <th>grade</th>          <td> 1.117e+05</td> <td> 2154.379</td> <td>   51.826</td> <td> 0.000</td> <td> 1.07e+05</td> <td> 1.16e+05</td>\n",
       "</tr>\n",
       "<tr>\n",
       "  <th>sqft_livinglog</th> <td> 8.428e+04</td> <td> 2391.231</td> <td>   35.248</td> <td> 0.000</td> <td> 7.96e+04</td> <td>  8.9e+04</td>\n",
       "</tr>\n",
       "</table>\n",
       "<table class=\"simpletable\">\n",
       "<tr>\n",
       "  <th>Omnibus:</th>       <td>25479.438</td> <th>  Durbin-Watson:     </th>  <td>   1.980</td>  \n",
       "</tr>\n",
       "<tr>\n",
       "  <th>Prob(Omnibus):</th>  <td> 0.000</td>   <th>  Jarque-Bera (JB):  </th> <td>9087184.957</td>\n",
       "</tr>\n",
       "<tr>\n",
       "  <th>Skew:</th>           <td> 5.830</td>   <th>  Prob(JB):          </th>  <td>    0.00</td>  \n",
       "</tr>\n",
       "<tr>\n",
       "  <th>Kurtosis:</th>       <td>102.811</td>  <th>  Cond. No.          </th>  <td>    105.</td>  \n",
       "</tr>\n",
       "</table><br/><br/>Warnings:<br/>[1] Standard Errors assume that the covariance matrix of the errors is correctly specified."
      ],
      "text/plain": [
       "<class 'statsmodels.iolib.summary.Summary'>\n",
       "\"\"\"\n",
       "                            OLS Regression Results                            \n",
       "==============================================================================\n",
       "Dep. Variable:                  price   R-squared:                       0.733\n",
       "Model:                            OLS   Adj. R-squared:                  0.732\n",
       "Method:                 Least Squares   F-statistic:                     799.6\n",
       "Date:                Sun, 01 Dec 2019   Prob (F-statistic):               0.00\n",
       "Time:                        20:16:19   Log-Likelihood:            -2.9312e+05\n",
       "No. Observations:               21597   AIC:                         5.864e+05\n",
       "Df Residuals:                   21522   BIC:                         5.870e+05\n",
       "Df Model:                          74                                         \n",
       "Covariance Type:            nonrobust                                         \n",
       "==================================================================================\n",
       "                     coef    std err          t      P>|t|      [0.025      0.975]\n",
       "----------------------------------------------------------------------------------\n",
       "Intercept       3.463e+05      1e+04     34.566      0.000    3.27e+05    3.66e+05\n",
       "zipdums[0]      4.089e+04   1.68e+04      2.432      0.015    7935.096    7.39e+04\n",
       "zipdums[1]     -2.643e+04   1.51e+04     -1.746      0.081   -5.61e+04    3245.908\n",
       "zipdums[2]      8.239e+05   1.47e+04     55.858      0.000    7.95e+05    8.53e+05\n",
       "zipdums[3]      3.237e+05   1.79e+04     18.133      0.000    2.89e+05    3.59e+05\n",
       "zipdums[4]      2.754e+05   1.33e+04     20.681      0.000    2.49e+05    3.01e+05\n",
       "zipdums[5]      2.364e+05   1.89e+04     12.497      0.000    1.99e+05    2.73e+05\n",
       "zipdums[6]      2.575e+05   1.51e+04     17.021      0.000    2.28e+05    2.87e+05\n",
       "zipdums[7]      1.108e+05   2.15e+04      5.159      0.000    6.87e+04    1.53e+05\n",
       "zipdums[8]      1.278e+05   1.69e+04      7.563      0.000    9.47e+04    1.61e+05\n",
       "zipdums[9]      1.546e+05   1.98e+04      7.812      0.000    1.16e+05    1.93e+05\n",
       "zipdums[10]     1.057e+05   1.71e+04      6.197      0.000    7.22e+04    1.39e+05\n",
       "zipdums[11]    -7610.7010    1.6e+04     -0.475      0.635    -3.9e+04    2.38e+04\n",
       "zipdums[12]    -3.384e+04   1.31e+04     -2.575      0.010   -5.96e+04   -8085.528\n",
       "zipdums[13]     2.307e+05   2.35e+04      9.820      0.000    1.85e+05    2.77e+05\n",
       "zipdums[14]     1.777e+05   1.38e+04     12.923      0.000    1.51e+05    2.05e+05\n",
       "zipdums[15]     1.196e+05   1.51e+04      7.921      0.000       9e+04    1.49e+05\n",
       "zipdums[16]     1.802e+05   1.47e+04     12.286      0.000    1.51e+05    2.09e+05\n",
       "zipdums[17]    -1126.3589   1.55e+04     -0.073      0.942   -3.16e+04    2.93e+04\n",
       "zipdums[18]     4573.6095   1.53e+04      0.300      0.764   -2.53e+04    3.45e+04\n",
       "zipdums[19]     6437.7175   1.97e+04      0.326      0.744   -3.23e+04    4.51e+04\n",
       "zipdums[20]     3.748e+05   1.36e+04     27.567      0.000    3.48e+05    4.01e+05\n",
       "zipdums[21]      1.99e+05   1.29e+04     15.422      0.000    1.74e+05    2.24e+05\n",
       "zipdums[22]     3.229e+04   1.27e+04      2.538      0.011    7349.836    5.72e+04\n",
       "zipdums[23]     1.459e+06   2.88e+04     50.588      0.000     1.4e+06    1.52e+06\n",
       "zipdums[24]      5.55e+05   1.53e+04     36.241      0.000    5.25e+05    5.85e+05\n",
       "zipdums[25]     9091.1221   1.29e+04      0.705      0.481   -1.62e+04    3.44e+04\n",
       "zipdums[26]     1.017e+05   1.63e+04      6.253      0.000    6.98e+04    1.34e+05\n",
       "zipdums[27]     2.274e+05   1.28e+04     17.731      0.000    2.02e+05    2.52e+05\n",
       "zipdums[28]     2.433e+05   1.38e+04     17.580      0.000    2.16e+05     2.7e+05\n",
       "zipdums[29]     5.538e+04   1.53e+04      3.613      0.000    2.53e+04    8.54e+04\n",
       "zipdums[30]     1.061e+05   1.38e+04      7.703      0.000    7.91e+04    1.33e+05\n",
       "zipdums[31]     3.375e+04   1.34e+04      2.517      0.012    7470.482       6e+04\n",
       "zipdums[32]     1.045e+05   1.33e+04      7.832      0.000    7.84e+04    1.31e+05\n",
       "zipdums[33]      1.09e+05   1.48e+04      7.371      0.000       8e+04    1.38e+05\n",
       "zipdums[34]     1.064e+05   2.03e+04      5.239      0.000    6.66e+04    1.46e+05\n",
       "zipdums[35]     1.709e+05   1.53e+04     11.180      0.000    1.41e+05    2.01e+05\n",
       "zipdums[36]     1.882e+05   1.36e+04     13.827      0.000    1.62e+05    2.15e+05\n",
       "zipdums[37]      2.11e+05   1.43e+04     14.721      0.000    1.83e+05    2.39e+05\n",
       "zipdums[38]     1.771e+05   1.69e+04     10.456      0.000    1.44e+05     2.1e+05\n",
       "zipdums[39]    -3.846e+04   1.43e+04     -2.696      0.007   -6.64e+04   -1.05e+04\n",
       "zipdums[40]     4.986e+05   2.12e+04     23.500      0.000    4.57e+05     5.4e+05\n",
       "zipdums[41]     3.157e+05   1.27e+04     24.876      0.000    2.91e+05    3.41e+05\n",
       "zipdums[42]     4.772e+05   1.61e+04     29.659      0.000    4.46e+05    5.09e+05\n",
       "zipdums[43]     1.443e+05   1.45e+04      9.981      0.000    1.16e+05    1.73e+05\n",
       "zipdums[44]     3.082e+05   1.54e+04     19.997      0.000    2.78e+05    3.38e+05\n",
       "zipdums[45]     1.257e+05   1.72e+04      7.323      0.000     9.2e+04    1.59e+05\n",
       "zipdums[46]     4.728e+05   2.08e+04     22.715      0.000    4.32e+05    5.14e+05\n",
       "zipdums[47]     6.365e+05   1.54e+04     41.342      0.000    6.06e+05    6.67e+05\n",
       "zipdums[48]     3.314e+05   1.27e+04     26.010      0.000    3.06e+05    3.56e+05\n",
       "zipdums[49]     2.641e+05   1.45e+04     18.182      0.000    2.36e+05    2.93e+05\n",
       "zipdums[50]     3.154e+05   1.29e+04     24.476      0.000     2.9e+05    3.41e+05\n",
       "zipdums[51]     1.897e+05   1.31e+04     14.472      0.000    1.64e+05    2.15e+05\n",
       "zipdums[52]     4.395e+05   1.73e+04     25.447      0.000    4.06e+05    4.73e+05\n",
       "zipdums[53]     3.146e+05    1.5e+04     20.930      0.000    2.85e+05    3.44e+05\n",
       "zipdums[54]     2.098e+05   1.37e+04     15.274      0.000    1.83e+05    2.37e+05\n",
       "zipdums[55]     1.944e+05   1.43e+04     13.631      0.000    1.66e+05    2.22e+05\n",
       "zipdums[56]     1.647e+05   1.32e+04     12.490      0.000    1.39e+05    1.91e+05\n",
       "zipdums[57]     2.363e+05   1.55e+04     15.285      0.000    2.06e+05    2.67e+05\n",
       "zipdums[58]     2.666e+05   1.44e+04     18.567      0.000    2.38e+05    2.95e+05\n",
       "zipdums[59]     1.437e+05   1.51e+04      9.542      0.000    1.14e+05    1.73e+05\n",
       "zipdums[60]     9.684e+04   2.71e+04      3.573      0.000    4.37e+04     1.5e+05\n",
       "zipdums[61]     1.663e+05   1.35e+04     12.350      0.000     1.4e+05    1.93e+05\n",
       "zipdums[62]     1.025e+05   1.56e+04      6.565      0.000    7.19e+04    1.33e+05\n",
       "zipdums[63]      1.18e+05   1.54e+04      7.682      0.000    8.79e+04    1.48e+05\n",
       "zipdums[64]     2.174e+05   1.56e+04     13.917      0.000    1.87e+05    2.48e+05\n",
       "zipdums[65]     6.477e+04   1.55e+04      4.187      0.000    3.44e+04    9.51e+04\n",
       "zipdums[66]     4.784e+04   1.91e+04      2.501      0.012    1.04e+04    8.53e+04\n",
       "zipdums[67]     1.392e+04   1.52e+04      0.917      0.359   -1.58e+04    4.37e+04\n",
       "zipdums[68]     3.678e+05   1.47e+04     25.044      0.000    3.39e+05    3.97e+05\n",
       "bathrooms       2.433e+04   2095.214     11.613      0.000    2.02e+04    2.84e+04\n",
       "condition       2.261e+04   1370.746     16.495      0.000    1.99e+04    2.53e+04\n",
       "view            7.678e+04   1411.384     54.400      0.000     7.4e+04    7.95e+04\n",
       "grade           1.117e+05   2154.379     51.826      0.000    1.07e+05    1.16e+05\n",
       "sqft_livinglog  8.428e+04   2391.231     35.248      0.000    7.96e+04     8.9e+04\n",
       "==============================================================================\n",
       "Omnibus:                    25479.438   Durbin-Watson:                   1.980\n",
       "Prob(Omnibus):                  0.000   Jarque-Bera (JB):          9087184.957\n",
       "Skew:                           5.830   Prob(JB):                         0.00\n",
       "Kurtosis:                     102.811   Cond. No.                         105.\n",
       "==============================================================================\n",
       "\n",
       "Warnings:\n",
       "[1] Standard Errors assume that the covariance matrix of the errors is correctly specified.\n",
       "\"\"\""
      ]
     },
     "execution_count": 1305,
     "metadata": {},
     "output_type": "execute_result"
    }
   ],
   "source": [
    "lr_model.summary() "
   ]
  },
  {
   "cell_type": "code",
   "execution_count": 1190,
   "metadata": {},
   "outputs": [],
   "source": [
    "new_predictors = predictors[['waterfront','sqft_livinglog','bathrooms','floors','view','grade','sqft_abovelog','sqft_living15log']]"
   ]
  },
  {
   "cell_type": "code",
   "execution_count": 1193,
   "metadata": {},
   "outputs": [
    {
     "data": {
      "text/html": [
       "<div>\n",
       "<style scoped>\n",
       "    .dataframe tbody tr th:only-of-type {\n",
       "        vertical-align: middle;\n",
       "    }\n",
       "\n",
       "    .dataframe tbody tr th {\n",
       "        vertical-align: top;\n",
       "    }\n",
       "\n",
       "    .dataframe thead th {\n",
       "        text-align: right;\n",
       "    }\n",
       "</style>\n",
       "<table border=\"1\" class=\"dataframe\">\n",
       "  <thead>\n",
       "    <tr style=\"text-align: right;\">\n",
       "      <th></th>\n",
       "      <th>waterfront</th>\n",
       "      <th>sqft_livinglog</th>\n",
       "      <th>bathrooms</th>\n",
       "      <th>floors</th>\n",
       "      <th>view</th>\n",
       "      <th>grade</th>\n",
       "      <th>sqft_abovelog</th>\n",
       "      <th>sqft_living15log</th>\n",
       "    </tr>\n",
       "  </thead>\n",
       "  <tbody>\n",
       "    <tr>\n",
       "      <td>waterfront</td>\n",
       "      <td>True</td>\n",
       "      <td>False</td>\n",
       "      <td>False</td>\n",
       "      <td>False</td>\n",
       "      <td>False</td>\n",
       "      <td>False</td>\n",
       "      <td>False</td>\n",
       "      <td>False</td>\n",
       "    </tr>\n",
       "    <tr>\n",
       "      <td>sqft_livinglog</td>\n",
       "      <td>False</td>\n",
       "      <td>True</td>\n",
       "      <td>True</td>\n",
       "      <td>False</td>\n",
       "      <td>False</td>\n",
       "      <td>True</td>\n",
       "      <td>True</td>\n",
       "      <td>True</td>\n",
       "    </tr>\n",
       "    <tr>\n",
       "      <td>bathrooms</td>\n",
       "      <td>False</td>\n",
       "      <td>True</td>\n",
       "      <td>True</td>\n",
       "      <td>False</td>\n",
       "      <td>False</td>\n",
       "      <td>False</td>\n",
       "      <td>False</td>\n",
       "      <td>False</td>\n",
       "    </tr>\n",
       "    <tr>\n",
       "      <td>floors</td>\n",
       "      <td>False</td>\n",
       "      <td>False</td>\n",
       "      <td>False</td>\n",
       "      <td>True</td>\n",
       "      <td>False</td>\n",
       "      <td>False</td>\n",
       "      <td>False</td>\n",
       "      <td>False</td>\n",
       "    </tr>\n",
       "    <tr>\n",
       "      <td>view</td>\n",
       "      <td>False</td>\n",
       "      <td>False</td>\n",
       "      <td>False</td>\n",
       "      <td>False</td>\n",
       "      <td>True</td>\n",
       "      <td>False</td>\n",
       "      <td>False</td>\n",
       "      <td>False</td>\n",
       "    </tr>\n",
       "    <tr>\n",
       "      <td>grade</td>\n",
       "      <td>False</td>\n",
       "      <td>True</td>\n",
       "      <td>False</td>\n",
       "      <td>False</td>\n",
       "      <td>False</td>\n",
       "      <td>True</td>\n",
       "      <td>True</td>\n",
       "      <td>False</td>\n",
       "    </tr>\n",
       "    <tr>\n",
       "      <td>sqft_abovelog</td>\n",
       "      <td>False</td>\n",
       "      <td>True</td>\n",
       "      <td>False</td>\n",
       "      <td>False</td>\n",
       "      <td>False</td>\n",
       "      <td>True</td>\n",
       "      <td>True</td>\n",
       "      <td>True</td>\n",
       "    </tr>\n",
       "    <tr>\n",
       "      <td>sqft_living15log</td>\n",
       "      <td>False</td>\n",
       "      <td>True</td>\n",
       "      <td>False</td>\n",
       "      <td>False</td>\n",
       "      <td>False</td>\n",
       "      <td>False</td>\n",
       "      <td>True</td>\n",
       "      <td>True</td>\n",
       "    </tr>\n",
       "  </tbody>\n",
       "</table>\n",
       "</div>"
      ],
      "text/plain": [
       "                  waterfront  sqft_livinglog  bathrooms  floors   view  grade  \\\n",
       "waterfront              True           False      False   False  False  False   \n",
       "sqft_livinglog         False            True       True   False  False   True   \n",
       "bathrooms              False            True       True   False  False  False   \n",
       "floors                 False           False      False    True  False  False   \n",
       "view                   False           False      False   False   True  False   \n",
       "grade                  False            True      False   False  False   True   \n",
       "sqft_abovelog          False            True      False   False  False   True   \n",
       "sqft_living15log       False            True      False   False  False  False   \n",
       "\n",
       "                  sqft_abovelog  sqft_living15log  \n",
       "waterfront                False             False  \n",
       "sqft_livinglog             True              True  \n",
       "bathrooms                 False             False  \n",
       "floors                    False             False  \n",
       "view                      False             False  \n",
       "grade                      True             False  \n",
       "sqft_abovelog              True              True  \n",
       "sqft_living15log           True              True  "
      ]
     },
     "execution_count": 1193,
     "metadata": {},
     "output_type": "execute_result"
    }
   ],
   "source": [
    "abs(new_predictors.corr()) > .7"
   ]
  },
  {
   "cell_type": "markdown",
   "metadata": {},
   "source": [
    "# Which Variables Are Most Important? Stepwise "
   ]
  },
  {
   "cell_type": "code",
   "execution_count": 1129,
   "metadata": {},
   "outputs": [],
   "source": [
    "def stepwise_selection(X, y, \n",
    "                       initial_list=[], \n",
    "                       threshold_in=0.01, \n",
    "                       threshold_out = 0.05, \n",
    "                       verbose=True):\n",
    "    \"\"\" Perform a forward-backward feature selection \n",
    "    based on p-value from statsmodels.api.OLS\n",
    "    Arguments:\n",
    "        X - pandas.DataFrame with candidate features\n",
    "        y - list-like with the target\n",
    "        initial_list - list of features to start with (column names of X)\n",
    "        threshold_in - include a feature if its p-value < threshold_in\n",
    "        threshold_out - exclude a feature if its p-value > threshold_out\n",
    "        verbose - whether to print the sequence of inclusions and exclusions\n",
    "    Returns: list of selected features \n",
    "    Always set threshold_in < threshold_out to avoid infinite looping.\n",
    "    See https://en.wikipedia.org/wiki/Stepwise_regression for the details\n",
    "    \"\"\"\n",
    "    included = list(initial_list)\n",
    "    while True:\n",
    "        changed=False\n",
    "        # forward step\n",
    "        excluded = list(set(X.columns)-set(included))\n",
    "        new_pval = pd.Series(index=excluded)\n",
    "        for new_column in excluded:\n",
    "            model = sm.OLS(y, sm.add_constant(pd.DataFrame(X[included+[new_column]]))).fit()\n",
    "            new_pval[new_column] = model.pvalues[new_column]\n",
    "        best_pval = new_pval.min()\n",
    "        if best_pval < threshold_in:\n",
    "            best_feature = new_pval.idxmin()\n",
    "            included.append(best_feature)\n",
    "            changed=True\n",
    "            if verbose:\n",
    "                print('Add  {:30} with p-value {:.6}'.format(best_feature, best_pval))\n",
    "\n",
    "        # backward step\n",
    "        model = sm.OLS(y, sm.add_constant(pd.DataFrame(X[included]))).fit()\n",
    "        # use all coefs except intercept\n",
    "        pvalues = model.pvalues.iloc[1:]\n",
    "        worst_pval = pvalues.max() # null if pvalues is empty\n",
    "        if worst_pval > threshold_out:\n",
    "            changed=True\n",
    "            worst_feature = pvalues.argmax()\n",
    "            included.remove(worst_feature)\n",
    "            if verbose:\n",
    "                print('Drop {:30} with p-value {:.6}'.format(worst_feature, worst_pval))\n",
    "        if not changed:\n",
    "            break\n",
    "    return included"
   ]
  },
  {
   "cell_type": "code",
   "execution_count": 1131,
   "metadata": {},
   "outputs": [],
   "source": [
    "predictors = DF[['waterfront',    'sqft_basement',     'yr_renovated',\n",
    "               'bedrooms',        'bathrooms',   'sqft_livinglog',\n",
    "            'sqft_lotlog',           'floors',             'view',\n",
    "              'condition',            'grade',    'sqft_abovelog',\n",
    "               'yr_built', 'sqft_living15log',    'sqft_lot15log',]]"
   ]
  },
  {
   "cell_type": "code",
   "execution_count": 1132,
   "metadata": {},
   "outputs": [
    {
     "name": "stderr",
     "output_type": "stream",
     "text": [
      "/Users/findlaybowditch/opt/anaconda3/lib/python3.7/site-packages/numpy/core/fromnumeric.py:2495: FutureWarning: Method .ptp is deprecated and will be removed in a future version. Use numpy.ptp instead.\n",
      "  return ptp(axis=axis, out=out, **kwargs)\n"
     ]
    },
    {
     "name": "stdout",
     "output_type": "stream",
     "text": [
      "Add  waterfront                     with p-value 0.0\n",
      "Add  bathrooms                      with p-value 0.0\n",
      "Add  yr_built                       with p-value 0.0\n",
      "Add  grade                          with p-value 0.0\n",
      "Add  view                           with p-value 6.49152e-137\n",
      "Add  sqft_livinglog                 with p-value 4.34863e-65\n",
      "Add  sqft_living15log               with p-value 1.28916e-21\n",
      "Add  sqft_lot15log                  with p-value 1.42133e-25\n",
      "Add  bedrooms                       with p-value 3.51367e-16\n",
      "Add  condition                      with p-value 2.86738e-12\n",
      "Add  sqft_abovelog                  with p-value 1.5078e-06\n",
      "Add  sqft_basement                  with p-value 2.75847e-22\n",
      "Drop sqft_livinglog                 with p-value 0.271357\n",
      "Add  yr_renovated                   with p-value 0.0035962\n",
      "resulting features:\n",
      "['waterfront', 'bathrooms', 'yr_built', 'grade', 'view', 'sqft_living15log', 'sqft_lot15log', 'bedrooms', 'condition', 'sqft_abovelog', 'sqft_basement', 'yr_renovated']\n"
     ]
    },
    {
     "name": "stderr",
     "output_type": "stream",
     "text": [
      "/Users/findlaybowditch/opt/anaconda3/lib/python3.7/site-packages/ipykernel_launcher.py:43: FutureWarning: \n",
      "The current behaviour of 'Series.argmax' is deprecated, use 'idxmax'\n",
      "instead.\n",
      "The behavior of 'argmax' will be corrected to return the positional\n",
      "maximum in the future. For now, use 'series.values.argmax' or\n",
      "'np.argmax(np.array(values))' to get the position of the maximum\n",
      "row.\n"
     ]
    }
   ],
   "source": [
    "result = stepwise_selection(predictors, DF['price'], verbose=True)\n",
    "print('resulting features:')\n",
    "print(result)"
   ]
  },
  {
   "cell_type": "code",
   "execution_count": 627,
   "metadata": {},
   "outputs": [
    {
     "data": {
      "text/plain": [
       "<matplotlib.collections.PathCollection at 0x1a30e4e210>"
      ]
     },
     "execution_count": 627,
     "metadata": {},
     "output_type": "execute_result"
    },
    {
     "data": {
      "image/png": "[encoded data removed]",
      "text/plain": [
       "<Figure size 432x288 with 1 Axes>"
      ]
     },
     "metadata": {
      "needs_background": "light"
     },
     "output_type": "display_data"
    }
   ],
   "source": [
    "x = kc2['grade']\n",
    "y = kc2['price']\n",
    "\n",
    "plt.scatter(x,y)"
   ]
  },
  {
   "cell_type": "markdown",
   "metadata": {},
   "source": [
    "#### The problem with 𝑅2 is that, whichever predictor you add to your model irrespective of whether it will add any new information to the model, will increase your 𝑅2 value. That is, the model tends to overfit if we only use 𝑅2 as our model fitting criterion. This is why train-has test split is essential and why regularization techniques are used to refine more advanced regression models. Make sure to read this blogpost on the difference between the two to get a better sense to why use  𝑅2𝑎𝑑𝑗"
   ]
  },
  {
   "cell_type": "markdown",
   "metadata": {},
   "source": [
    "# Feature Ranking"
   ]
  },
  {
   "cell_type": "code",
   "execution_count": 1123,
   "metadata": {},
   "outputs": [],
   "source": [
    "predictors = DF[['waterfront',    'sqft_basement',     'yr_renovated',\n",
    "               'bedrooms',        'bathrooms',   'sqft_livinglog',\n",
    "            'sqft_lotlog',           'floors',             'view',\n",
    "              'condition',            'grade',    'sqft_abovelog',\n",
    "               'yr_built', 'sqft_living15log',    'sqft_lot15log',]]"
   ]
  },
  {
   "cell_type": "code",
   "execution_count": 1126,
   "metadata": {},
   "outputs": [],
   "source": [
    "from sklearn.feature_selection import RFE\n",
    "from sklearn.linear_model import LinearRegression\n",
    "\n",
    "linreg = LinearRegression()\n",
    "selector = RFE(linreg, n_features_to_select=7)\n",
    "selector = selector.fit(predictors, DF['price'])"
   ]
  },
  {
   "cell_type": "code",
   "execution_count": 1127,
   "metadata": {
    "scrolled": true
   },
   "outputs": [
    {
     "data": {
      "text/plain": [
       "array([1, 1, 5, 4, 1, 7, 9, 8, 1, 6, 1, 1, 1, 2, 3])"
      ]
     },
     "execution_count": 1127,
     "metadata": {},
     "output_type": "execute_result"
    }
   ],
   "source": [
    "selector.ranking_"
   ]
  },
  {
   "cell_type": "code",
   "execution_count": 1128,
   "metadata": {},
   "outputs": [
    {
     "data": {
      "text/plain": [
       "Index(['waterfront', 'sqft_basement', 'yr_renovated', 'bedrooms', 'bathrooms',\n",
       "       'sqft_livinglog', 'sqft_lotlog', 'floors', 'view', 'condition', 'grade',\n",
       "       'sqft_abovelog', 'yr_built', 'sqft_living15log', 'sqft_lot15log'],\n",
       "      dtype='object')"
      ]
     },
     "execution_count": 1128,
     "metadata": {},
     "output_type": "execute_result"
    }
   ],
   "source": [
    "predictors.columns"
   ]
  },
  {
   "cell_type": "markdown",
   "metadata": {},
   "source": [
    "#### Ranked \n",
    "- 1. Sqft_livinglog 2. grade  3. sqft_living15log 4. bathrooms"
   ]
  },
  {
   "cell_type": "code",
   "execution_count": 491,
   "metadata": {},
   "outputs": [],
   "source": [
    "x1 = predictors2.drop(['sqft_living','sqft_living15'], axis = 1)"
   ]
  },
  {
   "cell_type": "code",
   "execution_count": 492,
   "metadata": {},
   "outputs": [
    {
     "data": {
      "text/plain": [
       "Index(['bathrooms', 'grade', 'sqft_livinglog', 'sqft_living15log'], dtype='object')"
      ]
     },
     "execution_count": 492,
     "metadata": {},
     "output_type": "execute_result"
    }
   ],
   "source": [
    "x1.columns"
   ]
  },
  {
   "cell_type": "markdown",
   "metadata": {},
   "source": [
    "# Regression Model Validation"
   ]
  },
  {
   "cell_type": "code",
   "execution_count": 1218,
   "metadata": {
    "scrolled": true
   },
   "outputs": [
    {
     "data": {
      "text/plain": [
       "Index([           'price',       'waterfront',    'sqft_basement',\n",
       "           'yr_renovated',         'bedrooms',        'bathrooms',\n",
       "         'sqft_livinglog',      'sqft_lotlog',           'floors',\n",
       "                   'view',        'condition',            'grade',\n",
       "          'sqft_abovelog',         'yr_built', 'sqft_living15log',\n",
       "          'sqft_lot15log',              98002,              98003,\n",
       "                    98004,              98005,              98006,\n",
       "                    98007,              98008,              98010,\n",
       "                    98011,              98014,              98019,\n",
       "                    98022,              98023,              98024,\n",
       "                    98027,              98028,              98029,\n",
       "                    98030,              98031,              98032,\n",
       "                    98033,              98034,              98038,\n",
       "                    98039,              98040,              98042,\n",
       "                    98045,              98052,              98053,\n",
       "                    98055,              98056,              98058,\n",
       "                    98059,              98065,              98070,\n",
       "                    98072,              98074,              98075,\n",
       "                    98077,              98092,              98102,\n",
       "                    98103,              98105,              98106,\n",
       "                    98107,              98108,              98109,\n",
       "                    98112,              98115,              98116,\n",
       "                    98117,              98118,              98119,\n",
       "                    98122,              98125,              98126,\n",
       "                    98133,              98136,              98144,\n",
       "                    98146,              98148,              98155,\n",
       "                    98166,              98168,              98177,\n",
       "                    98178,              98188,              98198,\n",
       "                    98199],\n",
       "      dtype='object')"
      ]
     },
     "execution_count": 1218,
     "metadata": {},
     "output_type": "execute_result"
    }
   ],
   "source": [
    "DF.columns"
   ]
  },
  {
   "cell_type": "code",
   "execution_count": null,
   "metadata": {},
   "outputs": [],
   "source": [
    "# x1= DF.drop(['price','waterfront','sqft_basement','yr_renovated','bedrooms','bathrooms','sqft_livinglog','sqft_lotlog','floors','view','condition','grade','sqft_abovelog','yr_built','sqft_living15log','sqft_lot15log'], axis = 1)"
   ]
  },
  {
   "cell_type": "code",
   "execution_count": 1294,
   "metadata": {},
   "outputs": [],
   "source": [
    "y = DF['price']\n",
    "x1 = DF.drop(['price','water''yr_renovated','condition','yr_built','sqft_lotlog','sqft_lot15log'], axis =1)"
   ]
  },
  {
   "cell_type": "code",
   "execution_count": 1295,
   "metadata": {},
   "outputs": [],
   "source": [
    "from sklearn.model_selection import train_test_split\n",
    "X_train, X_test, y_train, y_test = train_test_split(x1, y, test_size=0.2, random_state=42)"
   ]
  },
  {
   "cell_type": "code",
   "execution_count": 1296,
   "metadata": {},
   "outputs": [
    {
     "name": "stdout",
     "output_type": "stream",
     "text": [
      "17277 4320 17277 4320\n"
     ]
    }
   ],
   "source": [
    "print(len(X_train), len(X_test), len(y_train), len(y_test))"
   ]
  },
  {
   "cell_type": "code",
   "execution_count": 1297,
   "metadata": {},
   "outputs": [],
   "source": [
    "from sklearn.linear_model import LinearRegression\n",
    "linreg = LinearRegression()\n",
    "linreg.fit(X_train, y_train)\n",
    "\n",
    "y_hat_train = linreg.predict(X_train)\n",
    "y_hat_test = linreg.predict(X_test)"
   ]
  },
  {
   "cell_type": "code",
   "execution_count": 1298,
   "metadata": {},
   "outputs": [
    {
     "data": {
      "text/plain": [
       "0.7657523995208958"
      ]
     },
     "execution_count": 1298,
     "metadata": {},
     "output_type": "execute_result"
    }
   ],
   "source": [
    "linreg.score(X_train,y_train)"
   ]
  },
  {
   "cell_type": "code",
   "execution_count": 1299,
   "metadata": {
    "scrolled": true
   },
   "outputs": [
    {
     "data": {
      "text/html": [
       "<div>\n",
       "<style scoped>\n",
       "    .dataframe tbody tr th:only-of-type {\n",
       "        vertical-align: middle;\n",
       "    }\n",
       "\n",
       "    .dataframe tbody tr th {\n",
       "        vertical-align: top;\n",
       "    }\n",
       "\n",
       "    .dataframe thead th {\n",
       "        text-align: right;\n",
       "    }\n",
       "</style>\n",
       "<table border=\"1\" class=\"dataframe\">\n",
       "  <thead>\n",
       "    <tr style=\"text-align: right;\">\n",
       "      <th></th>\n",
       "      <th>waterfront</th>\n",
       "      <th>sqft_basement</th>\n",
       "      <th>bedrooms</th>\n",
       "      <th>bathrooms</th>\n",
       "      <th>sqft_livinglog</th>\n",
       "      <th>floors</th>\n",
       "      <th>view</th>\n",
       "      <th>grade</th>\n",
       "      <th>sqft_abovelog</th>\n",
       "      <th>sqft_living15log</th>\n",
       "      <th>...</th>\n",
       "      <th>98146</th>\n",
       "      <th>98148</th>\n",
       "      <th>98155</th>\n",
       "      <th>98166</th>\n",
       "      <th>98168</th>\n",
       "      <th>98177</th>\n",
       "      <th>98178</th>\n",
       "      <th>98188</th>\n",
       "      <th>98198</th>\n",
       "      <th>98199</th>\n",
       "    </tr>\n",
       "  </thead>\n",
       "  <tbody>\n",
       "    <tr>\n",
       "      <td>6243</td>\n",
       "      <td>0.0</td>\n",
       "      <td>0.0</td>\n",
       "      <td>0.676687</td>\n",
       "      <td>-0.150626</td>\n",
       "      <td>-0.656140</td>\n",
       "      <td>0.937431</td>\n",
       "      <td>-0.304949</td>\n",
       "      <td>-0.560800</td>\n",
       "      <td>-0.287382</td>\n",
       "      <td>-1.128000</td>\n",
       "      <td>...</td>\n",
       "      <td>0</td>\n",
       "      <td>0</td>\n",
       "      <td>0</td>\n",
       "      <td>0</td>\n",
       "      <td>0</td>\n",
       "      <td>0</td>\n",
       "      <td>0</td>\n",
       "      <td>0</td>\n",
       "      <td>0</td>\n",
       "      <td>0</td>\n",
       "    </tr>\n",
       "    <tr>\n",
       "      <td>8986</td>\n",
       "      <td>0.0</td>\n",
       "      <td>1.0</td>\n",
       "      <td>-0.402903</td>\n",
       "      <td>-0.475738</td>\n",
       "      <td>-0.672568</td>\n",
       "      <td>-0.915552</td>\n",
       "      <td>2.310610</td>\n",
       "      <td>-0.560800</td>\n",
       "      <td>-0.834322</td>\n",
       "      <td>-1.104599</td>\n",
       "      <td>...</td>\n",
       "      <td>0</td>\n",
       "      <td>0</td>\n",
       "      <td>0</td>\n",
       "      <td>0</td>\n",
       "      <td>0</td>\n",
       "      <td>0</td>\n",
       "      <td>0</td>\n",
       "      <td>0</td>\n",
       "      <td>0</td>\n",
       "      <td>0</td>\n",
       "    </tr>\n",
       "    <tr>\n",
       "      <td>9419</td>\n",
       "      <td>0.0</td>\n",
       "      <td>0.0</td>\n",
       "      <td>0.676687</td>\n",
       "      <td>0.824709</td>\n",
       "      <td>1.166643</td>\n",
       "      <td>0.937431</td>\n",
       "      <td>-0.304949</td>\n",
       "      <td>1.143979</td>\n",
       "      <td>1.522814</td>\n",
       "      <td>1.622833</td>\n",
       "      <td>...</td>\n",
       "      <td>0</td>\n",
       "      <td>0</td>\n",
       "      <td>0</td>\n",
       "      <td>0</td>\n",
       "      <td>0</td>\n",
       "      <td>0</td>\n",
       "      <td>0</td>\n",
       "      <td>0</td>\n",
       "      <td>0</td>\n",
       "      <td>0</td>\n",
       "    </tr>\n",
       "    <tr>\n",
       "      <td>10155</td>\n",
       "      <td>0.0</td>\n",
       "      <td>1.0</td>\n",
       "      <td>0.676687</td>\n",
       "      <td>0.499597</td>\n",
       "      <td>0.187988</td>\n",
       "      <td>-0.915552</td>\n",
       "      <td>-0.304949</td>\n",
       "      <td>-0.560800</td>\n",
       "      <td>-0.675536</td>\n",
       "      <td>-0.202849</td>\n",
       "      <td>...</td>\n",
       "      <td>0</td>\n",
       "      <td>0</td>\n",
       "      <td>0</td>\n",
       "      <td>0</td>\n",
       "      <td>0</td>\n",
       "      <td>0</td>\n",
       "      <td>0</td>\n",
       "      <td>0</td>\n",
       "      <td>0</td>\n",
       "      <td>0</td>\n",
       "    </tr>\n",
       "    <tr>\n",
       "      <td>10436</td>\n",
       "      <td>0.0</td>\n",
       "      <td>1.0</td>\n",
       "      <td>-0.402903</td>\n",
       "      <td>-0.150626</td>\n",
       "      <td>0.644360</td>\n",
       "      <td>0.010939</td>\n",
       "      <td>-0.304949</td>\n",
       "      <td>-0.560800</td>\n",
       "      <td>0.073516</td>\n",
       "      <td>-0.590863</td>\n",
       "      <td>...</td>\n",
       "      <td>0</td>\n",
       "      <td>0</td>\n",
       "      <td>0</td>\n",
       "      <td>0</td>\n",
       "      <td>0</td>\n",
       "      <td>0</td>\n",
       "      <td>0</td>\n",
       "      <td>0</td>\n",
       "      <td>0</td>\n",
       "      <td>0</td>\n",
       "    </tr>\n",
       "    <tr>\n",
       "      <td>...</td>\n",
       "      <td>...</td>\n",
       "      <td>...</td>\n",
       "      <td>...</td>\n",
       "      <td>...</td>\n",
       "      <td>...</td>\n",
       "      <td>...</td>\n",
       "      <td>...</td>\n",
       "      <td>...</td>\n",
       "      <td>...</td>\n",
       "      <td>...</td>\n",
       "      <td>...</td>\n",
       "      <td>...</td>\n",
       "      <td>...</td>\n",
       "      <td>...</td>\n",
       "      <td>...</td>\n",
       "      <td>...</td>\n",
       "      <td>...</td>\n",
       "      <td>...</td>\n",
       "      <td>...</td>\n",
       "      <td>...</td>\n",
       "      <td>...</td>\n",
       "    </tr>\n",
       "    <tr>\n",
       "      <td>11964</td>\n",
       "      <td>0.0</td>\n",
       "      <td>0.0</td>\n",
       "      <td>-0.402903</td>\n",
       "      <td>0.499597</td>\n",
       "      <td>0.374926</td>\n",
       "      <td>0.937431</td>\n",
       "      <td>-0.304949</td>\n",
       "      <td>-0.560800</td>\n",
       "      <td>0.736564</td>\n",
       "      <td>0.519951</td>\n",
       "      <td>...</td>\n",
       "      <td>0</td>\n",
       "      <td>0</td>\n",
       "      <td>0</td>\n",
       "      <td>0</td>\n",
       "      <td>0</td>\n",
       "      <td>0</td>\n",
       "      <td>0</td>\n",
       "      <td>0</td>\n",
       "      <td>0</td>\n",
       "      <td>0</td>\n",
       "    </tr>\n",
       "    <tr>\n",
       "      <td>21575</td>\n",
       "      <td>0.0</td>\n",
       "      <td>0.0</td>\n",
       "      <td>0.676687</td>\n",
       "      <td>0.824709</td>\n",
       "      <td>0.886136</td>\n",
       "      <td>0.937431</td>\n",
       "      <td>-0.304949</td>\n",
       "      <td>0.291589</td>\n",
       "      <td>1.244244</td>\n",
       "      <td>-0.117302</td>\n",
       "      <td>...</td>\n",
       "      <td>0</td>\n",
       "      <td>0</td>\n",
       "      <td>0</td>\n",
       "      <td>0</td>\n",
       "      <td>0</td>\n",
       "      <td>0</td>\n",
       "      <td>1</td>\n",
       "      <td>0</td>\n",
       "      <td>0</td>\n",
       "      <td>0</td>\n",
       "    </tr>\n",
       "    <tr>\n",
       "      <td>5390</td>\n",
       "      <td>0.0</td>\n",
       "      <td>0.0</td>\n",
       "      <td>0.676687</td>\n",
       "      <td>-0.800849</td>\n",
       "      <td>-0.513218</td>\n",
       "      <td>-0.915552</td>\n",
       "      <td>-0.304949</td>\n",
       "      <td>-1.413190</td>\n",
       "      <td>-0.145447</td>\n",
       "      <td>-0.650548</td>\n",
       "      <td>...</td>\n",
       "      <td>0</td>\n",
       "      <td>0</td>\n",
       "      <td>0</td>\n",
       "      <td>0</td>\n",
       "      <td>0</td>\n",
       "      <td>0</td>\n",
       "      <td>0</td>\n",
       "      <td>0</td>\n",
       "      <td>0</td>\n",
       "      <td>0</td>\n",
       "    </tr>\n",
       "    <tr>\n",
       "      <td>860</td>\n",
       "      <td>0.0</td>\n",
       "      <td>0.0</td>\n",
       "      <td>-2.562083</td>\n",
       "      <td>-1.776184</td>\n",
       "      <td>-3.796843</td>\n",
       "      <td>-0.915552</td>\n",
       "      <td>-0.304949</td>\n",
       "      <td>-2.265579</td>\n",
       "      <td>-3.406399</td>\n",
       "      <td>-1.449751</td>\n",
       "      <td>...</td>\n",
       "      <td>0</td>\n",
       "      <td>0</td>\n",
       "      <td>0</td>\n",
       "      <td>0</td>\n",
       "      <td>1</td>\n",
       "      <td>0</td>\n",
       "      <td>0</td>\n",
       "      <td>0</td>\n",
       "      <td>0</td>\n",
       "      <td>0</td>\n",
       "    </tr>\n",
       "    <tr>\n",
       "      <td>15795</td>\n",
       "      <td>0.0</td>\n",
       "      <td>0.0</td>\n",
       "      <td>0.676687</td>\n",
       "      <td>0.499597</td>\n",
       "      <td>0.873335</td>\n",
       "      <td>0.937431</td>\n",
       "      <td>-0.304949</td>\n",
       "      <td>0.291589</td>\n",
       "      <td>1.231532</td>\n",
       "      <td>1.236788</td>\n",
       "      <td>...</td>\n",
       "      <td>0</td>\n",
       "      <td>0</td>\n",
       "      <td>0</td>\n",
       "      <td>0</td>\n",
       "      <td>0</td>\n",
       "      <td>0</td>\n",
       "      <td>0</td>\n",
       "      <td>0</td>\n",
       "      <td>0</td>\n",
       "      <td>0</td>\n",
       "    </tr>\n",
       "  </tbody>\n",
       "</table>\n",
       "<p>17277 rows × 79 columns</p>\n",
       "</div>"
      ],
      "text/plain": [
       "       waterfront  sqft_basement  bedrooms  bathrooms  sqft_livinglog  \\\n",
       "6243          0.0            0.0  0.676687  -0.150626       -0.656140   \n",
       "8986          0.0            1.0 -0.402903  -0.475738       -0.672568   \n",
       "9419          0.0            0.0  0.676687   0.824709        1.166643   \n",
       "10155         0.0            1.0  0.676687   0.499597        0.187988   \n",
       "10436         0.0            1.0 -0.402903  -0.150626        0.644360   \n",
       "...           ...            ...       ...        ...             ...   \n",
       "11964         0.0            0.0 -0.402903   0.499597        0.374926   \n",
       "21575         0.0            0.0  0.676687   0.824709        0.886136   \n",
       "5390          0.0            0.0  0.676687  -0.800849       -0.513218   \n",
       "860           0.0            0.0 -2.562083  -1.776184       -3.796843   \n",
       "15795         0.0            0.0  0.676687   0.499597        0.873335   \n",
       "\n",
       "         floors      view     grade  sqft_abovelog  sqft_living15log  ...  \\\n",
       "6243   0.937431 -0.304949 -0.560800      -0.287382         -1.128000  ...   \n",
       "8986  -0.915552  2.310610 -0.560800      -0.834322         -1.104599  ...   \n",
       "9419   0.937431 -0.304949  1.143979       1.522814          1.622833  ...   \n",
       "10155 -0.915552 -0.304949 -0.560800      -0.675536         -0.202849  ...   \n",
       "10436  0.010939 -0.304949 -0.560800       0.073516         -0.590863  ...   \n",
       "...         ...       ...       ...            ...               ...  ...   \n",
       "11964  0.937431 -0.304949 -0.560800       0.736564          0.519951  ...   \n",
       "21575  0.937431 -0.304949  0.291589       1.244244         -0.117302  ...   \n",
       "5390  -0.915552 -0.304949 -1.413190      -0.145447         -0.650548  ...   \n",
       "860   -0.915552 -0.304949 -2.265579      -3.406399         -1.449751  ...   \n",
       "15795  0.937431 -0.304949  0.291589       1.231532          1.236788  ...   \n",
       "\n",
       "       98146  98148  98155  98166  98168  98177  98178  98188  98198  98199  \n",
       "6243       0      0      0      0      0      0      0      0      0      0  \n",
       "8986       0      0      0      0      0      0      0      0      0      0  \n",
       "9419       0      0      0      0      0      0      0      0      0      0  \n",
       "10155      0      0      0      0      0      0      0      0      0      0  \n",
       "10436      0      0      0      0      0      0      0      0      0      0  \n",
       "...      ...    ...    ...    ...    ...    ...    ...    ...    ...    ...  \n",
       "11964      0      0      0      0      0      0      0      0      0      0  \n",
       "21575      0      0      0      0      0      0      1      0      0      0  \n",
       "5390       0      0      0      0      0      0      0      0      0      0  \n",
       "860        0      0      0      0      1      0      0      0      0      0  \n",
       "15795      0      0      0      0      0      0      0      0      0      0  \n",
       "\n",
       "[17277 rows x 79 columns]"
      ]
     },
     "execution_count": 1299,
     "metadata": {},
     "output_type": "execute_result"
    }
   ],
   "source": [
    "X_train"
   ]
  },
  {
   "cell_type": "code",
   "execution_count": 1286,
   "metadata": {},
   "outputs": [],
   "source": [
    "train_residuals = y_hat_train - y_train\n",
    "test_residuals = y_hat_test - y_test"
   ]
  },
  {
   "cell_type": "code",
   "execution_count": 1287,
   "metadata": {},
   "outputs": [
    {
     "name": "stdout",
     "output_type": "stream",
     "text": [
      "Train Mean Squarred Error: 31904919124.636314\n",
      "Test Mean Squarred Error: 33281917513.113434\n"
     ]
    }
   ],
   "source": [
    "mse_train = np.sum((y_train-y_hat_train)**2)/len(y_train)\n",
    "mse_test = np.sum((y_test-y_hat_test)**2)/len(y_test)\n",
    "print('Train Mean Squarred Error:', mse_train)\n",
    "print('Test Mean Squarred Error:', mse_test)"
   ]
  },
  {
   "cell_type": "markdown",
   "metadata": {},
   "source": [
    "# Cross Validation "
   ]
  },
  {
   "cell_type": "code",
   "execution_count": 1274,
   "metadata": {},
   "outputs": [
    {
     "data": {
      "text/plain": [
       "-31109131631.359425"
      ]
     },
     "execution_count": 1274,
     "metadata": {},
     "output_type": "execute_result"
    }
   ],
   "source": [
    "from sklearn.metrics import mean_squared_error\n",
    "from sklearn.model_selection import cross_val_score\n",
    "\n",
    "cv_5_results  = np.mean(cross_val_score(linreg, x1, y, cv=5,  scoring='neg_mean_squared_error'))\n",
    "cv_10_results = np.mean(cross_val_score(linreg, x1, y, cv=10, scoring='neg_mean_squared_error'))\n",
    "cv_20_results = np.mean(cross_val_score(linreg, x1, y, cv=20, scoring='neg_mean_squared_error'))\n",
    "\n",
    "cv_5_results"
   ]
  },
  {
   "cell_type": "code",
   "execution_count": 1275,
   "metadata": {},
   "outputs": [
    {
     "data": {
      "text/plain": [
       "-31011491067.52481"
      ]
     },
     "execution_count": 1275,
     "metadata": {},
     "output_type": "execute_result"
    }
   ],
   "source": [
    "cv_10_results"
   ]
  },
  {
   "cell_type": "code",
   "execution_count": 1276,
   "metadata": {},
   "outputs": [
    {
     "data": {
      "text/plain": [
       "-30893129518.564537"
      ]
     },
     "execution_count": 1276,
     "metadata": {},
     "output_type": "execute_result"
    }
   ],
   "source": [
    "cv_20_results"
   ]
  },
  {
   "cell_type": "code",
   "execution_count": 604,
   "metadata": {
    "scrolled": true
   },
   "outputs": [],
   "source": [
    "lr_model = ols(formula='pricelog~bathrooms+sqft_living+zipdums', data=kc2).fit()  "
   ]
  },
  {
   "cell_type": "code",
   "execution_count": 605,
   "metadata": {},
   "outputs": [
    {
     "data": {
      "text/html": [
       "<table class=\"simpletable\">\n",
       "<caption>OLS Regression Results</caption>\n",
       "<tr>\n",
       "  <th>Dep. Variable:</th>        <td>pricelog</td>     <th>  R-squared:         </th> <td>   0.824</td>\n",
       "</tr>\n",
       "<tr>\n",
       "  <th>Model:</th>                   <td>OLS</td>       <th>  Adj. R-squared:    </th> <td>   0.823</td>\n",
       "</tr>\n",
       "<tr>\n",
       "  <th>Method:</th>             <td>Least Squares</td>  <th>  F-statistic:       </th> <td>   1419.</td>\n",
       "</tr>\n",
       "<tr>\n",
       "  <th>Date:</th>             <td>Sun, 01 Dec 2019</td> <th>  Prob (F-statistic):</th>  <td>  0.00</td> \n",
       "</tr>\n",
       "<tr>\n",
       "  <th>Time:</th>                 <td>14:53:19</td>     <th>  Log-Likelihood:    </th> <td>  1968.0</td>\n",
       "</tr>\n",
       "<tr>\n",
       "  <th>No. Observations:</th>      <td> 21597</td>      <th>  AIC:               </th> <td>  -3792.</td>\n",
       "</tr>\n",
       "<tr>\n",
       "  <th>Df Residuals:</th>          <td> 21525</td>      <th>  BIC:               </th> <td>  -3217.</td>\n",
       "</tr>\n",
       "<tr>\n",
       "  <th>Df Model:</th>              <td>    71</td>      <th>                     </th>     <td> </td>   \n",
       "</tr>\n",
       "<tr>\n",
       "  <th>Covariance Type:</th>      <td>nonrobust</td>    <th>                     </th>     <td> </td>   \n",
       "</tr>\n",
       "</table>\n",
       "<table class=\"simpletable\">\n",
       "<tr>\n",
       "       <td></td>          <th>coef</th>     <th>std err</th>      <th>t</th>      <th>P>|t|</th>  <th>[0.025</th>    <th>0.975]</th>  \n",
       "</tr>\n",
       "<tr>\n",
       "  <th>Intercept</th>   <td>   11.8076</td> <td>    0.012</td> <td>  951.686</td> <td> 0.000</td> <td>   11.783</td> <td>   11.832</td>\n",
       "</tr>\n",
       "<tr>\n",
       "  <th>bathrooms</th>   <td>    0.0358</td> <td>    0.003</td> <td>   11.703</td> <td> 0.000</td> <td>    0.030</td> <td>    0.042</td>\n",
       "</tr>\n",
       "<tr>\n",
       "  <th>sqft_living</th> <td>    0.0003</td> <td> 2.64e-06</td> <td>  121.965</td> <td> 0.000</td> <td>    0.000</td> <td>    0.000</td>\n",
       "</tr>\n",
       "<tr>\n",
       "  <th>zipdums[0]</th>  <td>   -0.0603</td> <td>    0.020</td> <td>   -3.085</td> <td> 0.002</td> <td>   -0.099</td> <td>   -0.022</td>\n",
       "</tr>\n",
       "<tr>\n",
       "  <th>zipdums[1]</th>  <td>    0.0374</td> <td>    0.018</td> <td>    2.121</td> <td> 0.034</td> <td>    0.003</td> <td>    0.072</td>\n",
       "</tr>\n",
       "<tr>\n",
       "  <th>zipdums[2]</th>  <td>    1.1732</td> <td>    0.017</td> <td>   68.477</td> <td> 0.000</td> <td>    1.140</td> <td>    1.207</td>\n",
       "</tr>\n",
       "<tr>\n",
       "  <th>zipdums[3]</th>  <td>    0.8096</td> <td>    0.021</td> <td>   39.092</td> <td> 0.000</td> <td>    0.769</td> <td>    0.850</td>\n",
       "</tr>\n",
       "<tr>\n",
       "  <th>zipdums[4]</th>  <td>    0.7327</td> <td>    0.015</td> <td>   47.576</td> <td> 0.000</td> <td>    0.703</td> <td>    0.763</td>\n",
       "</tr>\n",
       "<tr>\n",
       "  <th>zipdums[5]</th>  <td>    0.6977</td> <td>    0.022</td> <td>   31.745</td> <td> 0.000</td> <td>    0.655</td> <td>    0.741</td>\n",
       "</tr>\n",
       "<tr>\n",
       "  <th>zipdums[6]</th>  <td>    0.7085</td> <td>    0.018</td> <td>   40.318</td> <td> 0.000</td> <td>    0.674</td> <td>    0.743</td>\n",
       "</tr>\n",
       "<tr>\n",
       "  <th>zipdums[7]</th>  <td>    0.2825</td> <td>    0.025</td> <td>   11.297</td> <td> 0.000</td> <td>    0.234</td> <td>    0.332</td>\n",
       "</tr>\n",
       "<tr>\n",
       "  <th>zipdums[8]</th>  <td>    0.4591</td> <td>    0.020</td> <td>   23.332</td> <td> 0.000</td> <td>    0.420</td> <td>    0.498</td>\n",
       "</tr>\n",
       "<tr>\n",
       "  <th>zipdums[9]</th>  <td>    0.3346</td> <td>    0.023</td> <td>   14.523</td> <td> 0.000</td> <td>    0.289</td> <td>    0.380</td>\n",
       "</tr>\n",
       "<tr>\n",
       "  <th>zipdums[10]</th> <td>    0.3253</td> <td>    0.020</td> <td>   16.397</td> <td> 0.000</td> <td>    0.286</td> <td>    0.364</td>\n",
       "</tr>\n",
       "<tr>\n",
       "  <th>zipdums[11]</th> <td>    0.1362</td> <td>    0.019</td> <td>    7.327</td> <td> 0.000</td> <td>    0.100</td> <td>    0.173</td>\n",
       "</tr>\n",
       "<tr>\n",
       "  <th>zipdums[12]</th> <td>   -0.0102</td> <td>    0.015</td> <td>   -0.665</td> <td> 0.506</td> <td>   -0.040</td> <td>    0.020</td>\n",
       "</tr>\n",
       "<tr>\n",
       "  <th>zipdums[13]</th> <td>    0.4792</td> <td>    0.027</td> <td>   17.518</td> <td> 0.000</td> <td>    0.426</td> <td>    0.533</td>\n",
       "</tr>\n",
       "<tr>\n",
       "  <th>zipdums[14]</th> <td>    0.5458</td> <td>    0.016</td> <td>   34.128</td> <td> 0.000</td> <td>    0.514</td> <td>    0.577</td>\n",
       "</tr>\n",
       "<tr>\n",
       "  <th>zipdums[15]</th> <td>    0.4313</td> <td>    0.018</td> <td>   24.545</td> <td> 0.000</td> <td>    0.397</td> <td>    0.466</td>\n",
       "</tr>\n",
       "<tr>\n",
       "  <th>zipdums[16]</th> <td>    0.6430</td> <td>    0.017</td> <td>   37.778</td> <td> 0.000</td> <td>    0.610</td> <td>    0.676</td>\n",
       "</tr>\n",
       "<tr>\n",
       "  <th>zipdums[17]</th> <td>    0.0513</td> <td>    0.018</td> <td>    2.838</td> <td> 0.005</td> <td>    0.016</td> <td>    0.087</td>\n",
       "</tr>\n",
       "<tr>\n",
       "  <th>zipdums[18]</th> <td>    0.0778</td> <td>    0.018</td> <td>    4.384</td> <td> 0.000</td> <td>    0.043</td> <td>    0.113</td>\n",
       "</tr>\n",
       "<tr>\n",
       "  <th>zipdums[19]</th> <td>   -0.0306</td> <td>    0.023</td> <td>   -1.334</td> <td> 0.182</td> <td>   -0.076</td> <td>    0.014</td>\n",
       "</tr>\n",
       "<tr>\n",
       "  <th>zipdums[20]</th> <td>    0.8276</td> <td>    0.016</td> <td>   52.372</td> <td> 0.000</td> <td>    0.797</td> <td>    0.859</td>\n",
       "</tr>\n",
       "<tr>\n",
       "  <th>zipdums[21]</th> <td>    0.5550</td> <td>    0.015</td> <td>   36.961</td> <td> 0.000</td> <td>    0.526</td> <td>    0.584</td>\n",
       "</tr>\n",
       "<tr>\n",
       "  <th>zipdums[22]</th> <td>    0.1761</td> <td>    0.015</td> <td>   11.890</td> <td> 0.000</td> <td>    0.147</td> <td>    0.205</td>\n",
       "</tr>\n",
       "<tr>\n",
       "  <th>zipdums[23]</th> <td>    1.3233</td> <td>    0.034</td> <td>   39.424</td> <td> 0.000</td> <td>    1.258</td> <td>    1.389</td>\n",
       "</tr>\n",
       "<tr>\n",
       "  <th>zipdums[24]</th> <td>    0.9970</td> <td>    0.018</td> <td>   56.259</td> <td> 0.000</td> <td>    0.962</td> <td>    1.032</td>\n",
       "</tr>\n",
       "<tr>\n",
       "  <th>zipdums[25]</th> <td>    0.0758</td> <td>    0.015</td> <td>    5.054</td> <td> 0.000</td> <td>    0.046</td> <td>    0.105</td>\n",
       "</tr>\n",
       "<tr>\n",
       "  <th>zipdums[26]</th> <td>    0.3648</td> <td>    0.019</td> <td>   19.273</td> <td> 0.000</td> <td>    0.328</td> <td>    0.402</td>\n",
       "</tr>\n",
       "<tr>\n",
       "  <th>zipdums[27]</th> <td>    0.6814</td> <td>    0.015</td> <td>   45.769</td> <td> 0.000</td> <td>    0.652</td> <td>    0.711</td>\n",
       "</tr>\n",
       "<tr>\n",
       "  <th>zipdums[28]</th> <td>    0.6178</td> <td>    0.016</td> <td>   38.403</td> <td> 0.000</td> <td>    0.586</td> <td>    0.649</td>\n",
       "</tr>\n",
       "<tr>\n",
       "  <th>zipdums[29]</th> <td>    0.1270</td> <td>    0.018</td> <td>    7.117</td> <td> 0.000</td> <td>    0.092</td> <td>    0.162</td>\n",
       "</tr>\n",
       "<tr>\n",
       "  <th>zipdums[30]</th> <td>    0.3271</td> <td>    0.016</td> <td>   20.435</td> <td> 0.000</td> <td>    0.296</td> <td>    0.358</td>\n",
       "</tr>\n",
       "<tr>\n",
       "  <th>zipdums[31]</th> <td>    0.1796</td> <td>    0.016</td> <td>   11.513</td> <td> 0.000</td> <td>    0.149</td> <td>    0.210</td>\n",
       "</tr>\n",
       "<tr>\n",
       "  <th>zipdums[32]</th> <td>    0.3585</td> <td>    0.016</td> <td>   23.091</td> <td> 0.000</td> <td>    0.328</td> <td>    0.389</td>\n",
       "</tr>\n",
       "<tr>\n",
       "  <th>zipdums[33]</th> <td>    0.3977</td> <td>    0.017</td> <td>   23.110</td> <td> 0.000</td> <td>    0.364</td> <td>    0.431</td>\n",
       "</tr>\n",
       "<tr>\n",
       "  <th>zipdums[34]</th> <td>    0.5412</td> <td>    0.024</td> <td>   22.991</td> <td> 0.000</td> <td>    0.495</td> <td>    0.587</td>\n",
       "</tr>\n",
       "<tr>\n",
       "  <th>zipdums[35]</th> <td>    0.5404</td> <td>    0.018</td> <td>   30.411</td> <td> 0.000</td> <td>    0.506</td> <td>    0.575</td>\n",
       "</tr>\n",
       "<tr>\n",
       "  <th>zipdums[36]</th> <td>    0.6321</td> <td>    0.016</td> <td>   40.102</td> <td> 0.000</td> <td>    0.601</td> <td>    0.663</td>\n",
       "</tr>\n",
       "<tr>\n",
       "  <th>zipdums[37]</th> <td>    0.6585</td> <td>    0.017</td> <td>   39.631</td> <td> 0.000</td> <td>    0.626</td> <td>    0.691</td>\n",
       "</tr>\n",
       "<tr>\n",
       "  <th>zipdums[38]</th> <td>    0.5469</td> <td>    0.020</td> <td>   27.832</td> <td> 0.000</td> <td>    0.508</td> <td>    0.585</td>\n",
       "</tr>\n",
       "<tr>\n",
       "  <th>zipdums[39]</th> <td>    0.0702</td> <td>    0.017</td> <td>    4.229</td> <td> 0.000</td> <td>    0.038</td> <td>    0.103</td>\n",
       "</tr>\n",
       "<tr>\n",
       "  <th>zipdums[40]</th> <td>    0.9779</td> <td>    0.025</td> <td>   39.701</td> <td> 0.000</td> <td>    0.930</td> <td>    1.026</td>\n",
       "</tr>\n",
       "<tr>\n",
       "  <th>zipdums[41]</th> <td>    0.8131</td> <td>    0.015</td> <td>   55.172</td> <td> 0.000</td> <td>    0.784</td> <td>    0.842</td>\n",
       "</tr>\n",
       "<tr>\n",
       "  <th>zipdums[42]</th> <td>    0.9811</td> <td>    0.019</td> <td>   52.469</td> <td> 0.000</td> <td>    0.944</td> <td>    1.018</td>\n",
       "</tr>\n",
       "<tr>\n",
       "  <th>zipdums[43]</th> <td>    0.2761</td> <td>    0.017</td> <td>   16.432</td> <td> 0.000</td> <td>    0.243</td> <td>    0.309</td>\n",
       "</tr>\n",
       "<tr>\n",
       "  <th>zipdums[44]</th> <td>    0.8372</td> <td>    0.018</td> <td>   46.761</td> <td> 0.000</td> <td>    0.802</td> <td>    0.872</td>\n",
       "</tr>\n",
       "<tr>\n",
       "  <th>zipdums[45]</th> <td>    0.3092</td> <td>    0.020</td> <td>   15.478</td> <td> 0.000</td> <td>    0.270</td> <td>    0.348</td>\n",
       "</tr>\n",
       "<tr>\n",
       "  <th>zipdums[46]</th> <td>    1.0387</td> <td>    0.024</td> <td>   42.948</td> <td> 0.000</td> <td>    0.991</td> <td>    1.086</td>\n",
       "</tr>\n",
       "<tr>\n",
       "  <th>zipdums[47]</th> <td>    1.0820</td> <td>    0.018</td> <td>   60.600</td> <td> 0.000</td> <td>    1.047</td> <td>    1.117</td>\n",
       "</tr>\n",
       "<tr>\n",
       "  <th>zipdums[48]</th> <td>    0.8121</td> <td>    0.015</td> <td>   54.788</td> <td> 0.000</td> <td>    0.783</td> <td>    0.841</td>\n",
       "</tr>\n",
       "<tr>\n",
       "  <th>zipdums[49]</th> <td>    0.7920</td> <td>    0.017</td> <td>   46.995</td> <td> 0.000</td> <td>    0.759</td> <td>    0.825</td>\n",
       "</tr>\n",
       "<tr>\n",
       "  <th>zipdums[50]</th> <td>    0.7994</td> <td>    0.015</td> <td>   53.374</td> <td> 0.000</td> <td>    0.770</td> <td>    0.829</td>\n",
       "</tr>\n",
       "<tr>\n",
       "  <th>zipdums[51]</th> <td>    0.4278</td> <td>    0.015</td> <td>   28.057</td> <td> 0.000</td> <td>    0.398</td> <td>    0.458</td>\n",
       "</tr>\n",
       "<tr>\n",
       "  <th>zipdums[52]</th> <td>    1.0266</td> <td>    0.020</td> <td>   51.205</td> <td> 0.000</td> <td>    0.987</td> <td>    1.066</td>\n",
       "</tr>\n",
       "<tr>\n",
       "  <th>zipdums[53]</th> <td>    0.8265</td> <td>    0.017</td> <td>   47.355</td> <td> 0.000</td> <td>    0.792</td> <td>    0.861</td>\n",
       "</tr>\n",
       "<tr>\n",
       "  <th>zipdums[54]</th> <td>    0.5616</td> <td>    0.016</td> <td>   35.133</td> <td> 0.000</td> <td>    0.530</td> <td>    0.593</td>\n",
       "</tr>\n",
       "<tr>\n",
       "  <th>zipdums[55]</th> <td>    0.5306</td> <td>    0.017</td> <td>   32.028</td> <td> 0.000</td> <td>    0.498</td> <td>    0.563</td>\n",
       "</tr>\n",
       "<tr>\n",
       "  <th>zipdums[56]</th> <td>    0.4442</td> <td>    0.015</td> <td>   28.956</td> <td> 0.000</td> <td>    0.414</td> <td>    0.474</td>\n",
       "</tr>\n",
       "<tr>\n",
       "  <th>zipdums[57]</th> <td>    0.7160</td> <td>    0.018</td> <td>   39.909</td> <td> 0.000</td> <td>    0.681</td> <td>    0.751</td>\n",
       "</tr>\n",
       "<tr>\n",
       "  <th>zipdums[58]</th> <td>    0.6630</td> <td>    0.017</td> <td>   39.741</td> <td> 0.000</td> <td>    0.630</td> <td>    0.696</td>\n",
       "</tr>\n",
       "<tr>\n",
       "  <th>zipdums[59]</th> <td>    0.2665</td> <td>    0.018</td> <td>   15.227</td> <td> 0.000</td> <td>    0.232</td> <td>    0.301</td>\n",
       "</tr>\n",
       "<tr>\n",
       "  <th>zipdums[60]</th> <td>    0.1232</td> <td>    0.032</td> <td>    3.905</td> <td> 0.000</td> <td>    0.061</td> <td>    0.185</td>\n",
       "</tr>\n",
       "<tr>\n",
       "  <th>zipdums[61]</th> <td>    0.4298</td> <td>    0.016</td> <td>   27.428</td> <td> 0.000</td> <td>    0.399</td> <td>    0.461</td>\n",
       "</tr>\n",
       "<tr>\n",
       "  <th>zipdums[62]</th> <td>    0.3706</td> <td>    0.018</td> <td>   20.437</td> <td> 0.000</td> <td>    0.335</td> <td>    0.406</td>\n",
       "</tr>\n",
       "<tr>\n",
       "  <th>zipdums[63]</th> <td>    0.0123</td> <td>    0.018</td> <td>    0.688</td> <td> 0.491</td> <td>   -0.023</td> <td>    0.047</td>\n",
       "</tr>\n",
       "<tr>\n",
       "  <th>zipdums[64]</th> <td>    0.6671</td> <td>    0.018</td> <td>   36.810</td> <td> 0.000</td> <td>    0.632</td> <td>    0.703</td>\n",
       "</tr>\n",
       "<tr>\n",
       "  <th>zipdums[65]</th> <td>    0.1325</td> <td>    0.018</td> <td>    7.374</td> <td> 0.000</td> <td>    0.097</td> <td>    0.168</td>\n",
       "</tr>\n",
       "<tr>\n",
       "  <th>zipdums[66]</th> <td>    0.0633</td> <td>    0.022</td> <td>    2.845</td> <td> 0.004</td> <td>    0.020</td> <td>    0.107</td>\n",
       "</tr>\n",
       "<tr>\n",
       "  <th>zipdums[67]</th> <td>    0.0980</td> <td>    0.018</td> <td>    5.559</td> <td> 0.000</td> <td>    0.063</td> <td>    0.133</td>\n",
       "</tr>\n",
       "<tr>\n",
       "  <th>zipdums[68]</th> <td>    0.9055</td> <td>    0.017</td> <td>   53.148</td> <td> 0.000</td> <td>    0.872</td> <td>    0.939</td>\n",
       "</tr>\n",
       "</table>\n",
       "<table class=\"simpletable\">\n",
       "<tr>\n",
       "  <th>Omnibus:</th>       <td>1855.207</td> <th>  Durbin-Watson:     </th> <td>   1.996</td> \n",
       "</tr>\n",
       "<tr>\n",
       "  <th>Prob(Omnibus):</th>  <td> 0.000</td>  <th>  Jarque-Bera (JB):  </th> <td>12232.716</td>\n",
       "</tr>\n",
       "<tr>\n",
       "  <th>Skew:</th>           <td> 0.059</td>  <th>  Prob(JB):          </th> <td>    0.00</td> \n",
       "</tr>\n",
       "<tr>\n",
       "  <th>Kurtosis:</th>       <td> 6.685</td>  <th>  Cond. No.          </th> <td>1.49e+05</td> \n",
       "</tr>\n",
       "</table><br/><br/>Warnings:<br/>[1] Standard Errors assume that the covariance matrix of the errors is correctly specified.<br/>[2] The condition number is large, 1.49e+05. This might indicate that there are<br/>strong multicollinearity or other numerical problems."
      ],
      "text/plain": [
       "<class 'statsmodels.iolib.summary.Summary'>\n",
       "\"\"\"\n",
       "                            OLS Regression Results                            \n",
       "==============================================================================\n",
       "Dep. Variable:               pricelog   R-squared:                       0.824\n",
       "Model:                            OLS   Adj. R-squared:                  0.823\n",
       "Method:                 Least Squares   F-statistic:                     1419.\n",
       "Date:                Sun, 01 Dec 2019   Prob (F-statistic):               0.00\n",
       "Time:                        14:53:19   Log-Likelihood:                 1968.0\n",
       "No. Observations:               21597   AIC:                            -3792.\n",
       "Df Residuals:                   21525   BIC:                            -3217.\n",
       "Df Model:                          71                                         \n",
       "Covariance Type:            nonrobust                                         \n",
       "===============================================================================\n",
       "                  coef    std err          t      P>|t|      [0.025      0.975]\n",
       "-------------------------------------------------------------------------------\n",
       "Intercept      11.8076      0.012    951.686      0.000      11.783      11.832\n",
       "bathrooms       0.0358      0.003     11.703      0.000       0.030       0.042\n",
       "sqft_living     0.0003   2.64e-06    121.965      0.000       0.000       0.000\n",
       "zipdums[0]     -0.0603      0.020     -3.085      0.002      -0.099      -0.022\n",
       "zipdums[1]      0.0374      0.018      2.121      0.034       0.003       0.072\n",
       "zipdums[2]      1.1732      0.017     68.477      0.000       1.140       1.207\n",
       "zipdums[3]      0.8096      0.021     39.092      0.000       0.769       0.850\n",
       "zipdums[4]      0.7327      0.015     47.576      0.000       0.703       0.763\n",
       "zipdums[5]      0.6977      0.022     31.745      0.000       0.655       0.741\n",
       "zipdums[6]      0.7085      0.018     40.318      0.000       0.674       0.743\n",
       "zipdums[7]      0.2825      0.025     11.297      0.000       0.234       0.332\n",
       "zipdums[8]      0.4591      0.020     23.332      0.000       0.420       0.498\n",
       "zipdums[9]      0.3346      0.023     14.523      0.000       0.289       0.380\n",
       "zipdums[10]     0.3253      0.020     16.397      0.000       0.286       0.364\n",
       "zipdums[11]     0.1362      0.019      7.327      0.000       0.100       0.173\n",
       "zipdums[12]    -0.0102      0.015     -0.665      0.506      -0.040       0.020\n",
       "zipdums[13]     0.4792      0.027     17.518      0.000       0.426       0.533\n",
       "zipdums[14]     0.5458      0.016     34.128      0.000       0.514       0.577\n",
       "zipdums[15]     0.4313      0.018     24.545      0.000       0.397       0.466\n",
       "zipdums[16]     0.6430      0.017     37.778      0.000       0.610       0.676\n",
       "zipdums[17]     0.0513      0.018      2.838      0.005       0.016       0.087\n",
       "zipdums[18]     0.0778      0.018      4.384      0.000       0.043       0.113\n",
       "zipdums[19]    -0.0306      0.023     -1.334      0.182      -0.076       0.014\n",
       "zipdums[20]     0.8276      0.016     52.372      0.000       0.797       0.859\n",
       "zipdums[21]     0.5550      0.015     36.961      0.000       0.526       0.584\n",
       "zipdums[22]     0.1761      0.015     11.890      0.000       0.147       0.205\n",
       "zipdums[23]     1.3233      0.034     39.424      0.000       1.258       1.389\n",
       "zipdums[24]     0.9970      0.018     56.259      0.000       0.962       1.032\n",
       "zipdums[25]     0.0758      0.015      5.054      0.000       0.046       0.105\n",
       "zipdums[26]     0.3648      0.019     19.273      0.000       0.328       0.402\n",
       "zipdums[27]     0.6814      0.015     45.769      0.000       0.652       0.711\n",
       "zipdums[28]     0.6178      0.016     38.403      0.000       0.586       0.649\n",
       "zipdums[29]     0.1270      0.018      7.117      0.000       0.092       0.162\n",
       "zipdums[30]     0.3271      0.016     20.435      0.000       0.296       0.358\n",
       "zipdums[31]     0.1796      0.016     11.513      0.000       0.149       0.210\n",
       "zipdums[32]     0.3585      0.016     23.091      0.000       0.328       0.389\n",
       "zipdums[33]     0.3977      0.017     23.110      0.000       0.364       0.431\n",
       "zipdums[34]     0.5412      0.024     22.991      0.000       0.495       0.587\n",
       "zipdums[35]     0.5404      0.018     30.411      0.000       0.506       0.575\n",
       "zipdums[36]     0.6321      0.016     40.102      0.000       0.601       0.663\n",
       "zipdums[37]     0.6585      0.017     39.631      0.000       0.626       0.691\n",
       "zipdums[38]     0.5469      0.020     27.832      0.000       0.508       0.585\n",
       "zipdums[39]     0.0702      0.017      4.229      0.000       0.038       0.103\n",
       "zipdums[40]     0.9779      0.025     39.701      0.000       0.930       1.026\n",
       "zipdums[41]     0.8131      0.015     55.172      0.000       0.784       0.842\n",
       "zipdums[42]     0.9811      0.019     52.469      0.000       0.944       1.018\n",
       "zipdums[43]     0.2761      0.017     16.432      0.000       0.243       0.309\n",
       "zipdums[44]     0.8372      0.018     46.761      0.000       0.802       0.872\n",
       "zipdums[45]     0.3092      0.020     15.478      0.000       0.270       0.348\n",
       "zipdums[46]     1.0387      0.024     42.948      0.000       0.991       1.086\n",
       "zipdums[47]     1.0820      0.018     60.600      0.000       1.047       1.117\n",
       "zipdums[48]     0.8121      0.015     54.788      0.000       0.783       0.841\n",
       "zipdums[49]     0.7920      0.017     46.995      0.000       0.759       0.825\n",
       "zipdums[50]     0.7994      0.015     53.374      0.000       0.770       0.829\n",
       "zipdums[51]     0.4278      0.015     28.057      0.000       0.398       0.458\n",
       "zipdums[52]     1.0266      0.020     51.205      0.000       0.987       1.066\n",
       "zipdums[53]     0.8265      0.017     47.355      0.000       0.792       0.861\n",
       "zipdums[54]     0.5616      0.016     35.133      0.000       0.530       0.593\n",
       "zipdums[55]     0.5306      0.017     32.028      0.000       0.498       0.563\n",
       "zipdums[56]     0.4442      0.015     28.956      0.000       0.414       0.474\n",
       "zipdums[57]     0.7160      0.018     39.909      0.000       0.681       0.751\n",
       "zipdums[58]     0.6630      0.017     39.741      0.000       0.630       0.696\n",
       "zipdums[59]     0.2665      0.018     15.227      0.000       0.232       0.301\n",
       "zipdums[60]     0.1232      0.032      3.905      0.000       0.061       0.185\n",
       "zipdums[61]     0.4298      0.016     27.428      0.000       0.399       0.461\n",
       "zipdums[62]     0.3706      0.018     20.437      0.000       0.335       0.406\n",
       "zipdums[63]     0.0123      0.018      0.688      0.491      -0.023       0.047\n",
       "zipdums[64]     0.6671      0.018     36.810      0.000       0.632       0.703\n",
       "zipdums[65]     0.1325      0.018      7.374      0.000       0.097       0.168\n",
       "zipdums[66]     0.0633      0.022      2.845      0.004       0.020       0.107\n",
       "zipdums[67]     0.0980      0.018      5.559      0.000       0.063       0.133\n",
       "zipdums[68]     0.9055      0.017     53.148      0.000       0.872       0.939\n",
       "==============================================================================\n",
       "Omnibus:                     1855.207   Durbin-Watson:                   1.996\n",
       "Prob(Omnibus):                  0.000   Jarque-Bera (JB):            12232.716\n",
       "Skew:                           0.059   Prob(JB):                         0.00\n",
       "Kurtosis:                       6.685   Cond. No.                     1.49e+05\n",
       "==============================================================================\n",
       "\n",
       "Warnings:\n",
       "[1] Standard Errors assume that the covariance matrix of the errors is correctly specified.\n",
       "[2] The condition number is large, 1.49e+05. This might indicate that there are\n",
       "strong multicollinearity or other numerical problems.\n",
       "\"\"\""
      ]
     },
     "execution_count": 605,
     "metadata": {},
     "output_type": "execute_result"
    }
   ],
   "source": [
    "lr_model.summary()"
   ]
  },
  {
   "cell_type": "code",
   "execution_count": null,
   "metadata": {},
   "outputs": [],
   "source": []
  }
 ],
 "metadata": {
  "kernelspec": {
   "display_name": "Python 3",
   "language": "python",
   "name": "python3"
  },
  "language_info": {
   "codemirror_mode": {
    "name": "ipython",
    "version": 3
   },
   "file_extension": ".py",
   "mimetype": "text/x-python",
   "name": "python",
   "nbconvert_exporter": "python",
   "pygments_lexer": "ipython3",
   "version": "3.7.4"
  }
 },
 "nbformat": 4,
 "nbformat_minor": 2
}
